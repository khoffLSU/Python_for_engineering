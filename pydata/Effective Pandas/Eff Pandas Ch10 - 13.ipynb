{
 "cells": [
  {
   "cell_type": "markdown",
   "id": "322ee7c2",
   "metadata": {},
   "source": [
    "# Effective Pandas\n",
    "Starting from Chapter 10, and progressing until the notebook length becomes challenging.  Likely 200-300 lines of code across a number of cell.  Initiate notebook with data sets being leveraged in prior notebooks to facilitate continuation.\n",
    "\n",
    "- Car data notebook with mpg data\n",
    "- World cup history datasource\n",
    "\n",
    "### Imports\n",
    "Minimum imports to follow allong are pandas and numpy.  Potential to add matplotlib at a later point.  Unclear if this is needed at this time."
   ]
  },
  {
   "cell_type": "code",
   "execution_count": 1,
   "id": "f949d81b",
   "metadata": {},
   "outputs": [],
   "source": [
    "import pandas as pd\n",
    "import numpy as np"
   ]
  },
  {
   "cell_type": "markdown",
   "id": "dd951d55",
   "metadata": {},
   "source": [
    "### Datasets"
   ]
  },
  {
   "cell_type": "code",
   "execution_count": 2,
   "id": "0ebbaa00",
   "metadata": {},
   "outputs": [
    {
     "name": "stderr",
     "output_type": "stream",
     "text": [
      "c:\\users\\knhoffm\\.virtualenvs\\python_for_engineer_science\\lib\\site-packages\\IPython\\core\\interactiveshell.py:3378: DtypeWarning: Columns (70,71,72,73,74,76,79) have mixed types.Specify dtype option on import or set low_memory=False.\n",
      "  exec(code_obj, self.user_global_ns, self.user_ns)\n"
     ]
    }
   ],
   "source": [
    "cars = pd.read_csv(\"vehicles.csv\")"
   ]
  },
  {
   "cell_type": "code",
   "execution_count": 3,
   "id": "036f2715",
   "metadata": {},
   "outputs": [],
   "source": [
    "fifa = pd.read_csv(\"international_matches.csv\")"
   ]
  },
  {
   "cell_type": "markdown",
   "id": "62270220",
   "metadata": {},
   "source": [
    "### Column break out\n",
    "During the prior chapters a few columns have been broken out by the author to conduct Serie specific work.  These will be extracted away from the cars dataset."
   ]
  },
  {
   "cell_type": "code",
   "execution_count": 4,
   "id": "0e363f6d",
   "metadata": {},
   "outputs": [],
   "source": [
    "city_mpg = cars.city08\n",
    "hwy_mpg = cars.highway08"
   ]
  },
  {
   "cell_type": "code",
   "execution_count": 5,
   "id": "543b53cf",
   "metadata": {},
   "outputs": [],
   "source": [
    "make = cars.make"
   ]
  },
  {
   "cell_type": "markdown",
   "id": "5336cc0c",
   "metadata": {},
   "source": [
    "## Ch10 Indexing operations\n",
    "Indexing is everywhere in pandas, and it is an overloaded term in general.  This multi meaning reality means it is very flexible, but also somewhat complex to keep track off as you navigate methods in the library.  In this section the goal is to introduce changing the index and accessing through the many different options which are available.\n",
    "\n",
    "### Prepping data and renaming the index\n",
    "The understanding of the many various indexing operations is challenging if the index is the default integer based (0,1,...n) structure since there does not seem to be a difference between the numeric access and the label access with this index structure.  To help demonstrate the method, the index will be modified to be a string type for the city_mpg data."
   ]
  },
  {
   "cell_type": "code",
   "execution_count": 6,
   "id": "b5b2b14a",
   "metadata": {},
   "outputs": [],
   "source": [
    "# rename is a method which allows the index to be updated or the name of the index to be updated\n",
    "# in the former you pass a scalar singular value, in the later an equal length array\n",
    "# the .to_dict() method maps the make column to the current index (i.e. {0: 'Subaru', 1:'Ford'})\n",
    "city2 = city_mpg.rename(make.to_dict())"
   ]
  },
  {
   "cell_type": "code",
   "execution_count": 7,
   "id": "c7b2f16d",
   "metadata": {},
   "outputs": [
    {
     "data": {
      "text/plain": [
       "Index(['Alfa Romeo', 'Ferrari', 'Dodge', 'Dodge', 'Subaru', 'Subaru', 'Subaru',\n",
       "       'Toyota', 'Toyota', 'Toyota',\n",
       "       ...\n",
       "       'Saab', 'Saturn', 'Saturn', 'Saturn', 'Saturn', 'Subaru', 'Subaru',\n",
       "       'Subaru', 'Subaru', 'Subaru'],\n",
       "      dtype='object', length=45644)"
      ]
     },
     "execution_count": 7,
     "metadata": {},
     "output_type": "execute_result"
    }
   ],
   "source": [
    "city2.index"
   ]
  },
  {
   "cell_type": "code",
   "execution_count": 8,
   "id": "3ef03292",
   "metadata": {},
   "outputs": [
    {
     "data": {
      "text/plain": [
       "Alfa Romeo    19\n",
       "Ferrari        9\n",
       "Dodge         23\n",
       "Dodge         10\n",
       "Subaru        17\n",
       "              ..\n",
       "Subaru        19\n",
       "Subaru        20\n",
       "Subaru        18\n",
       "Subaru        18\n",
       "Subaru        16\n",
       "Name: city08, Length: 45644, dtype: int64"
      ]
     },
     "execution_count": 8,
     "metadata": {},
     "output_type": "execute_result"
    }
   ],
   "source": [
    "# alternative method if the indexes are the same (size and mapping)\n",
    "city2 = city_mpg.rename(make)\n",
    "city2"
   ]
  },
  {
   "cell_type": "markdown",
   "id": "cf2a3b8d",
   "metadata": {},
   "source": [
    "### Resetting the index\n",
    "Sometimes operations will require a unique index.  In these instances you can reset to a monotonic increasing index with the reset_index() method."
   ]
  },
  {
   "cell_type": "code",
   "execution_count": 9,
   "id": "be1f9b60",
   "metadata": {},
   "outputs": [
    {
     "data": {
      "text/html": [
       "<div>\n",
       "<style scoped>\n",
       "    .dataframe tbody tr th:only-of-type {\n",
       "        vertical-align: middle;\n",
       "    }\n",
       "\n",
       "    .dataframe tbody tr th {\n",
       "        vertical-align: top;\n",
       "    }\n",
       "\n",
       "    .dataframe thead th {\n",
       "        text-align: right;\n",
       "    }\n",
       "</style>\n",
       "<table border=\"1\" class=\"dataframe\">\n",
       "  <thead>\n",
       "    <tr style=\"text-align: right;\">\n",
       "      <th></th>\n",
       "      <th>index</th>\n",
       "      <th>city08</th>\n",
       "    </tr>\n",
       "  </thead>\n",
       "  <tbody>\n",
       "    <tr>\n",
       "      <th>0</th>\n",
       "      <td>Alfa Romeo</td>\n",
       "      <td>19</td>\n",
       "    </tr>\n",
       "    <tr>\n",
       "      <th>1</th>\n",
       "      <td>Ferrari</td>\n",
       "      <td>9</td>\n",
       "    </tr>\n",
       "    <tr>\n",
       "      <th>2</th>\n",
       "      <td>Dodge</td>\n",
       "      <td>23</td>\n",
       "    </tr>\n",
       "    <tr>\n",
       "      <th>3</th>\n",
       "      <td>Dodge</td>\n",
       "      <td>10</td>\n",
       "    </tr>\n",
       "    <tr>\n",
       "      <th>4</th>\n",
       "      <td>Subaru</td>\n",
       "      <td>17</td>\n",
       "    </tr>\n",
       "    <tr>\n",
       "      <th>...</th>\n",
       "      <td>...</td>\n",
       "      <td>...</td>\n",
       "    </tr>\n",
       "    <tr>\n",
       "      <th>45639</th>\n",
       "      <td>Subaru</td>\n",
       "      <td>19</td>\n",
       "    </tr>\n",
       "    <tr>\n",
       "      <th>45640</th>\n",
       "      <td>Subaru</td>\n",
       "      <td>20</td>\n",
       "    </tr>\n",
       "    <tr>\n",
       "      <th>45641</th>\n",
       "      <td>Subaru</td>\n",
       "      <td>18</td>\n",
       "    </tr>\n",
       "    <tr>\n",
       "      <th>45642</th>\n",
       "      <td>Subaru</td>\n",
       "      <td>18</td>\n",
       "    </tr>\n",
       "    <tr>\n",
       "      <th>45643</th>\n",
       "      <td>Subaru</td>\n",
       "      <td>16</td>\n",
       "    </tr>\n",
       "  </tbody>\n",
       "</table>\n",
       "<p>45644 rows × 2 columns</p>\n",
       "</div>"
      ],
      "text/plain": [
       "            index  city08\n",
       "0      Alfa Romeo      19\n",
       "1         Ferrari       9\n",
       "2           Dodge      23\n",
       "3           Dodge      10\n",
       "4          Subaru      17\n",
       "...           ...     ...\n",
       "45639      Subaru      19\n",
       "45640      Subaru      20\n",
       "45641      Subaru      18\n",
       "45642      Subaru      18\n",
       "45643      Subaru      16\n",
       "\n",
       "[45644 rows x 2 columns]"
      ]
     },
     "execution_count": 9,
     "metadata": {},
     "output_type": "execute_result"
    }
   ],
   "source": [
    "# default keeps current index and returns a DataFrame\n",
    "city2.reset_index()"
   ]
  },
  {
   "cell_type": "code",
   "execution_count": 10,
   "id": "a6e369fa",
   "metadata": {},
   "outputs": [
    {
     "data": {
      "text/plain": [
       "0        19\n",
       "1         9\n",
       "2        23\n",
       "3        10\n",
       "4        17\n",
       "         ..\n",
       "45639    19\n",
       "45640    20\n",
       "45641    18\n",
       "45642    18\n",
       "45643    16\n",
       "Name: city08, Length: 45644, dtype: int64"
      ]
     },
     "execution_count": 10,
     "metadata": {},
     "output_type": "execute_result"
    }
   ],
   "source": [
    "# drop the current index for a series output\n",
    "city2.reset_index(drop=True)"
   ]
  },
  {
   "cell_type": "code",
   "execution_count": 11,
   "id": "6f847f4c",
   "metadata": {},
   "outputs": [
    {
     "data": {
      "text/html": [
       "<div>\n",
       "<style scoped>\n",
       "    .dataframe tbody tr th:only-of-type {\n",
       "        vertical-align: middle;\n",
       "    }\n",
       "\n",
       "    .dataframe tbody tr th {\n",
       "        vertical-align: top;\n",
       "    }\n",
       "\n",
       "    .dataframe thead th {\n",
       "        text-align: right;\n",
       "    }\n",
       "</style>\n",
       "<table border=\"1\" class=\"dataframe\">\n",
       "  <thead>\n",
       "    <tr style=\"text-align: right;\">\n",
       "      <th></th>\n",
       "      <th>Make</th>\n",
       "      <th>city08</th>\n",
       "    </tr>\n",
       "  </thead>\n",
       "  <tbody>\n",
       "    <tr>\n",
       "      <th>0</th>\n",
       "      <td>Alfa Romeo</td>\n",
       "      <td>19</td>\n",
       "    </tr>\n",
       "    <tr>\n",
       "      <th>1</th>\n",
       "      <td>Ferrari</td>\n",
       "      <td>9</td>\n",
       "    </tr>\n",
       "    <tr>\n",
       "      <th>2</th>\n",
       "      <td>Dodge</td>\n",
       "      <td>23</td>\n",
       "    </tr>\n",
       "    <tr>\n",
       "      <th>3</th>\n",
       "      <td>Dodge</td>\n",
       "      <td>10</td>\n",
       "    </tr>\n",
       "    <tr>\n",
       "      <th>4</th>\n",
       "      <td>Subaru</td>\n",
       "      <td>17</td>\n",
       "    </tr>\n",
       "    <tr>\n",
       "      <th>...</th>\n",
       "      <td>...</td>\n",
       "      <td>...</td>\n",
       "    </tr>\n",
       "    <tr>\n",
       "      <th>45639</th>\n",
       "      <td>Subaru</td>\n",
       "      <td>19</td>\n",
       "    </tr>\n",
       "    <tr>\n",
       "      <th>45640</th>\n",
       "      <td>Subaru</td>\n",
       "      <td>20</td>\n",
       "    </tr>\n",
       "    <tr>\n",
       "      <th>45641</th>\n",
       "      <td>Subaru</td>\n",
       "      <td>18</td>\n",
       "    </tr>\n",
       "    <tr>\n",
       "      <th>45642</th>\n",
       "      <td>Subaru</td>\n",
       "      <td>18</td>\n",
       "    </tr>\n",
       "    <tr>\n",
       "      <th>45643</th>\n",
       "      <td>Subaru</td>\n",
       "      <td>16</td>\n",
       "    </tr>\n",
       "  </tbody>\n",
       "</table>\n",
       "<p>45644 rows × 2 columns</p>\n",
       "</div>"
      ],
      "text/plain": [
       "             Make  city08\n",
       "0      Alfa Romeo      19\n",
       "1         Ferrari       9\n",
       "2           Dodge      23\n",
       "3           Dodge      10\n",
       "4          Subaru      17\n",
       "...           ...     ...\n",
       "45639      Subaru      19\n",
       "45640      Subaru      20\n",
       "45641      Subaru      18\n",
       "45642      Subaru      18\n",
       "45643      Subaru      16\n",
       "\n",
       "[45644 rows x 2 columns]"
      ]
     },
     "execution_count": 11,
     "metadata": {},
     "output_type": "execute_result"
    }
   ],
   "source": [
    "# rename and keep the string column\n",
    "(city2\n",
    " .rename_axis('Make')\n",
    " .reset_index()\n",
    ")"
   ]
  },
  {
   "cell_type": "markdown",
   "id": "2772e74e",
   "metadata": {},
   "source": [
    "### Accessing data with .loc attribute\n",
    "The .loc attribute allows data to be accessed by label, and can be very handy with the correct type of index. This can also be achieved with masking if the information is already in the dataset, but the .loc attribute is a very intuitive process.  Using .loc is a much more explicit process than standard indexing, and helps others understand your code.  Ways to use .loc:\n",
    "- A scalar index entry\n",
    "- A list of index labels\n",
    "- A slice of labels (closed interval required with stop value)\n",
    "- An index\n",
    "- A boolean array (same index labels, but with true or false as data value)\n",
    "- A function that accepts a series and returns one of the above"
   ]
  },
  {
   "cell_type": "code",
   "execution_count": 12,
   "id": "fe68aae4",
   "metadata": {},
   "outputs": [
    {
     "data": {
      "text/plain": [
       "Subaru    17\n",
       "Subaru    21\n",
       "Subaru    22\n",
       "Subaru    19\n",
       "Subaru    20\n",
       "          ..\n",
       "Subaru    19\n",
       "Subaru    20\n",
       "Subaru    18\n",
       "Subaru    18\n",
       "Subaru    16\n",
       "Name: city08, Length: 974, dtype: int64"
      ]
     },
     "execution_count": 12,
     "metadata": {},
     "output_type": "execute_result"
    }
   ],
   "source": [
    "# Scalar value returns only matching index labels, multiple entries yeilds a Series, but on yields a scalar\n",
    "city2.loc['Subaru']"
   ]
  },
  {
   "cell_type": "code",
   "execution_count": 13,
   "id": "88db9b29",
   "metadata": {},
   "outputs": [
    {
     "data": {
      "text/plain": [
       "20"
      ]
     },
     "execution_count": 13,
     "metadata": {},
     "output_type": "execute_result"
    }
   ],
   "source": [
    "# Scalar output\n",
    "city2.loc['Fisker']"
   ]
  },
  {
   "cell_type": "code",
   "execution_count": 14,
   "id": "6f921170",
   "metadata": {},
   "outputs": [
    {
     "data": {
      "text/plain": [
       "Fisker    20\n",
       "Name: city08, dtype: int64"
      ]
     },
     "execution_count": 14,
     "metadata": {},
     "output_type": "execute_result"
    }
   ],
   "source": [
    "# overriding this behavior with a list entry\n",
    "city2.loc[['Fisker']]"
   ]
  },
  {
   "cell_type": "code",
   "execution_count": 15,
   "id": "e697f3d5",
   "metadata": {},
   "outputs": [
    {
     "data": {
      "text/plain": [
       "Ferrari         9\n",
       "Ferrari        12\n",
       "Ferrari        11\n",
       "Ferrari        10\n",
       "Ferrari        11\n",
       "               ..\n",
       "Lamborghini     6\n",
       "Lamborghini     8\n",
       "Lamborghini     8\n",
       "Lamborghini     8\n",
       "Lamborghini     8\n",
       "Name: city08, Length: 419, dtype: int64"
      ]
     },
     "execution_count": 15,
     "metadata": {},
     "output_type": "execute_result"
    }
   ],
   "source": [
    "# works for multiples as well\n",
    "city2.loc[['Ferrari', 'Lamborghini']]"
   ]
  },
  {
   "cell_type": "markdown",
   "id": "e61bda3b",
   "metadata": {},
   "source": [
    "> **Note:** Slicing is allowed, but if you do not sort the index first, it will throw a key error, or return something incorrect relative to the desired query"
   ]
  },
  {
   "cell_type": "code",
   "execution_count": 16,
   "id": "a209e27c",
   "metadata": {},
   "outputs": [
    {
     "name": "stdout",
     "output_type": "stream",
     "text": [
      "Key error\n"
     ]
    }
   ],
   "source": [
    "# Use try except to avoid stoping notebook execution, notice this is a closed interval\n",
    "try:\n",
    "    city2.loc['Ferrari': 'Lamborghini']\n",
    "except:\n",
    "    print('Key error')"
   ]
  },
  {
   "cell_type": "code",
   "execution_count": 17,
   "id": "961e8c28",
   "metadata": {},
   "outputs": [
    {
     "data": {
      "text/plain": [
       "Ferrari        11\n",
       "Ferrari        16\n",
       "Ferrari        15\n",
       "Ferrari        17\n",
       "Ferrari        11\n",
       "               ..\n",
       "Lamborghini     8\n",
       "Lamborghini     8\n",
       "Lamborghini     9\n",
       "Lamborghini    13\n",
       "Lamborghini    13\n",
       "Name: city08, Length: 12483, dtype: int64"
      ]
     },
     "execution_count": 17,
     "metadata": {},
     "output_type": "execute_result"
    }
   ],
   "source": [
    "# correct method\n",
    "city2.sort_index().loc['Ferrari': 'Lamborghini']"
   ]
  },
  {
   "cell_type": "code",
   "execution_count": 18,
   "id": "23078062",
   "metadata": {},
   "outputs": [
    {
     "data": {
      "text/plain": [
       "Federal Coach    13\n",
       "Federal Coach    13\n",
       "Federal Coach    13\n",
       "Federal Coach    13\n",
       "Federal Coach    13\n",
       "                 ..\n",
       "Isuzu            15\n",
       "Isuzu            14\n",
       "Isuzu            15\n",
       "Isuzu            14\n",
       "Isuzu            15\n",
       "Name: city08, Length: 9949, dtype: int64"
      ]
     },
     "execution_count": 18,
     "metadata": {},
     "output_type": "execute_result"
    }
   ],
   "source": [
    "# partial labels work also.  \n",
    "# Yeilds everything starting with F up to items labeled as J (only J), includes  labels starting with GHI as well\n",
    "city2.sort_index().loc['F':'J']"
   ]
  },
  {
   "cell_type": "markdown",
   "id": "9bf1431e",
   "metadata": {},
   "source": [
    "> **Note**: Indexing with a pandas index is also posible, but there are some catches, especially if there are duplicate values.  This is most often useful when trying to align one pandas element to another after filtering the first."
   ]
  },
  {
   "cell_type": "code",
   "execution_count": 19,
   "id": "52b7360c",
   "metadata": {},
   "outputs": [
    {
     "data": {
      "text/plain": [
       "Dodge    23\n",
       "Dodge    10\n",
       "Dodge    12\n",
       "Dodge    11\n",
       "Dodge    11\n",
       "         ..\n",
       "Dodge    18\n",
       "Dodge    17\n",
       "Dodge    14\n",
       "Dodge    14\n",
       "Dodge    11\n",
       "Name: city08, Length: 2659, dtype: int64"
      ]
     },
     "execution_count": 19,
     "metadata": {},
     "output_type": "execute_result"
    }
   ],
   "source": [
    "# create an index object for pandas using a label based index\n",
    "idx = pd.Index(['Dodge'])\n",
    "# pass the index into the .loc attribute, yielding 2659 elements\n",
    "city2.loc[idx]"
   ]
  },
  {
   "cell_type": "code",
   "execution_count": 20,
   "id": "9055581f",
   "metadata": {},
   "outputs": [
    {
     "data": {
      "text/plain": [
       "5318"
      ]
     },
     "execution_count": 20,
     "metadata": {},
     "output_type": "execute_result"
    }
   ],
   "source": [
    "# warning, if Dodge was duplicated, you would duplicate all the values\n",
    "idx = pd.Index(['Dodge', 'Dodge'])\n",
    "len(city2.loc[idx])"
   ]
  },
  {
   "cell_type": "markdown",
   "id": "91c9df91",
   "metadata": {},
   "source": [
    "**Fancy Indexing** with boolean arrays is also possible with the .loc attribute.  In this case, the returned Series is filter on True values only after a logic statement is evaluated."
   ]
  },
  {
   "cell_type": "code",
   "execution_count": 21,
   "id": "4d5a0941",
   "metadata": {},
   "outputs": [
    {
     "data": {
      "text/plain": [
       "Nissan         81\n",
       "Toyota         81\n",
       "Toyota         81\n",
       "Ford           74\n",
       "Nissan         84\n",
       "             ... \n",
       "Volkswagen    104\n",
       "Volkswagen    104\n",
       "Volkswagen    115\n",
       "Volkswagen    115\n",
       "Volkswagen    115\n",
       "Name: city08, Length: 529, dtype: int64"
      ]
     },
     "execution_count": 21,
     "metadata": {},
     "output_type": "execute_result"
    }
   ],
   "source": [
    "# passing a logic statement to filter the data, 529 entries\n",
    "city2.loc[city2 > 50]"
   ]
  },
  {
   "cell_type": "markdown",
   "id": "d5e5c5b0",
   "metadata": {},
   "source": [
    "#### Function indexing with .loc\n",
    "Using a function within the .loc attribute is the last method that can be used to filter the data.  This process can be extremely handy when trying to apply a number of logic checks across a record in a dataframe.  While on a series it is somewhat overkill, and example will provide some context."
   ]
  },
  {
   "cell_type": "code",
   "execution_count": 22,
   "id": "e9d31eba",
   "metadata": {},
   "outputs": [
    {
     "data": {
      "text/plain": [
       "Melon      4.389\n",
       "Carrots    3.069\n",
       "dtype: float64"
      ]
     },
     "execution_count": 22,
     "metadata": {},
     "output_type": "execute_result"
    }
   ],
   "source": [
    "# Old pricing data from prior year needs to be inflated 10% then checked for anything greater than $3\n",
    "cost = pd.Series([1.00, 2.25, 3.99, 0.99, 2.79], index=['Gum', 'Cookie', 'Melon', 'Roll', 'Carrots'])\n",
    "inflation = 1.10\n",
    "(cost\n",
    " .mul(inflation)\n",
    " .loc[lambda x: x>3.00]\n",
    ")\n",
    "\n",
    "# could have defined a function as well, so def gt3(s): return s>3, then passed .loc[gt3] in place of lambda"
   ]
  },
  {
   "cell_type": "markdown",
   "id": "07a618f9",
   "metadata": {},
   "source": [
    "### The .iloc attribute\n",
    "Similar to the .loc attribute in some ways, this is a monotomically increasing index based process.  Even if your index is string based, iloc using the numeric position to index your Series or DataFrame.  iloc takes the following types of indexers:\n",
    "- Scalar input value (integer)\n",
    "- List of index positions (integer)\n",
    "- Slice of index positions (integers, half open interval to last value excluded)\n",
    "- Numpy array or Python list of Boolean values (mask)\n",
    "- Function that accepts a series and returns one of the above options"
   ]
  },
  {
   "cell_type": "code",
   "execution_count": 23,
   "id": "ccae39ae",
   "metadata": {},
   "outputs": [
    {
     "data": {
      "text/plain": [
       "(19, 16)"
      ]
     },
     "execution_count": 23,
     "metadata": {},
     "output_type": "execute_result"
    }
   ],
   "source": [
    "# Scalar entry and return\n",
    "city2[0], city2[-1]"
   ]
  },
  {
   "cell_type": "code",
   "execution_count": 24,
   "id": "caf06072",
   "metadata": {},
   "outputs": [
    {
     "data": {
      "text/plain": [
       "Alfa Romeo    19\n",
       "Name: city08, dtype: int64"
      ]
     },
     "execution_count": 24,
     "metadata": {},
     "output_type": "execute_result"
    }
   ],
   "source": [
    "# List entry, Series return even with on value\n",
    "city2[[0]]"
   ]
  },
  {
   "cell_type": "code",
   "execution_count": 25,
   "id": "b9facec6",
   "metadata": {},
   "outputs": [
    {
     "data": {
      "text/plain": [
       "Alfa Romeo    19\n",
       "Ferrari        9\n",
       "Dodge         23\n",
       "Dodge         10\n",
       "Name: city08, dtype: int64"
      ]
     },
     "execution_count": 25,
     "metadata": {},
     "output_type": "execute_result"
    }
   ],
   "source": [
    "# List entry multi value request\n",
    "city2[[0, 1, 2, 3]]"
   ]
  },
  {
   "cell_type": "code",
   "execution_count": 26,
   "id": "a7d8bca6",
   "metadata": {},
   "outputs": [
    {
     "data": {
      "text/plain": [
       "Alfa Romeo    19\n",
       "Ferrari        9\n",
       "Dodge         23\n",
       "Dodge         10\n",
       "Subaru        17\n",
       "Name: city08, dtype: int64"
      ]
     },
     "execution_count": 26,
     "metadata": {},
     "output_type": "execute_result"
    }
   ],
   "source": [
    "# Slice\n",
    "city2.iloc[0:5]"
   ]
  },
  {
   "cell_type": "markdown",
   "id": "97a10039",
   "metadata": {},
   "source": [
    "> **Note**: Boolean masking with fancy indexing is a bit more complicated with the iloc attribute, because a string based boolean array will fail.  To overcome this a python list or numpy array must be used."
   ]
  },
  {
   "cell_type": "code",
   "execution_count": 27,
   "id": "8ba13ee8",
   "metadata": {},
   "outputs": [
    {
     "name": "stdout",
     "output_type": "stream",
     "text": [
      "Non integer based index doesn't work with iloc, try np.array(city2 > 50)\n"
     ]
    }
   ],
   "source": [
    "# standard mask approach\n",
    "try:\n",
    "    city2.iloc[city2 > 50]\n",
    "except:\n",
    "    print(\"Non integer based index doesn't work with iloc, try np.array(city2 > 50)\")"
   ]
  },
  {
   "cell_type": "code",
   "execution_count": 28,
   "id": "ae57ad87",
   "metadata": {},
   "outputs": [
    {
     "data": {
      "text/plain": [
       "Nissan         81\n",
       "Toyota         81\n",
       "Toyota         81\n",
       "Ford           74\n",
       "Nissan         84\n",
       "             ... \n",
       "Volkswagen    104\n",
       "Volkswagen    104\n",
       "Volkswagen    115\n",
       "Volkswagen    115\n",
       "Volkswagen    115\n",
       "Name: city08, Length: 529, dtype: int64"
      ]
     },
     "execution_count": 28,
     "metadata": {},
     "output_type": "execute_result"
    }
   ],
   "source": [
    "city2.iloc[np.array(city2 > 50)]"
   ]
  },
  {
   "cell_type": "code",
   "execution_count": 29,
   "id": "82e27a40",
   "metadata": {},
   "outputs": [
    {
     "data": {
      "text/plain": [
       "Toyota    1.265625\n",
       "Toyota    1.024390\n",
       "Toyota    1.265625\n",
       "Ford      1.275862\n",
       "Ford      1.363636\n",
       "            ...   \n",
       "Honda     1.194444\n",
       "Honda     1.176471\n",
       "Toyota    1.078947\n",
       "Toyota    1.081081\n",
       "Toyota    1.085714\n",
       "Length: 699, dtype: float64"
      ]
     },
     "execution_count": 29,
     "metadata": {},
     "output_type": "execute_result"
    }
   ],
   "source": [
    "# function call that returns a Series with interger index, not worth the effort\n",
    "def gt05(S):\n",
    "    return S > 1.0\n",
    "\n",
    "(city2\n",
    " .div(hwy_mpg.rename(make.to_dict()), fill_value=0)\n",
    " .iloc[np.array(gt05(city2.div(hwy_mpg.rename(make.to_dict()))))]\n",
    ")"
   ]
  },
  {
   "cell_type": "markdown",
   "id": "0a1cefcd",
   "metadata": {},
   "source": [
    "#### Head, Tail, and Sample\n",
    "Three methods to inspect portions of the data. "
   ]
  },
  {
   "cell_type": "code",
   "execution_count": 30,
   "id": "9b959be3",
   "metadata": {},
   "outputs": [
    {
     "data": {
      "text/plain": [
       "(Alfa Romeo    19\n",
       " Ferrari        9\n",
       " Dodge         23\n",
       " Name: city08, dtype: int64,\n",
       " Subaru    18\n",
       " Subaru    18\n",
       " Subaru    16\n",
       " Name: city08, dtype: int64,\n",
       " Pontiac     15\n",
       " Geo         22\n",
       " Kia         14\n",
       " Toyota      16\n",
       " Plymouth    17\n",
       " GMC         12\n",
       " Name: city08, dtype: int64)"
      ]
     },
     "execution_count": 30,
     "metadata": {},
     "output_type": "execute_result"
    }
   ],
   "source": [
    "city2.head(3), city2.tail(3), city2.sample(6, random_state=42)"
   ]
  },
  {
   "cell_type": "markdown",
   "id": "5a0d3ca3",
   "metadata": {},
   "source": [
    "### Filtering Index Values\n",
    "There is a built in filter method that can be used to further customize how data is filter by index.  This allows filtering by the following methods:\n",
    "- exact match\n",
    "- substring\n",
    "- regex"
   ]
  },
  {
   "cell_type": "code",
   "execution_count": 31,
   "id": "6788154e",
   "metadata": {},
   "outputs": [
    {
     "name": "stdout",
     "output_type": "stream",
     "text": [
      "cannot reindex from a duplicate axis\n"
     ]
    }
   ],
   "source": [
    "try:\n",
    "    city2.filter(items=['Ford','Subaru'])\n",
    "except:\n",
    "    print('cannot reindex from a duplicate axis')"
   ]
  },
  {
   "cell_type": "code",
   "execution_count": 32,
   "id": "6b032911",
   "metadata": {},
   "outputs": [
    {
     "data": {
      "text/plain": [
       "Ford    18\n",
       "Ford    16\n",
       "Ford    17\n",
       "Ford    17\n",
       "Ford    15\n",
       "        ..\n",
       "Ford    26\n",
       "Ford    19\n",
       "Ford    21\n",
       "Ford    18\n",
       "Ford    19\n",
       "Name: city08, Length: 3644, dtype: int64"
      ]
     },
     "execution_count": 32,
     "metadata": {},
     "output_type": "execute_result"
    }
   ],
   "source": [
    "# partial match\n",
    "city2.filter(like='rd')"
   ]
  },
  {
   "cell_type": "code",
   "execution_count": 33,
   "id": "8d8e7705",
   "metadata": {},
   "outputs": [
    {
     "data": {
      "text/plain": [
       "Subaru    17\n",
       "Subaru    21\n",
       "Subaru    22\n",
       "Ford      18\n",
       "Ford      16\n",
       "          ..\n",
       "Subaru    19\n",
       "Subaru    20\n",
       "Subaru    18\n",
       "Subaru    18\n",
       "Subaru    16\n",
       "Name: city08, Length: 4618, dtype: int64"
      ]
     },
     "execution_count": 33,
     "metadata": {},
     "output_type": "execute_result"
    }
   ],
   "source": [
    "# regular expression\n",
    "city2.filter(regex='(Ford)|(Subaru)')"
   ]
  },
  {
   "cell_type": "markdown",
   "id": "bdebc5a9",
   "metadata": {},
   "source": [
    "### Reindexing data\n",
    "The Reindexing method allows a user to map and existing index to another array.  If there is no direct map, it will simply load a Nan value when the new index is mapped across.  It does not handle duplicate entries.   "
   ]
  },
  {
   "cell_type": "code",
   "execution_count": 34,
   "id": "2e1784ba",
   "metadata": {},
   "outputs": [
    {
     "data": {
      "text/plain": [
       "a     NaN\n",
       "b    15.0\n",
       "c    25.0\n",
       "dtype: float64"
      ]
     },
     "execution_count": 34,
     "metadata": {},
     "output_type": "execute_result"
    }
   ],
   "source": [
    "# a is broght in will d is dropped, and a has no value in the existing dataset\n",
    "sr1 = pd.Series([10, 20, 30], index=['a','b','c'])\n",
    "sr2 = pd.Series([15, 25, 35], index=['b','c','d'])\n",
    "\n",
    "sr2.reindex(sr1.index)"
   ]
  },
  {
   "cell_type": "code",
   "execution_count": 35,
   "id": "bcb687a6",
   "metadata": {},
   "outputs": [
    {
     "name": "stdout",
     "output_type": "stream",
     "text": [
      "Cannot reindex from a duplicate axis in an existing Series\n",
      "try this: city_mpg.reindex([1,2,3,4,5])\n",
      "0          19.0\n",
      "0          19.0\n",
      "10         23.0\n",
      "20         14.0\n",
      "2000000     NaN\n",
      "Name: city08, dtype: float64\n"
     ]
    }
   ],
   "source": [
    "try:\n",
    "    city2.reindex(['Missing','Ford'])\n",
    "except:\n",
    "    print('Cannot reindex from a duplicate axis in an existing Series')\n",
    "    print('try this: city_mpg.reindex([1,2,3,4,5])')\n",
    "    print(eval('city_mpg.reindex([0,0,10,20,2_000_000])'))"
   ]
  },
  {
   "cell_type": "markdown",
   "id": "1bf1db86",
   "metadata": {},
   "source": [
    "## Ch 11: String methods\n",
    "There are many string manipulation methods in python, which is one of the languages stregths.  These are an equivalent number of string methods built into pandas to match the standard library offerring.  There are also a handful of types to be aware of for strings.  By default, pandas will load strings as objects, which is a catch all type.  It allows multiple datatypes in one array.  Ideally the types can be moved to string or category.\n",
    "\n",
    "- Object: Allow multiple types (list, dict, strings) in one array.  Default string type\n",
    "- String: Type for free text string types, allows pandas null types.\n",
    "- Category: Optimized type for categorical data fields, which optimized memory and performance."
   ]
  },
  {
   "cell_type": "code",
   "execution_count": 36,
   "id": "00310617",
   "metadata": {},
   "outputs": [
    {
     "data": {
      "text/plain": [
       "dtype('O')"
      ]
     },
     "execution_count": 36,
     "metadata": {},
     "output_type": "execute_result"
    }
   ],
   "source": [
    "make.dtype"
   ]
  },
  {
   "cell_type": "code",
   "execution_count": 37,
   "id": "2504641d",
   "metadata": {},
   "outputs": [
    {
     "data": {
      "text/plain": [
       "0        Alfa Romeo\n",
       "1           Ferrari\n",
       "2             Dodge\n",
       "3             Dodge\n",
       "4            Subaru\n",
       "            ...    \n",
       "45639        Subaru\n",
       "45640        Subaru\n",
       "45641        Subaru\n",
       "45642        Subaru\n",
       "45643        Subaru\n",
       "Name: make, Length: 45644, dtype: string"
      ]
     },
     "execution_count": 37,
     "metadata": {},
     "output_type": "execute_result"
    }
   ],
   "source": [
    "make.astype('string')"
   ]
  },
  {
   "cell_type": "code",
   "execution_count": 38,
   "id": "c862470a",
   "metadata": {},
   "outputs": [
    {
     "data": {
      "text/plain": [
       "0        Alfa Romeo\n",
       "1           Ferrari\n",
       "2             Dodge\n",
       "3             Dodge\n",
       "4            Subaru\n",
       "            ...    \n",
       "45639        Subaru\n",
       "45640        Subaru\n",
       "45641        Subaru\n",
       "45642        Subaru\n",
       "45643        Subaru\n",
       "Name: make, Length: 45644, dtype: category\n",
       "Categories (141, object): ['AM General', 'ASC Incorporated', 'Acura', 'Alfa Romeo', ..., 'Volvo', 'Wallace Environmental', 'Yugo', 'smart']"
      ]
     },
     "execution_count": 38,
     "metadata": {},
     "output_type": "execute_result"
    }
   ],
   "source": [
    "make.astype('category')"
   ]
  },
  {
   "cell_type": "markdown",
   "id": "2c9994a0",
   "metadata": {},
   "source": [
    "### Str. accessor\n",
    "Pandas has a build in accessor for string manipulation methods.  The .str accessor allows the wide number of accessor methods to be used to modify, search, change, or interogate strings."
   ]
  },
  {
   "cell_type": "code",
   "execution_count": 39,
   "id": "de2c2586",
   "metadata": {},
   "outputs": [
    {
     "data": {
      "text/plain": [
       "0        alfa romeo\n",
       "1           ferrari\n",
       "2             dodge\n",
       "3             dodge\n",
       "4            subaru\n",
       "            ...    \n",
       "45639        subaru\n",
       "45640        subaru\n",
       "45641        subaru\n",
       "45642        subaru\n",
       "45643        subaru\n",
       "Name: make, Length: 45644, dtype: object"
      ]
     },
     "execution_count": 39,
     "metadata": {},
     "output_type": "execute_result"
    }
   ],
   "source": [
    "make.str.lower()"
   ]
  },
  {
   "cell_type": "code",
   "execution_count": 40,
   "id": "b6723749",
   "metadata": {},
   "outputs": [
    {
     "data": {
      "text/plain": [
       "0        0\n",
       "1       -1\n",
       "2       -1\n",
       "3       -1\n",
       "4       -1\n",
       "        ..\n",
       "45639   -1\n",
       "45640   -1\n",
       "45641   -1\n",
       "45642   -1\n",
       "45643   -1\n",
       "Name: make, Length: 45644, dtype: int64"
      ]
     },
     "execution_count": 40,
     "metadata": {},
     "output_type": "execute_result"
    }
   ],
   "source": [
    "make.str.find('A')"
   ]
  },
  {
   "cell_type": "code",
   "execution_count": 41,
   "id": "3fbebeab",
   "metadata": {},
   "outputs": [
    {
     "data": {
      "text/plain": [
       "-    2018\n",
       ".      46\n",
       ",       9\n",
       "Name: make, dtype: int64"
      ]
     },
     "execution_count": 41,
     "metadata": {},
     "output_type": "execute_result"
    }
   ],
   "source": [
    "# expand converts result into a series, then value counts groups the outcome basically yielding non alpha numeric characters\n",
    "make.str.extract(r'([^a-z A-Z])', expand=False).value_counts()"
   ]
  },
  {
   "cell_type": "markdown",
   "id": "0112faad",
   "metadata": {},
   "source": [
    "> **Note:** THe inverse of the above is `data.str.extract(r'([^0-9.])', expand=False)` Yields alpha characters."
   ]
  },
  {
   "cell_type": "markdown",
   "id": "19914011",
   "metadata": {},
   "source": [
    "### Splitting data\n",
    "In some instances the data field will be a range representation, such as surveys that require and age selection.  Pandas calls this an object because it does not have any way to handle the dash on ingestion."
   ]
  },
  {
   "cell_type": "code",
   "execution_count": 42,
   "id": "73e8cfc6",
   "metadata": {},
   "outputs": [
    {
     "data": {
      "text/plain": [
       "0     0-10\n",
       "1    11-15\n",
       "2    11-15\n",
       "3    61-65\n",
       "4    46-50\n",
       "dtype: object"
      ]
     },
     "execution_count": 42,
     "metadata": {},
     "output_type": "execute_result"
    }
   ],
   "source": [
    "age = pd.Series(['0-10','11-15','11-15','61-65','46-50'])\n",
    "age"
   ]
  },
  {
   "cell_type": "code",
   "execution_count": 43,
   "id": "9ddc5402",
   "metadata": {},
   "outputs": [
    {
     "data": {
      "text/plain": [
       "0     [0, 10]\n",
       "1    [11, 15]\n",
       "2    [11, 15]\n",
       "3    [61, 65]\n",
       "4    [46, 50]\n",
       "dtype: object"
      ]
     },
     "execution_count": 43,
     "metadata": {},
     "output_type": "execute_result"
    }
   ],
   "source": [
    "# not exactly what we want\n",
    "age.str.split('-')"
   ]
  },
  {
   "cell_type": "code",
   "execution_count": 44,
   "id": "0575242a",
   "metadata": {},
   "outputs": [
    {
     "data": {
      "text/plain": [
       "0     0\n",
       "1    11\n",
       "2    11\n",
       "3    61\n",
       "4    46\n",
       "Name: 0, dtype: int32"
      ]
     },
     "execution_count": 44,
     "metadata": {},
     "output_type": "execute_result"
    }
   ],
   "source": [
    "# alternate methodology, yields correct dtype and extracted away value\n",
    "(age\n",
    " .str.split('-', expand=True)\n",
    " .iloc[:,0]\n",
    " .astype('int')\n",
    ")"
   ]
  },
  {
   "cell_type": "code",
   "execution_count": 45,
   "id": "b7d84c6c",
   "metadata": {},
   "outputs": [
    {
     "data": {
      "text/plain": [
       "0    10\n",
       "1    15\n",
       "2    15\n",
       "3    65\n",
       "4    50\n",
       "dtype: int32"
      ]
     },
     "execution_count": 45,
     "metadata": {},
     "output_type": "execute_result"
    }
   ],
   "source": [
    "# another alternative\n",
    "(age\n",
    " .str.slice(-2)\n",
    " .astype('int')\n",
    ")"
   ]
  },
  {
   "cell_type": "code",
   "execution_count": 46,
   "id": "bfb0ac5a",
   "metadata": {},
   "outputs": [
    {
     "data": {
      "text/plain": [
       "0    10\n",
       "1    15\n",
       "2    15\n",
       "3    65\n",
       "4    50\n",
       "dtype: int32"
      ]
     },
     "execution_count": 46,
     "metadata": {},
     "output_type": "execute_result"
    }
   ],
   "source": [
    "# And another alternative\n",
    "(age\n",
    " .str[-2:]\n",
    " .astype('int')\n",
    ")"
   ]
  },
  {
   "cell_type": "code",
   "execution_count": 47,
   "id": "652faf30",
   "metadata": {},
   "outputs": [
    {
     "data": {
      "text/plain": [
       "0     5.0\n",
       "1    13.0\n",
       "2    13.0\n",
       "3    63.0\n",
       "4    48.0\n",
       "dtype: float64"
      ]
     },
     "execution_count": 47,
     "metadata": {},
     "output_type": "execute_result"
    }
   ],
   "source": [
    "# To get the mean, we take the average of the range after splitting\n",
    "(age\n",
    " .str.split('-',expand=True)\n",
    " .astype('int')\n",
    " .mean(axis=1)\n",
    ")"
   ]
  },
  {
   "cell_type": "markdown",
   "id": "44ab1f27",
   "metadata": {},
   "source": [
    "#### Split - Data Simluation \n",
    "If you wanted to get a random number between the ages provided by the range this could also be done to simlate the age data versus taking a straight average."
   ]
  },
  {
   "cell_type": "code",
   "execution_count": 48,
   "id": "5c1479db",
   "metadata": {},
   "outputs": [],
   "source": [
    "import random\n",
    "def between(row):\n",
    "    return random.randint(*row.values)"
   ]
  },
  {
   "cell_type": "code",
   "execution_count": 49,
   "id": "230b65e0",
   "metadata": {},
   "outputs": [
    {
     "data": {
      "text/plain": [
       "0     3\n",
       "1    12\n",
       "2    15\n",
       "3    63\n",
       "4    49\n",
       "dtype: int64"
      ]
     },
     "execution_count": 49,
     "metadata": {},
     "output_type": "execute_result"
    }
   ],
   "source": [
    "(age\n",
    " .str.split('-',expand=True)\n",
    " .astype('int')\n",
    " .apply(between, axis='columns')\n",
    ")"
   ]
  },
  {
   "cell_type": "markdown",
   "id": "d99f5fab",
   "metadata": {},
   "source": [
    "#### Optimizing .apply with Cython\n",
    "Cython is a C python library which allows the python scrips to compile using C.  This requires some additional effort to set up, but for large data sets or something being used on live production data, it can be an invalvuable tool.  **It requires C++ to run the cell magics and optimize, so it is not demonstrated below.**  Eventually all of the functions are rewritten using numpy arrays and lambdas to optimize.   \n",
    "\n",
    "Simply lambda and numpy integration is leveraged below:"
   ]
  },
  {
   "cell_type": "code",
   "execution_count": 50,
   "id": "6c3c2697",
   "metadata": {},
   "outputs": [
    {
     "name": "stdout",
     "output_type": "stream",
     "text": [
      "1.74 ms ± 499 µs per loop (mean ± std. dev. of 7 runs, 1,000 loops each)\n"
     ]
    }
   ],
   "source": [
    "%%timeit\n",
    "(age\n",
    " .str.split('-',expand=True)\n",
    " .astype('int')\n",
    " .apply(between, axis='columns')\n",
    ")"
   ]
  },
  {
   "cell_type": "code",
   "execution_count": 51,
   "id": "8ccb8365",
   "metadata": {},
   "outputs": [
    {
     "name": "stdout",
     "output_type": "stream",
     "text": [
      "1.38 ms ± 466 µs per loop (mean ± std. dev. of 7 runs, 100 loops each)\n"
     ]
    }
   ],
   "source": [
    "%%timeit\n",
    "(age\n",
    " .str.split('-',expand=True)\n",
    " .astype('int')\n",
    " .apply(lambda row: random.randint(row[0],row[1]),axis=1)\n",
    ")"
   ]
  },
  {
   "cell_type": "code",
   "execution_count": 52,
   "id": "350cad5e",
   "metadata": {},
   "outputs": [
    {
     "name": "stdout",
     "output_type": "stream",
     "text": [
      "1.13 ms ± 668 µs per loop (mean ± std. dev. of 7 runs, 1,000 loops each)\n"
     ]
    }
   ],
   "source": [
    "%%timeit\n",
    "pd.Series(np.array(age\n",
    " .str.split('-',expand=True)\n",
    " .astype('int')).mean(axis=1))"
   ]
  },
  {
   "cell_type": "markdown",
   "id": "abb93b21",
   "metadata": {},
   "source": [
    "### Replacing text\n",
    "There are two different and related replace options in pandas.  There is a .str.replace() method, and then there is the pd.Series().replace() method.  In instances where individual characters are in question, then the .str accessor is used.  If it is whosale replacement, the Series.replace() method is the best fit."
   ]
  },
  {
   "cell_type": "code",
   "execution_count": 53,
   "id": "f86c8fcf",
   "metadata": {},
   "outputs": [
    {
     "data": {
      "text/plain": [
       "0        Älfa Romeo\n",
       "1           Ferrari\n",
       "2             Dodge\n",
       "3             Dodge\n",
       "4            Subaru\n",
       "            ...    \n",
       "45639        Subaru\n",
       "45640        Subaru\n",
       "45641        Subaru\n",
       "45642        Subaru\n",
       "45643        Subaru\n",
       "Name: make, Length: 45644, dtype: object"
      ]
     },
     "execution_count": 53,
     "metadata": {},
     "output_type": "execute_result"
    }
   ],
   "source": [
    "# Unicode replacement\n",
    "make.str.replace('A','Ä')"
   ]
  },
  {
   "cell_type": "code",
   "execution_count": 54,
   "id": "dbe59267",
   "metadata": {},
   "outputs": [
    {
     "data": {
      "text/plain": [
       "0        Alfa Romeo\n",
       "1           Ferrari\n",
       "2             Dodge\n",
       "3             Dodge\n",
       "4            Subaru\n",
       "            ...    \n",
       "45639        Subaru\n",
       "45640        Subaru\n",
       "45641        Subaru\n",
       "45642        Subaru\n",
       "45643        Subaru\n",
       "Name: make, Length: 45644, dtype: object"
      ]
     },
     "execution_count": 54,
     "metadata": {},
     "output_type": "execute_result"
    }
   ],
   "source": [
    "# Calling Series.replace() is looking for a whole string, so this does nothing\n",
    "make.replace('A','Ä')"
   ]
  },
  {
   "cell_type": "code",
   "execution_count": 55,
   "id": "638ba82d",
   "metadata": {},
   "outputs": [
    {
     "data": {
      "text/plain": [
       "0        Alfa Romeo\n",
       "1        VroomVroom\n",
       "2               RAM\n",
       "3               RAM\n",
       "4         AllWheels\n",
       "            ...    \n",
       "45639     AllWheels\n",
       "45640     AllWheels\n",
       "45641     AllWheels\n",
       "45642     AllWheels\n",
       "45643     AllWheels\n",
       "Name: make, Length: 45644, dtype: object"
      ]
     },
     "execution_count": 55,
     "metadata": {},
     "output_type": "execute_result"
    }
   ],
   "source": [
    "# you can feed Series.replace() with a dict to be explicit, but it can be slow\n",
    "make.replace({'Ferrari':'VroomVroom','Subaru':'AllWheels','Dodge':'RAM'})"
   ]
  },
  {
   "cell_type": "code",
   "execution_count": 56,
   "id": "df707d80",
   "metadata": {},
   "outputs": [
    {
     "data": {
      "text/plain": [
       "0        Älfa Romeo\n",
       "1           Ferrari\n",
       "2             Dodge\n",
       "3             Dodge\n",
       "4            Subaru\n",
       "            ...    \n",
       "45639        Subaru\n",
       "45640        Subaru\n",
       "45641        Subaru\n",
       "45642        Subaru\n",
       "45643        Subaru\n",
       "Name: make, Length: 45644, dtype: object"
      ]
     },
     "execution_count": 56,
     "metadata": {},
     "output_type": "execute_result"
    }
   ],
   "source": [
    "# for finer control indicate you want a regex replacement, then it works for letters\n",
    "make.replace('A','Ä', regex=True)"
   ]
  },
  {
   "cell_type": "markdown",
   "id": "f3be6c3b",
   "metadata": {},
   "source": [
    "### Ch11 P-Sets\n",
    "With a dataset of your choice:\n",
    "1. Lowercase the values of a string column\n",
    "2. Slice out the first value of a string column\n",
    "3. Slice out the last three characters of a string column\n",
    "4. Create a series extracting the numeric values from an object column\n",
    "5. Create a series and extract the non ASCII values\n",
    "6. Create a dataframe with the dummy columns for every character in the column"
   ]
  },
  {
   "cell_type": "code",
   "execution_count": 57,
   "id": "5426ddec",
   "metadata": {},
   "outputs": [
    {
     "data": {
      "text/plain": [
       "0        fifa world cup qualification\n",
       "1                            friendly\n",
       "2        fifa world cup qualification\n",
       "3                            friendly\n",
       "4        fifa world cup qualification\n",
       "                     ...             \n",
       "23916             uefa nations league\n",
       "23917             uefa nations league\n",
       "23918                       kirin cup\n",
       "23919                       kirin cup\n",
       "23920                        friendly\n",
       "Name: tournament, Length: 23921, dtype: object"
      ]
     },
     "execution_count": 57,
     "metadata": {},
     "output_type": "execute_result"
    }
   ],
   "source": [
    "# P1 lower case a string column\n",
    "fifa.tournament.str.lower()"
   ]
  },
  {
   "cell_type": "code",
   "execution_count": 58,
   "id": "eba1e4dc",
   "metadata": {},
   "outputs": [
    {
     "data": {
      "text/plain": [
       "0        F\n",
       "1        F\n",
       "2        F\n",
       "3        F\n",
       "4        F\n",
       "        ..\n",
       "23916    U\n",
       "23917    U\n",
       "23918    K\n",
       "23919    K\n",
       "23920    F\n",
       "Name: tournament, Length: 23921, dtype: object"
      ]
     },
     "execution_count": 58,
     "metadata": {},
     "output_type": "execute_result"
    }
   ],
   "source": [
    "# P2 Slice out the first value of a string column\n",
    "(fifa\n",
    " .tournament\n",
    " .str\n",
    " .slice(stop=1)\n",
    ")"
   ]
  },
  {
   "cell_type": "code",
   "execution_count": 59,
   "id": "18f0769e",
   "metadata": {},
   "outputs": [
    {
     "data": {
      "text/plain": [
       "0        ion\n",
       "1        dly\n",
       "2        ion\n",
       "3        dly\n",
       "4        ion\n",
       "        ... \n",
       "23916    gue\n",
       "23917    gue\n",
       "23918    Cup\n",
       "23919    Cup\n",
       "23920    dly\n",
       "Name: tournament, Length: 23921, dtype: object"
      ]
     },
     "execution_count": 59,
     "metadata": {},
     "output_type": "execute_result"
    }
   ],
   "source": [
    "# P3 Slice out the last three values of a string column\n",
    "(fifa\n",
    " .tournament\n",
    " .str\n",
    " [-3:]\n",
    ")"
   ]
  },
  {
   "cell_type": "code",
   "execution_count": 60,
   "id": "15d93ef5",
   "metadata": {},
   "outputs": [
    {
     "data": {
      "text/html": [
       "<div>\n",
       "<style scoped>\n",
       "    .dataframe tbody tr th:only-of-type {\n",
       "        vertical-align: middle;\n",
       "    }\n",
       "\n",
       "    .dataframe tbody tr th {\n",
       "        vertical-align: top;\n",
       "    }\n",
       "\n",
       "    .dataframe thead th {\n",
       "        text-align: right;\n",
       "    }\n",
       "</style>\n",
       "<table border=\"1\" class=\"dataframe\">\n",
       "  <thead>\n",
       "    <tr style=\"text-align: right;\">\n",
       "      <th></th>\n",
       "      <th>0</th>\n",
       "    </tr>\n",
       "  </thead>\n",
       "  <tbody>\n",
       "    <tr>\n",
       "      <th>0</th>\n",
       "      <td>1993-08-08</td>\n",
       "    </tr>\n",
       "    <tr>\n",
       "      <th>1</th>\n",
       "      <td>1993-08-08</td>\n",
       "    </tr>\n",
       "    <tr>\n",
       "      <th>2</th>\n",
       "      <td>1993-08-08</td>\n",
       "    </tr>\n",
       "    <tr>\n",
       "      <th>3</th>\n",
       "      <td>1993-08-08</td>\n",
       "    </tr>\n",
       "    <tr>\n",
       "      <th>4</th>\n",
       "      <td>1993-08-08</td>\n",
       "    </tr>\n",
       "    <tr>\n",
       "      <th>...</th>\n",
       "      <td>...</td>\n",
       "    </tr>\n",
       "    <tr>\n",
       "      <th>23916</th>\n",
       "      <td>2022-06-14</td>\n",
       "    </tr>\n",
       "    <tr>\n",
       "      <th>23917</th>\n",
       "      <td>2022-06-14</td>\n",
       "    </tr>\n",
       "    <tr>\n",
       "      <th>23918</th>\n",
       "      <td>2022-06-14</td>\n",
       "    </tr>\n",
       "    <tr>\n",
       "      <th>23919</th>\n",
       "      <td>2022-06-14</td>\n",
       "    </tr>\n",
       "    <tr>\n",
       "      <th>23920</th>\n",
       "      <td>2022-06-14</td>\n",
       "    </tr>\n",
       "  </tbody>\n",
       "</table>\n",
       "<p>23921 rows × 1 columns</p>\n",
       "</div>"
      ],
      "text/plain": [
       "                0\n",
       "0      1993-08-08\n",
       "1      1993-08-08\n",
       "2      1993-08-08\n",
       "3      1993-08-08\n",
       "4      1993-08-08\n",
       "...           ...\n",
       "23916  2022-06-14\n",
       "23917  2022-06-14\n",
       "23918  2022-06-14\n",
       "23919  2022-06-14\n",
       "23920  2022-06-14\n",
       "\n",
       "[23921 rows x 1 columns]"
      ]
     },
     "execution_count": 60,
     "metadata": {},
     "output_type": "execute_result"
    }
   ],
   "source": [
    "# P4 Create a series extracting the numeric values from an object column\n",
    "(fifa\n",
    " .date\n",
    " .str\n",
    " .extract(r'([^a-z A-Z]*)')\n",
    "#  .isna()\n",
    "#  .value_counts()\n",
    ")"
   ]
  },
  {
   "cell_type": "code",
   "execution_count": 61,
   "id": "5baf5226",
   "metadata": {},
   "outputs": [
    {
     "data": {
      "text/html": [
       "<div>\n",
       "<style scoped>\n",
       "    .dataframe tbody tr th:only-of-type {\n",
       "        vertical-align: middle;\n",
       "    }\n",
       "\n",
       "    .dataframe tbody tr th {\n",
       "        vertical-align: top;\n",
       "    }\n",
       "\n",
       "    .dataframe thead th {\n",
       "        text-align: right;\n",
       "    }\n",
       "</style>\n",
       "<table border=\"1\" class=\"dataframe\">\n",
       "  <thead>\n",
       "    <tr style=\"text-align: right;\">\n",
       "      <th></th>\n",
       "      <th>0</th>\n",
       "    </tr>\n",
       "  </thead>\n",
       "  <tbody>\n",
       "    <tr>\n",
       "      <th>0</th>\n",
       "      <td></td>\n",
       "    </tr>\n",
       "    <tr>\n",
       "      <th>1</th>\n",
       "      <td></td>\n",
       "    </tr>\n",
       "    <tr>\n",
       "      <th>2</th>\n",
       "      <td></td>\n",
       "    </tr>\n",
       "    <tr>\n",
       "      <th>3</th>\n",
       "      <td></td>\n",
       "    </tr>\n",
       "    <tr>\n",
       "      <th>4</th>\n",
       "      <td></td>\n",
       "    </tr>\n",
       "    <tr>\n",
       "      <th>...</th>\n",
       "      <td>...</td>\n",
       "    </tr>\n",
       "    <tr>\n",
       "      <th>23916</th>\n",
       "      <td></td>\n",
       "    </tr>\n",
       "    <tr>\n",
       "      <th>23917</th>\n",
       "      <td></td>\n",
       "    </tr>\n",
       "    <tr>\n",
       "      <th>23918</th>\n",
       "      <td></td>\n",
       "    </tr>\n",
       "    <tr>\n",
       "      <th>23919</th>\n",
       "      <td></td>\n",
       "    </tr>\n",
       "    <tr>\n",
       "      <th>23920</th>\n",
       "      <td></td>\n",
       "    </tr>\n",
       "  </tbody>\n",
       "</table>\n",
       "<p>23921 rows × 1 columns</p>\n",
       "</div>"
      ],
      "text/plain": [
       "      0 \n",
       "0       \n",
       "1       \n",
       "2       \n",
       "3       \n",
       "4       \n",
       "...   ..\n",
       "23916   \n",
       "23917   \n",
       "23918   \n",
       "23919   \n",
       "23920   \n",
       "\n",
       "[23921 rows x 1 columns]"
      ]
     },
     "execution_count": 61,
     "metadata": {},
     "output_type": "execute_result"
    }
   ],
   "source": [
    "# P5 Create a series and extract the non ASCII values\n",
    "(fifa\n",
    " .date\n",
    " .str\n",
    " .extract(r'([^\\x00-\\x7F]*)')\n",
    "#  .isna()\n",
    "#  .value_counts()\n",
    ")"
   ]
  },
  {
   "cell_type": "code",
   "execution_count": 62,
   "id": "a8955127",
   "metadata": {},
   "outputs": [
    {
     "data": {
      "text/html": [
       "<div>\n",
       "<style scoped>\n",
       "    .dataframe tbody tr th:only-of-type {\n",
       "        vertical-align: middle;\n",
       "    }\n",
       "\n",
       "    .dataframe tbody tr th {\n",
       "        vertical-align: top;\n",
       "    }\n",
       "\n",
       "    .dataframe thead th {\n",
       "        text-align: right;\n",
       "    }\n",
       "</style>\n",
       "<table border=\"1\" class=\"dataframe\">\n",
       "  <thead>\n",
       "    <tr style=\"text-align: right;\">\n",
       "      <th></th>\n",
       "      <th>0</th>\n",
       "      <th>1</th>\n",
       "      <th>2</th>\n",
       "      <th>3</th>\n",
       "      <th>4</th>\n",
       "      <th>5</th>\n",
       "      <th>6</th>\n",
       "      <th>7</th>\n",
       "      <th>8</th>\n",
       "      <th>9</th>\n",
       "      <th>...</th>\n",
       "      <th>20</th>\n",
       "      <th>21</th>\n",
       "      <th>22</th>\n",
       "      <th>23</th>\n",
       "      <th>24</th>\n",
       "      <th>25</th>\n",
       "      <th>26</th>\n",
       "      <th>27</th>\n",
       "      <th>28</th>\n",
       "      <th>29</th>\n",
       "    </tr>\n",
       "  </thead>\n",
       "  <tbody>\n",
       "    <tr>\n",
       "      <th>0</th>\n",
       "      <td>B</td>\n",
       "      <td>o</td>\n",
       "      <td>l</td>\n",
       "      <td>i</td>\n",
       "      <td>v</td>\n",
       "      <td>i</td>\n",
       "      <td>a</td>\n",
       "      <td>None</td>\n",
       "      <td>None</td>\n",
       "      <td>None</td>\n",
       "      <td>...</td>\n",
       "      <td>None</td>\n",
       "      <td>None</td>\n",
       "      <td>None</td>\n",
       "      <td>None</td>\n",
       "      <td>None</td>\n",
       "      <td>None</td>\n",
       "      <td>None</td>\n",
       "      <td>None</td>\n",
       "      <td>None</td>\n",
       "      <td>None</td>\n",
       "    </tr>\n",
       "    <tr>\n",
       "      <th>1</th>\n",
       "      <td>B</td>\n",
       "      <td>r</td>\n",
       "      <td>a</td>\n",
       "      <td>z</td>\n",
       "      <td>i</td>\n",
       "      <td>l</td>\n",
       "      <td>None</td>\n",
       "      <td>None</td>\n",
       "      <td>None</td>\n",
       "      <td>None</td>\n",
       "      <td>...</td>\n",
       "      <td>None</td>\n",
       "      <td>None</td>\n",
       "      <td>None</td>\n",
       "      <td>None</td>\n",
       "      <td>None</td>\n",
       "      <td>None</td>\n",
       "      <td>None</td>\n",
       "      <td>None</td>\n",
       "      <td>None</td>\n",
       "      <td>None</td>\n",
       "    </tr>\n",
       "    <tr>\n",
       "      <th>2</th>\n",
       "      <td>E</td>\n",
       "      <td>c</td>\n",
       "      <td>u</td>\n",
       "      <td>a</td>\n",
       "      <td>d</td>\n",
       "      <td>o</td>\n",
       "      <td>r</td>\n",
       "      <td>None</td>\n",
       "      <td>None</td>\n",
       "      <td>None</td>\n",
       "      <td>...</td>\n",
       "      <td>None</td>\n",
       "      <td>None</td>\n",
       "      <td>None</td>\n",
       "      <td>None</td>\n",
       "      <td>None</td>\n",
       "      <td>None</td>\n",
       "      <td>None</td>\n",
       "      <td>None</td>\n",
       "      <td>None</td>\n",
       "      <td>None</td>\n",
       "    </tr>\n",
       "    <tr>\n",
       "      <th>3</th>\n",
       "      <td>G</td>\n",
       "      <td>u</td>\n",
       "      <td>i</td>\n",
       "      <td>n</td>\n",
       "      <td>e</td>\n",
       "      <td>a</td>\n",
       "      <td>None</td>\n",
       "      <td>None</td>\n",
       "      <td>None</td>\n",
       "      <td>None</td>\n",
       "      <td>...</td>\n",
       "      <td>None</td>\n",
       "      <td>None</td>\n",
       "      <td>None</td>\n",
       "      <td>None</td>\n",
       "      <td>None</td>\n",
       "      <td>None</td>\n",
       "      <td>None</td>\n",
       "      <td>None</td>\n",
       "      <td>None</td>\n",
       "      <td>None</td>\n",
       "    </tr>\n",
       "    <tr>\n",
       "      <th>4</th>\n",
       "      <td>P</td>\n",
       "      <td>a</td>\n",
       "      <td>r</td>\n",
       "      <td>a</td>\n",
       "      <td>g</td>\n",
       "      <td>u</td>\n",
       "      <td>a</td>\n",
       "      <td>y</td>\n",
       "      <td>None</td>\n",
       "      <td>None</td>\n",
       "      <td>...</td>\n",
       "      <td>None</td>\n",
       "      <td>None</td>\n",
       "      <td>None</td>\n",
       "      <td>None</td>\n",
       "      <td>None</td>\n",
       "      <td>None</td>\n",
       "      <td>None</td>\n",
       "      <td>None</td>\n",
       "      <td>None</td>\n",
       "      <td>None</td>\n",
       "    </tr>\n",
       "    <tr>\n",
       "      <th>...</th>\n",
       "      <td>...</td>\n",
       "      <td>...</td>\n",
       "      <td>...</td>\n",
       "      <td>...</td>\n",
       "      <td>...</td>\n",
       "      <td>...</td>\n",
       "      <td>...</td>\n",
       "      <td>...</td>\n",
       "      <td>...</td>\n",
       "      <td>...</td>\n",
       "      <td>...</td>\n",
       "      <td>...</td>\n",
       "      <td>...</td>\n",
       "      <td>...</td>\n",
       "      <td>...</td>\n",
       "      <td>...</td>\n",
       "      <td>...</td>\n",
       "      <td>...</td>\n",
       "      <td>...</td>\n",
       "      <td>...</td>\n",
       "      <td>...</td>\n",
       "    </tr>\n",
       "    <tr>\n",
       "      <th>23916</th>\n",
       "      <td>M</td>\n",
       "      <td>o</td>\n",
       "      <td>l</td>\n",
       "      <td>d</td>\n",
       "      <td>o</td>\n",
       "      <td>v</td>\n",
       "      <td>a</td>\n",
       "      <td>None</td>\n",
       "      <td>None</td>\n",
       "      <td>None</td>\n",
       "      <td>...</td>\n",
       "      <td>None</td>\n",
       "      <td>None</td>\n",
       "      <td>None</td>\n",
       "      <td>None</td>\n",
       "      <td>None</td>\n",
       "      <td>None</td>\n",
       "      <td>None</td>\n",
       "      <td>None</td>\n",
       "      <td>None</td>\n",
       "      <td>None</td>\n",
       "    </tr>\n",
       "    <tr>\n",
       "      <th>23917</th>\n",
       "      <td>L</td>\n",
       "      <td>i</td>\n",
       "      <td>e</td>\n",
       "      <td>c</td>\n",
       "      <td>h</td>\n",
       "      <td>t</td>\n",
       "      <td>e</td>\n",
       "      <td>n</td>\n",
       "      <td>s</td>\n",
       "      <td>t</td>\n",
       "      <td>...</td>\n",
       "      <td>None</td>\n",
       "      <td>None</td>\n",
       "      <td>None</td>\n",
       "      <td>None</td>\n",
       "      <td>None</td>\n",
       "      <td>None</td>\n",
       "      <td>None</td>\n",
       "      <td>None</td>\n",
       "      <td>None</td>\n",
       "      <td>None</td>\n",
       "    </tr>\n",
       "    <tr>\n",
       "      <th>23918</th>\n",
       "      <td>C</td>\n",
       "      <td>h</td>\n",
       "      <td>i</td>\n",
       "      <td>l</td>\n",
       "      <td>e</td>\n",
       "      <td>None</td>\n",
       "      <td>None</td>\n",
       "      <td>None</td>\n",
       "      <td>None</td>\n",
       "      <td>None</td>\n",
       "      <td>...</td>\n",
       "      <td>None</td>\n",
       "      <td>None</td>\n",
       "      <td>None</td>\n",
       "      <td>None</td>\n",
       "      <td>None</td>\n",
       "      <td>None</td>\n",
       "      <td>None</td>\n",
       "      <td>None</td>\n",
       "      <td>None</td>\n",
       "      <td>None</td>\n",
       "    </tr>\n",
       "    <tr>\n",
       "      <th>23919</th>\n",
       "      <td>J</td>\n",
       "      <td>a</td>\n",
       "      <td>p</td>\n",
       "      <td>a</td>\n",
       "      <td>n</td>\n",
       "      <td>None</td>\n",
       "      <td>None</td>\n",
       "      <td>None</td>\n",
       "      <td>None</td>\n",
       "      <td>None</td>\n",
       "      <td>...</td>\n",
       "      <td>None</td>\n",
       "      <td>None</td>\n",
       "      <td>None</td>\n",
       "      <td>None</td>\n",
       "      <td>None</td>\n",
       "      <td>None</td>\n",
       "      <td>None</td>\n",
       "      <td>None</td>\n",
       "      <td>None</td>\n",
       "      <td>None</td>\n",
       "    </tr>\n",
       "    <tr>\n",
       "      <th>23920</th>\n",
       "      <td>K</td>\n",
       "      <td>o</td>\n",
       "      <td>r</td>\n",
       "      <td>e</td>\n",
       "      <td>a</td>\n",
       "      <td></td>\n",
       "      <td>R</td>\n",
       "      <td>e</td>\n",
       "      <td>p</td>\n",
       "      <td>u</td>\n",
       "      <td>...</td>\n",
       "      <td>None</td>\n",
       "      <td>None</td>\n",
       "      <td>None</td>\n",
       "      <td>None</td>\n",
       "      <td>None</td>\n",
       "      <td>None</td>\n",
       "      <td>None</td>\n",
       "      <td>None</td>\n",
       "      <td>None</td>\n",
       "      <td>None</td>\n",
       "    </tr>\n",
       "  </tbody>\n",
       "</table>\n",
       "<p>23921 rows × 30 columns</p>\n",
       "</div>"
      ],
      "text/plain": [
       "      0  1  2  3  4     5     6     7     8     9   ...    20    21    22  \\\n",
       "0      B  o  l  i  v     i     a  None  None  None  ...  None  None  None   \n",
       "1      B  r  a  z  i     l  None  None  None  None  ...  None  None  None   \n",
       "2      E  c  u  a  d     o     r  None  None  None  ...  None  None  None   \n",
       "3      G  u  i  n  e     a  None  None  None  None  ...  None  None  None   \n",
       "4      P  a  r  a  g     u     a     y  None  None  ...  None  None  None   \n",
       "...   .. .. .. .. ..   ...   ...   ...   ...   ...  ...   ...   ...   ...   \n",
       "23916  M  o  l  d  o     v     a  None  None  None  ...  None  None  None   \n",
       "23917  L  i  e  c  h     t     e     n     s     t  ...  None  None  None   \n",
       "23918  C  h  i  l  e  None  None  None  None  None  ...  None  None  None   \n",
       "23919  J  a  p  a  n  None  None  None  None  None  ...  None  None  None   \n",
       "23920  K  o  r  e  a           R     e     p     u  ...  None  None  None   \n",
       "\n",
       "         23    24    25    26    27    28    29  \n",
       "0      None  None  None  None  None  None  None  \n",
       "1      None  None  None  None  None  None  None  \n",
       "2      None  None  None  None  None  None  None  \n",
       "3      None  None  None  None  None  None  None  \n",
       "4      None  None  None  None  None  None  None  \n",
       "...     ...   ...   ...   ...   ...   ...   ...  \n",
       "23916  None  None  None  None  None  None  None  \n",
       "23917  None  None  None  None  None  None  None  \n",
       "23918  None  None  None  None  None  None  None  \n",
       "23919  None  None  None  None  None  None  None  \n",
       "23920  None  None  None  None  None  None  None  \n",
       "\n",
       "[23921 rows x 30 columns]"
      ]
     },
     "execution_count": 62,
     "metadata": {},
     "output_type": "execute_result"
    }
   ],
   "source": [
    "#P6 Create a dataframe with the dummy columns for every character in the column\n",
    "pd.DataFrame([list(i) for i in fifa.home_team])\n",
    "#  .str\n",
    "#  .findall(r'([a-z A-Z])')\n",
    "#  .get_dummies()\n",
    "#  .groupby(0)\n",
    "#  .sum(axis=0)\n",
    "#  .sort_values(ascending=False)\n"
   ]
  },
  {
   "cell_type": "markdown",
   "id": "28548607",
   "metadata": {},
   "source": [
    "## Ch12 Date and Time manipulation\n",
    "Pandas allows the creation and usage of Datetime dtypes, which can be very useful in the analysis of data.  It also happens to be the most complicated type to get correct in the dtypes available in pandas.  They often arrive as a string or object type because pandas cannot interpret the many different formats potentially available.\n",
    "\n",
    "### Date Theory\n",
    "Date theory is complicated as soon as the data is moved away from UTC, which is the time at 0º longitude.  UTC is nice because it is always monotomically increasing.  This means there are never issues with duplicate times on the same date.  In the case of wall time (local time zone specific) this is not the case.  Great care should be taken when using local time as it can easily lead to unexpected errors and ambiguous times in the system.  One the date of the daylight savings time switch, there will be two entries for each minute from 1-2AM in the fall, and no entries in the spring.  Stay in UTC if at all possible.  If time accuracy is not important, then focus on the date information.  "
   ]
  },
  {
   "cell_type": "code",
   "execution_count": 63,
   "id": "4d19635a",
   "metadata": {},
   "outputs": [],
   "source": [
    "col = pd.Series(\n",
    "['2015-03-08 08:00:00+00:00',\n",
    " '2015-03-08 08:30:00+00:00',\n",
    " '2015-03-08 09:00:00+00:00',\n",
    " '2015-03-08 09:30:00+00:00',\n",
    " '2015-11-01 06:30:00+00:00',\n",
    " '2015-11-01 07:00:00+00:00',\n",
    " '2015-11-01 07:30:00+00:00',\n",
    " '2015-11-01 08:00:00+00:00',\n",
    " '2015-11-01 08:30:00+00:00',\n",
    " '2015-11-01 08:00:00+00:00',\n",
    " '2015-11-01 08:30:00+00:00',\n",
    " '2015-11-01 09:00:00+00:00',\n",
    " '2015-11-01 09:30:00+00:00',\n",
    " '2015-11-01 10:00:00+00:00',\n",
    "]\n",
    ")"
   ]
  },
  {
   "cell_type": "code",
   "execution_count": 64,
   "id": "e77a64c2",
   "metadata": {},
   "outputs": [
    {
     "data": {
      "text/plain": [
       "0    2015-03-08 08:00:00+00:00\n",
       "1    2015-03-08 08:30:00+00:00\n",
       "2    2015-03-08 09:00:00+00:00\n",
       "3    2015-03-08 09:30:00+00:00\n",
       "4    2015-11-01 06:30:00+00:00\n",
       "5    2015-11-01 07:00:00+00:00\n",
       "6    2015-11-01 07:30:00+00:00\n",
       "7    2015-11-01 08:00:00+00:00\n",
       "8    2015-11-01 08:30:00+00:00\n",
       "9    2015-11-01 08:00:00+00:00\n",
       "10   2015-11-01 08:30:00+00:00\n",
       "11   2015-11-01 09:00:00+00:00\n",
       "12   2015-11-01 09:30:00+00:00\n",
       "13   2015-11-01 10:00:00+00:00\n",
       "dtype: datetime64[ns, UTC]"
      ]
     },
     "execution_count": 64,
     "metadata": {},
     "output_type": "execute_result"
    }
   ],
   "source": [
    "utc_s = pd.to_datetime(col, utc=True)\n",
    "utc_s"
   ]
  },
  {
   "cell_type": "code",
   "execution_count": 65,
   "id": "558d45b0",
   "metadata": {},
   "outputs": [
    {
     "data": {
      "text/plain": [
       "0    2015-03-08 01:00:00-07:00\n",
       "1    2015-03-08 01:30:00-07:00\n",
       "2    2015-03-08 03:00:00-06:00\n",
       "3    2015-03-08 03:30:00-06:00\n",
       "4    2015-11-01 00:30:00-06:00\n",
       "5    2015-11-01 01:00:00-06:00\n",
       "6    2015-11-01 01:30:00-06:00\n",
       "7    2015-11-01 01:00:00-07:00\n",
       "8    2015-11-01 01:30:00-07:00\n",
       "9    2015-11-01 01:00:00-07:00\n",
       "10   2015-11-01 01:30:00-07:00\n",
       "11   2015-11-01 02:00:00-07:00\n",
       "12   2015-11-01 02:30:00-07:00\n",
       "13   2015-11-01 03:00:00-07:00\n",
       "dtype: datetime64[ns, America/Denver]"
      ]
     },
     "execution_count": 65,
     "metadata": {},
     "output_type": "execute_result"
    }
   ],
   "source": [
    "utc_s.dt.tz_convert('America/Denver')"
   ]
  },
  {
   "cell_type": "code",
   "execution_count": 66,
   "id": "ec3c5d6a",
   "metadata": {},
   "outputs": [],
   "source": [
    "# Adding offsets\n",
    "s_col = pd.Series(\n",
    "['2015-03-08 01:00:00+07:00',\n",
    " '2015-03-08 01:30:00+07:00',\n",
    " '2015-03-08 03:00:00+06:00',\n",
    " '2015-03-08 03:30:00+06:00',\n",
    " '2015-11-01 00:30:00+06:00',\n",
    " '2015-11-01 01:00:00+06:00',\n",
    " '2015-11-01 01:30:00+06:00',\n",
    " '2015-11-01 01:00:00+07:00',\n",
    " '2015-11-01 01:30:00+07:00',\n",
    " '2015-11-01 01:00:00+07:00',\n",
    " '2015-11-01 01:30:00+07:00',\n",
    " '2015-11-01 02:00:00+07:00',\n",
    " '2015-11-01 02:30:00+07:00',\n",
    " '2015-11-01 03:00:00+07:00',\n",
    "]\n",
    ")"
   ]
  },
  {
   "cell_type": "code",
   "execution_count": 67,
   "id": "7dc14469",
   "metadata": {},
   "outputs": [
    {
     "data": {
      "text/plain": [
       "0    2015-03-07 12:00:00-06:00\n",
       "1    2015-03-07 12:30:00-06:00\n",
       "2    2015-03-07 15:00:00-06:00\n",
       "3    2015-03-07 15:30:00-06:00\n",
       "4    2015-10-31 13:30:00-05:00\n",
       "5    2015-10-31 14:00:00-05:00\n",
       "6    2015-10-31 14:30:00-05:00\n",
       "7    2015-10-31 13:00:00-05:00\n",
       "8    2015-10-31 13:30:00-05:00\n",
       "9    2015-10-31 13:00:00-05:00\n",
       "10   2015-10-31 13:30:00-05:00\n",
       "11   2015-10-31 14:00:00-05:00\n",
       "12   2015-10-31 14:30:00-05:00\n",
       "13   2015-10-31 15:00:00-05:00\n",
       "dtype: datetime64[ns, America/Chicago]"
      ]
     },
     "execution_count": 67,
     "metadata": {},
     "output_type": "execute_result"
    }
   ],
   "source": [
    "pd.to_datetime(s_col, utc=True).dt.tz_convert('America/Chicago')"
   ]
  },
  {
   "cell_type": "markdown",
   "id": "30b9d112",
   "metadata": {},
   "source": [
    "### Local Date and Time\n",
    "To load the local date and time we must have the date, the offset, and the timezone information.  This can be provided in the same data set or seperately to create the datetime information."
   ]
  },
  {
   "cell_type": "code",
   "execution_count": 68,
   "id": "ee169c4f",
   "metadata": {},
   "outputs": [],
   "source": [
    "time = pd.Series(['2015-03-08 01:00:00', '2015-03-08 01:30:00', '2015-03-08 02:00:00', '2015-03-08 02:30:00',\n",
    "                 '2015-03-08 03:00:00', '2015-03-08 02:00:00', '2015-03-08 02:30:00', '2015-03-08 03:00:00',\n",
    "                 '2015-03-08 03:30:00', '2015-11-01 00:30:00', '2015-11-01 01:00:00', '2015-11-01 01:30:00',\n",
    "                 '2015-11-01 02:00:00', '2015-11-01 02:30:00', '2015-11-01 01:00:00', '2015-11-01 01:30:00',\n",
    "                 '2015-11-01 02:00:00', '2015-11-01 02:30:00', '2015-11-01 03:00:00'])"
   ]
  },
  {
   "cell_type": "code",
   "execution_count": 69,
   "id": "bde62c8c",
   "metadata": {},
   "outputs": [],
   "source": [
    "offset = pd.Series([-7,-7,-7,-7,-7,-6,-6,-6,-6,-6,-6,-6,-6,-6,-7,-7,-7,-7,-7])"
   ]
  },
  {
   "cell_type": "code",
   "execution_count": 70,
   "id": "2b5fca4e",
   "metadata": {},
   "outputs": [
    {
     "data": {
      "text/plain": [
       "True"
      ]
     },
     "execution_count": 70,
     "metadata": {},
     "output_type": "execute_result"
    }
   ],
   "source": [
    "# Lengths are the same and the offset value aligns with the appropriate dt value for the offset\n",
    "len(time) == len(offset)"
   ]
  },
  {
   "cell_type": "markdown",
   "id": "78b477a6",
   "metadata": {},
   "source": [
    "> **Note:** This is going to require the use of .groupby and .transform to facilitate combining and adjusting the times.  These will be covered later in greater detail.  Groupby uses a different Series, but that series is aligned with the datetime data.  Otherwise this groupby would yield the wrong values"
   ]
  },
  {
   "cell_type": "code",
   "execution_count": 71,
   "id": "82c52984",
   "metadata": {},
   "outputs": [
    {
     "data": {
      "text/plain": [
       "0    2015-03-07 18:00:07-07:00\n",
       "1    2015-03-07 18:30:07-07:00\n",
       "2    2015-03-07 19:00:07-07:00\n",
       "3    2015-03-07 19:30:07-07:00\n",
       "4    2015-03-07 20:00:07-07:00\n",
       "5    2015-03-07 19:00:06-07:00\n",
       "6    2015-03-07 19:30:06-07:00\n",
       "7    2015-03-07 20:00:06-07:00\n",
       "8    2015-03-07 20:30:06-07:00\n",
       "9    2015-10-31 18:30:06-06:00\n",
       "10   2015-10-31 19:00:06-06:00\n",
       "11   2015-10-31 19:30:06-06:00\n",
       "12   2015-10-31 20:00:06-06:00\n",
       "13   2015-10-31 20:30:06-06:00\n",
       "14   2015-10-31 19:00:07-06:00\n",
       "15   2015-10-31 19:30:07-06:00\n",
       "16   2015-10-31 20:00:07-06:00\n",
       "17   2015-10-31 20:30:07-06:00\n",
       "18   2015-10-31 21:00:07-06:00\n",
       "dtype: datetime64[ns, America/Denver]"
      ]
     },
     "execution_count": 71,
     "metadata": {},
     "output_type": "execute_result"
    }
   ],
   "source": [
    "# tranform takes the grouped data and conducts and operation, then returning the data in its no aggregated form\n",
    "(pd.to_datetime(time)\n",
    " .groupby(offset)\n",
    " .transform(lambda s: s.dt.tz_localize(s.name)\n",
    "                       .dt.tz_convert('America/Denver'))\n",
    ")"
   ]
  },
  {
   "cell_type": "markdown",
   "id": "5f4b5a1e",
   "metadata": {},
   "source": [
    "> **See above:** The offsets were interpretted as minutes and not hours.  The data needs to be updated to -##:## format"
   ]
  },
  {
   "cell_type": "code",
   "execution_count": 72,
   "id": "bd9c3b3e",
   "metadata": {},
   "outputs": [],
   "source": [
    "offset = offset.replace({-7:'-07:00',-6:'-06:00'})"
   ]
  },
  {
   "cell_type": "code",
   "execution_count": 73,
   "id": "3b6312ff",
   "metadata": {},
   "outputs": [],
   "source": [
    "local = (pd.to_datetime(time)\n",
    " .groupby(offset)\n",
    " .transform(lambda s: s.dt.tz_localize(s.name)\n",
    "                       .dt.tz_convert('America/Denver'))\n",
    ")"
   ]
  },
  {
   "cell_type": "code",
   "execution_count": 74,
   "id": "c491c717",
   "metadata": {},
   "outputs": [
    {
     "data": {
      "text/plain": [
       "0    2015-03-08 01:00:00-07:00\n",
       "1    2015-03-08 01:30:00-07:00\n",
       "2    2015-03-08 03:00:00-06:00\n",
       "3    2015-03-08 03:30:00-06:00\n",
       "4    2015-03-08 04:00:00-06:00\n",
       "5    2015-03-08 01:00:00-07:00\n",
       "6    2015-03-08 01:30:00-07:00\n",
       "7    2015-03-08 03:00:00-06:00\n",
       "8    2015-03-08 03:30:00-06:00\n",
       "9    2015-11-01 00:30:00-06:00\n",
       "10   2015-11-01 01:00:00-06:00\n",
       "11   2015-11-01 01:30:00-06:00\n",
       "12   2015-11-01 01:00:00-07:00\n",
       "13   2015-11-01 01:30:00-07:00\n",
       "14   2015-11-01 01:00:00-07:00\n",
       "15   2015-11-01 01:30:00-07:00\n",
       "16   2015-11-01 02:00:00-07:00\n",
       "17   2015-11-01 02:30:00-07:00\n",
       "18   2015-11-01 03:00:00-07:00\n",
       "dtype: datetime64[ns, America/Denver]"
      ]
     },
     "execution_count": 74,
     "metadata": {},
     "output_type": "execute_result"
    }
   ],
   "source": [
    "local"
   ]
  },
  {
   "cell_type": "code",
   "execution_count": 75,
   "id": "42fd1354",
   "metadata": {},
   "outputs": [
    {
     "data": {
      "text/plain": [
       "0    2015-03-08 08:00:00+00:00\n",
       "1    2015-03-08 08:30:00+00:00\n",
       "2    2015-03-08 09:00:00+00:00\n",
       "3    2015-03-08 09:30:00+00:00\n",
       "4    2015-03-08 10:00:00+00:00\n",
       "5    2015-03-08 08:00:00+00:00\n",
       "6    2015-03-08 08:30:00+00:00\n",
       "7    2015-03-08 09:00:00+00:00\n",
       "8    2015-03-08 09:30:00+00:00\n",
       "9    2015-11-01 06:30:00+00:00\n",
       "10   2015-11-01 07:00:00+00:00\n",
       "11   2015-11-01 07:30:00+00:00\n",
       "12   2015-11-01 08:00:00+00:00\n",
       "13   2015-11-01 08:30:00+00:00\n",
       "14   2015-11-01 08:00:00+00:00\n",
       "15   2015-11-01 08:30:00+00:00\n",
       "16   2015-11-01 09:00:00+00:00\n",
       "17   2015-11-01 09:30:00+00:00\n",
       "18   2015-11-01 10:00:00+00:00\n",
       "dtype: datetime64[ns, UTC]"
      ]
     },
     "execution_count": 75,
     "metadata": {},
     "output_type": "execute_result"
    }
   ],
   "source": [
    "local.dt.tz_convert('UTC')"
   ]
  },
  {
   "cell_type": "markdown",
   "id": "9e7c27f7",
   "metadata": {},
   "source": [
    "### Epochs\n",
    "If you are so inclined, you can determine the seconds past the UNIX based epoch."
   ]
  },
  {
   "cell_type": "code",
   "execution_count": 76,
   "id": "479ed2a4",
   "metadata": {},
   "outputs": [],
   "source": [
    "import datetime as dt"
   ]
  },
  {
   "cell_type": "code",
   "execution_count": 77,
   "id": "a76f594d",
   "metadata": {},
   "outputs": [],
   "source": [
    "secs = (local.dt.tz_convert(None) - dt.datetime(1970,1,1)).dt.total_seconds().astype(int)"
   ]
  },
  {
   "cell_type": "code",
   "execution_count": 78,
   "id": "0324d916",
   "metadata": {},
   "outputs": [
    {
     "data": {
      "text/plain": [
       "0     1425801600\n",
       "1     1425803400\n",
       "2     1425805200\n",
       "3     1425807000\n",
       "4     1425808800\n",
       "5     1425801600\n",
       "6     1425803400\n",
       "7     1425805200\n",
       "8     1425807000\n",
       "9     1446359400\n",
       "10    1446361200\n",
       "11    1446363000\n",
       "12    1446364800\n",
       "13    1446366600\n",
       "14    1446364800\n",
       "15    1446366600\n",
       "16    1446368400\n",
       "17    1446370200\n",
       "18    1446372000\n",
       "dtype: int32"
      ]
     },
     "execution_count": 78,
     "metadata": {},
     "output_type": "execute_result"
    }
   ],
   "source": [
    "secs"
   ]
  },
  {
   "cell_type": "code",
   "execution_count": 79,
   "id": "71fb19c4",
   "metadata": {},
   "outputs": [
    {
     "data": {
      "text/plain": [
       "0    2015-03-08 08:00:00+00:00\n",
       "1    2015-03-08 08:30:00+00:00\n",
       "2    2015-03-08 09:00:00+00:00\n",
       "3    2015-03-08 09:30:00+00:00\n",
       "4    2015-03-08 10:00:00+00:00\n",
       "5    2015-03-08 08:00:00+00:00\n",
       "6    2015-03-08 08:30:00+00:00\n",
       "7    2015-03-08 09:00:00+00:00\n",
       "8    2015-03-08 09:30:00+00:00\n",
       "9    2015-11-01 06:30:00+00:00\n",
       "10   2015-11-01 07:00:00+00:00\n",
       "11   2015-11-01 07:30:00+00:00\n",
       "12   2015-11-01 08:00:00+00:00\n",
       "13   2015-11-01 08:30:00+00:00\n",
       "14   2015-11-01 08:00:00+00:00\n",
       "15   2015-11-01 08:30:00+00:00\n",
       "16   2015-11-01 09:00:00+00:00\n",
       "17   2015-11-01 09:30:00+00:00\n",
       "18   2015-11-01 10:00:00+00:00\n",
       "dtype: datetime64[ns, UTC]"
      ]
     },
     "execution_count": 79,
     "metadata": {},
     "output_type": "execute_result"
    }
   ],
   "source": [
    "(pd.to_datetime(secs,unit='s').dt.tz_localize('UTC'))"
   ]
  },
  {
   "cell_type": "markdown",
   "id": "8b0a4e4f",
   "metadata": {},
   "source": [
    "### Manipulating Dates\n",
    "For further demonstration of the use of dates, and data set with Snowfall data will be leveraged.  This is based on a ski resort in the Utah/Denver timezone.  "
   ]
  },
  {
   "cell_type": "code",
   "execution_count": 80,
   "id": "691f2f40",
   "metadata": {},
   "outputs": [],
   "source": [
    "url = r'https://github.com/mattharrison/datasets/raw/master/data/alta-noaa-1980-2019.csv'"
   ]
  },
  {
   "cell_type": "code",
   "execution_count": 81,
   "id": "b48409ee",
   "metadata": {},
   "outputs": [
    {
     "data": {
      "text/plain": [
       "'https://github.com/mattharrison/datasets/raw/master/data/alta-noaa-1980-2019.csv'"
      ]
     },
     "execution_count": 81,
     "metadata": {},
     "output_type": "execute_result"
    }
   ],
   "source": [
    "url"
   ]
  },
  {
   "cell_type": "code",
   "execution_count": 82,
   "id": "bbad2210",
   "metadata": {},
   "outputs": [],
   "source": [
    "alta_df = pd.read_csv('alta-noaa-1980-2019.csv')"
   ]
  },
  {
   "cell_type": "code",
   "execution_count": 83,
   "id": "a3add3a4",
   "metadata": {},
   "outputs": [
    {
     "data": {
      "text/html": [
       "<div>\n",
       "<style scoped>\n",
       "    .dataframe tbody tr th:only-of-type {\n",
       "        vertical-align: middle;\n",
       "    }\n",
       "\n",
       "    .dataframe tbody tr th {\n",
       "        vertical-align: top;\n",
       "    }\n",
       "\n",
       "    .dataframe thead th {\n",
       "        text-align: right;\n",
       "    }\n",
       "</style>\n",
       "<table border=\"1\" class=\"dataframe\">\n",
       "  <thead>\n",
       "    <tr style=\"text-align: right;\">\n",
       "      <th></th>\n",
       "      <th>STATION</th>\n",
       "      <th>NAME</th>\n",
       "      <th>LATITUDE</th>\n",
       "      <th>LONGITUDE</th>\n",
       "      <th>ELEVATION</th>\n",
       "      <th>DATE</th>\n",
       "      <th>DAPR</th>\n",
       "      <th>DAPR_ATTRIBUTES</th>\n",
       "      <th>DASF</th>\n",
       "      <th>DASF_ATTRIBUTES</th>\n",
       "      <th>...</th>\n",
       "      <th>WT03</th>\n",
       "      <th>WT03_ATTRIBUTES</th>\n",
       "      <th>WT04</th>\n",
       "      <th>WT04_ATTRIBUTES</th>\n",
       "      <th>WT05</th>\n",
       "      <th>WT05_ATTRIBUTES</th>\n",
       "      <th>WT06</th>\n",
       "      <th>WT06_ATTRIBUTES</th>\n",
       "      <th>WT11</th>\n",
       "      <th>WT11_ATTRIBUTES</th>\n",
       "    </tr>\n",
       "  </thead>\n",
       "  <tbody>\n",
       "    <tr>\n",
       "      <th>0</th>\n",
       "      <td>USC00420072</td>\n",
       "      <td>ALTA, UT US</td>\n",
       "      <td>40.59058</td>\n",
       "      <td>-111.63703</td>\n",
       "      <td>2654.8</td>\n",
       "      <td>1980-01-01</td>\n",
       "      <td>NaN</td>\n",
       "      <td>NaN</td>\n",
       "      <td>NaN</td>\n",
       "      <td>NaN</td>\n",
       "      <td>...</td>\n",
       "      <td>NaN</td>\n",
       "      <td>NaN</td>\n",
       "      <td>NaN</td>\n",
       "      <td>NaN</td>\n",
       "      <td>NaN</td>\n",
       "      <td>NaN</td>\n",
       "      <td>NaN</td>\n",
       "      <td>NaN</td>\n",
       "      <td>NaN</td>\n",
       "      <td>NaN</td>\n",
       "    </tr>\n",
       "    <tr>\n",
       "      <th>1</th>\n",
       "      <td>USC00420072</td>\n",
       "      <td>ALTA, UT US</td>\n",
       "      <td>40.59058</td>\n",
       "      <td>-111.63703</td>\n",
       "      <td>2654.8</td>\n",
       "      <td>1980-01-02</td>\n",
       "      <td>NaN</td>\n",
       "      <td>NaN</td>\n",
       "      <td>NaN</td>\n",
       "      <td>NaN</td>\n",
       "      <td>...</td>\n",
       "      <td>NaN</td>\n",
       "      <td>NaN</td>\n",
       "      <td>NaN</td>\n",
       "      <td>NaN</td>\n",
       "      <td>NaN</td>\n",
       "      <td>NaN</td>\n",
       "      <td>NaN</td>\n",
       "      <td>NaN</td>\n",
       "      <td>NaN</td>\n",
       "      <td>NaN</td>\n",
       "    </tr>\n",
       "    <tr>\n",
       "      <th>2</th>\n",
       "      <td>USC00420072</td>\n",
       "      <td>ALTA, UT US</td>\n",
       "      <td>40.59058</td>\n",
       "      <td>-111.63703</td>\n",
       "      <td>2654.8</td>\n",
       "      <td>1980-01-03</td>\n",
       "      <td>NaN</td>\n",
       "      <td>NaN</td>\n",
       "      <td>NaN</td>\n",
       "      <td>NaN</td>\n",
       "      <td>...</td>\n",
       "      <td>NaN</td>\n",
       "      <td>NaN</td>\n",
       "      <td>NaN</td>\n",
       "      <td>NaN</td>\n",
       "      <td>NaN</td>\n",
       "      <td>NaN</td>\n",
       "      <td>NaN</td>\n",
       "      <td>NaN</td>\n",
       "      <td>NaN</td>\n",
       "      <td>NaN</td>\n",
       "    </tr>\n",
       "    <tr>\n",
       "      <th>3</th>\n",
       "      <td>USC00420072</td>\n",
       "      <td>ALTA, UT US</td>\n",
       "      <td>40.59058</td>\n",
       "      <td>-111.63703</td>\n",
       "      <td>2654.8</td>\n",
       "      <td>1980-01-04</td>\n",
       "      <td>NaN</td>\n",
       "      <td>NaN</td>\n",
       "      <td>NaN</td>\n",
       "      <td>NaN</td>\n",
       "      <td>...</td>\n",
       "      <td>NaN</td>\n",
       "      <td>NaN</td>\n",
       "      <td>NaN</td>\n",
       "      <td>NaN</td>\n",
       "      <td>NaN</td>\n",
       "      <td>NaN</td>\n",
       "      <td>NaN</td>\n",
       "      <td>NaN</td>\n",
       "      <td>NaN</td>\n",
       "      <td>NaN</td>\n",
       "    </tr>\n",
       "    <tr>\n",
       "      <th>4</th>\n",
       "      <td>USC00420072</td>\n",
       "      <td>ALTA, UT US</td>\n",
       "      <td>40.59058</td>\n",
       "      <td>-111.63703</td>\n",
       "      <td>2654.8</td>\n",
       "      <td>1980-01-05</td>\n",
       "      <td>NaN</td>\n",
       "      <td>NaN</td>\n",
       "      <td>NaN</td>\n",
       "      <td>NaN</td>\n",
       "      <td>...</td>\n",
       "      <td>NaN</td>\n",
       "      <td>NaN</td>\n",
       "      <td>NaN</td>\n",
       "      <td>NaN</td>\n",
       "      <td>NaN</td>\n",
       "      <td>NaN</td>\n",
       "      <td>NaN</td>\n",
       "      <td>NaN</td>\n",
       "      <td>NaN</td>\n",
       "      <td>NaN</td>\n",
       "    </tr>\n",
       "  </tbody>\n",
       "</table>\n",
       "<p>5 rows × 38 columns</p>\n",
       "</div>"
      ],
      "text/plain": [
       "       STATION         NAME  LATITUDE  LONGITUDE  ELEVATION        DATE  DAPR  \\\n",
       "0  USC00420072  ALTA, UT US  40.59058 -111.63703     2654.8  1980-01-01   NaN   \n",
       "1  USC00420072  ALTA, UT US  40.59058 -111.63703     2654.8  1980-01-02   NaN   \n",
       "2  USC00420072  ALTA, UT US  40.59058 -111.63703     2654.8  1980-01-03   NaN   \n",
       "3  USC00420072  ALTA, UT US  40.59058 -111.63703     2654.8  1980-01-04   NaN   \n",
       "4  USC00420072  ALTA, UT US  40.59058 -111.63703     2654.8  1980-01-05   NaN   \n",
       "\n",
       "  DAPR_ATTRIBUTES  DASF DASF_ATTRIBUTES  ...  WT03 WT03_ATTRIBUTES  WT04  \\\n",
       "0             NaN   NaN             NaN  ...   NaN             NaN   NaN   \n",
       "1             NaN   NaN             NaN  ...   NaN             NaN   NaN   \n",
       "2             NaN   NaN             NaN  ...   NaN             NaN   NaN   \n",
       "3             NaN   NaN             NaN  ...   NaN             NaN   NaN   \n",
       "4             NaN   NaN             NaN  ...   NaN             NaN   NaN   \n",
       "\n",
       "  WT04_ATTRIBUTES  WT05 WT05_ATTRIBUTES  WT06 WT06_ATTRIBUTES  WT11  \\\n",
       "0             NaN   NaN             NaN   NaN             NaN   NaN   \n",
       "1             NaN   NaN             NaN   NaN             NaN   NaN   \n",
       "2             NaN   NaN             NaN   NaN             NaN   NaN   \n",
       "3             NaN   NaN             NaN   NaN             NaN   NaN   \n",
       "4             NaN   NaN             NaN   NaN             NaN   NaN   \n",
       "\n",
       "  WT11_ATTRIBUTES  \n",
       "0             NaN  \n",
       "1             NaN  \n",
       "2             NaN  \n",
       "3             NaN  \n",
       "4             NaN  \n",
       "\n",
       "[5 rows x 38 columns]"
      ]
     },
     "execution_count": 83,
     "metadata": {},
     "output_type": "execute_result"
    }
   ],
   "source": [
    "alta_df.head()"
   ]
  },
  {
   "cell_type": "code",
   "execution_count": 84,
   "id": "0ea6943d",
   "metadata": {},
   "outputs": [],
   "source": [
    "dates = pd.to_datetime(alta_df.DATE)"
   ]
  },
  {
   "cell_type": "code",
   "execution_count": 85,
   "id": "7be1bbdb",
   "metadata": {},
   "outputs": [
    {
     "data": {
      "text/plain": [
       "0       1980-01-01\n",
       "1       1980-01-02\n",
       "2       1980-01-03\n",
       "3       1980-01-04\n",
       "4       1980-01-05\n",
       "           ...    \n",
       "14271   2019-12-27\n",
       "14272   2019-12-28\n",
       "14273   2019-12-29\n",
       "14274   2019-12-30\n",
       "14275   2019-12-31\n",
       "Name: DATE, Length: 14276, dtype: datetime64[ns]"
      ]
     },
     "execution_count": 85,
     "metadata": {},
     "output_type": "execute_result"
    }
   ],
   "source": [
    "dates"
   ]
  },
  {
   "cell_type": "code",
   "execution_count": 86,
   "id": "3e44d449",
   "metadata": {},
   "outputs": [
    {
     "data": {
      "text/plain": [
       "0           Martes\n",
       "1        Miércoles\n",
       "2           Jueves\n",
       "3          Viernes\n",
       "4           Sábado\n",
       "           ...    \n",
       "14271      Viernes\n",
       "14272       Sábado\n",
       "14273      Domingo\n",
       "14274        Lunes\n",
       "14275       Martes\n",
       "Name: DATE, Length: 14276, dtype: object"
      ]
     },
     "execution_count": 86,
     "metadata": {},
     "output_type": "execute_result"
    }
   ],
   "source": [
    "dates.dt.day_name('es_ES')"
   ]
  },
  {
   "cell_type": "code",
   "execution_count": 87,
   "id": "e19fc385",
   "metadata": {},
   "outputs": [
    {
     "data": {
      "text/plain": [
       "0        False\n",
       "1        False\n",
       "2        False\n",
       "3        False\n",
       "4        False\n",
       "         ...  \n",
       "14271    False\n",
       "14272    False\n",
       "14273    False\n",
       "14274    False\n",
       "14275     True\n",
       "Name: DATE, Length: 14276, dtype: bool"
      ]
     },
     "execution_count": 87,
     "metadata": {},
     "output_type": "execute_result"
    }
   ],
   "source": [
    "# property because no parameters to specify for different behavior\n",
    "dates.dt.is_month_end"
   ]
  },
  {
   "cell_type": "code",
   "execution_count": 88,
   "id": "79946ef6",
   "metadata": {},
   "outputs": [
    {
     "data": {
      "text/plain": [
       "0        01/01/80\n",
       "1        02/01/80\n",
       "2        03/01/80\n",
       "3        04/01/80\n",
       "4        05/01/80\n",
       "           ...   \n",
       "14271    27/12/19\n",
       "14272    28/12/19\n",
       "14273    29/12/19\n",
       "14274    30/12/19\n",
       "14275    31/12/19\n",
       "Name: DATE, Length: 14276, dtype: object"
      ]
     },
     "execution_count": 88,
     "metadata": {},
     "output_type": "execute_result"
    }
   ],
   "source": [
    "# method because you can and should provide parameters\n",
    "dates.dt.strftime('%d/%m/%y')"
   ]
  },
  {
   "cell_type": "markdown",
   "id": "05eeee15",
   "metadata": {},
   "source": [
    "### P-Sets\n",
    "With a dataset of your choice:\n",
    "1. Convert a column with date information into a datetime column.\n",
    "2. Convert a date column into UTC dates.\n",
    "3. Convert a date column into local dates with a timezone.\n",
    "4. Convert a date colum into epoch values.\n",
    "5. Convert an epoch number into UTC."
   ]
  },
  {
   "cell_type": "code",
   "execution_count": 89,
   "id": "a7855a24",
   "metadata": {},
   "outputs": [
    {
     "data": {
      "text/html": [
       "<div>\n",
       "<style scoped>\n",
       "    .dataframe tbody tr th:only-of-type {\n",
       "        vertical-align: middle;\n",
       "    }\n",
       "\n",
       "    .dataframe tbody tr th {\n",
       "        vertical-align: top;\n",
       "    }\n",
       "\n",
       "    .dataframe thead th {\n",
       "        text-align: right;\n",
       "    }\n",
       "</style>\n",
       "<table border=\"1\" class=\"dataframe\">\n",
       "  <thead>\n",
       "    <tr style=\"text-align: right;\">\n",
       "      <th></th>\n",
       "      <th>date</th>\n",
       "      <th>home_team</th>\n",
       "      <th>away_team</th>\n",
       "      <th>home_team_continent</th>\n",
       "      <th>away_team_continent</th>\n",
       "      <th>home_team_fifa_rank</th>\n",
       "      <th>away_team_fifa_rank</th>\n",
       "      <th>home_team_total_fifa_points</th>\n",
       "      <th>away_team_total_fifa_points</th>\n",
       "      <th>home_team_score</th>\n",
       "      <th>...</th>\n",
       "      <th>shoot_out</th>\n",
       "      <th>home_team_result</th>\n",
       "      <th>home_team_goalkeeper_score</th>\n",
       "      <th>away_team_goalkeeper_score</th>\n",
       "      <th>home_team_mean_defense_score</th>\n",
       "      <th>home_team_mean_offense_score</th>\n",
       "      <th>home_team_mean_midfield_score</th>\n",
       "      <th>away_team_mean_defense_score</th>\n",
       "      <th>away_team_mean_offense_score</th>\n",
       "      <th>away_team_mean_midfield_score</th>\n",
       "    </tr>\n",
       "  </thead>\n",
       "  <tbody>\n",
       "    <tr>\n",
       "      <th>0</th>\n",
       "      <td>1993-08-08</td>\n",
       "      <td>Bolivia</td>\n",
       "      <td>Uruguay</td>\n",
       "      <td>South America</td>\n",
       "      <td>South America</td>\n",
       "      <td>59</td>\n",
       "      <td>22</td>\n",
       "      <td>0</td>\n",
       "      <td>0</td>\n",
       "      <td>3</td>\n",
       "      <td>...</td>\n",
       "      <td>No</td>\n",
       "      <td>Win</td>\n",
       "      <td>NaN</td>\n",
       "      <td>NaN</td>\n",
       "      <td>NaN</td>\n",
       "      <td>NaN</td>\n",
       "      <td>NaN</td>\n",
       "      <td>NaN</td>\n",
       "      <td>NaN</td>\n",
       "      <td>NaN</td>\n",
       "    </tr>\n",
       "    <tr>\n",
       "      <th>1</th>\n",
       "      <td>1993-08-08</td>\n",
       "      <td>Brazil</td>\n",
       "      <td>Mexico</td>\n",
       "      <td>South America</td>\n",
       "      <td>North America</td>\n",
       "      <td>8</td>\n",
       "      <td>14</td>\n",
       "      <td>0</td>\n",
       "      <td>0</td>\n",
       "      <td>1</td>\n",
       "      <td>...</td>\n",
       "      <td>No</td>\n",
       "      <td>Draw</td>\n",
       "      <td>NaN</td>\n",
       "      <td>NaN</td>\n",
       "      <td>NaN</td>\n",
       "      <td>NaN</td>\n",
       "      <td>NaN</td>\n",
       "      <td>NaN</td>\n",
       "      <td>NaN</td>\n",
       "      <td>NaN</td>\n",
       "    </tr>\n",
       "    <tr>\n",
       "      <th>2</th>\n",
       "      <td>1993-08-08</td>\n",
       "      <td>Ecuador</td>\n",
       "      <td>Venezuela</td>\n",
       "      <td>South America</td>\n",
       "      <td>South America</td>\n",
       "      <td>35</td>\n",
       "      <td>94</td>\n",
       "      <td>0</td>\n",
       "      <td>0</td>\n",
       "      <td>5</td>\n",
       "      <td>...</td>\n",
       "      <td>No</td>\n",
       "      <td>Win</td>\n",
       "      <td>NaN</td>\n",
       "      <td>NaN</td>\n",
       "      <td>NaN</td>\n",
       "      <td>NaN</td>\n",
       "      <td>NaN</td>\n",
       "      <td>NaN</td>\n",
       "      <td>NaN</td>\n",
       "      <td>NaN</td>\n",
       "    </tr>\n",
       "    <tr>\n",
       "      <th>3</th>\n",
       "      <td>1993-08-08</td>\n",
       "      <td>Guinea</td>\n",
       "      <td>Sierra Leone</td>\n",
       "      <td>Africa</td>\n",
       "      <td>Africa</td>\n",
       "      <td>65</td>\n",
       "      <td>86</td>\n",
       "      <td>0</td>\n",
       "      <td>0</td>\n",
       "      <td>1</td>\n",
       "      <td>...</td>\n",
       "      <td>No</td>\n",
       "      <td>Win</td>\n",
       "      <td>NaN</td>\n",
       "      <td>NaN</td>\n",
       "      <td>NaN</td>\n",
       "      <td>NaN</td>\n",
       "      <td>NaN</td>\n",
       "      <td>NaN</td>\n",
       "      <td>NaN</td>\n",
       "      <td>NaN</td>\n",
       "    </tr>\n",
       "    <tr>\n",
       "      <th>4</th>\n",
       "      <td>1993-08-08</td>\n",
       "      <td>Paraguay</td>\n",
       "      <td>Argentina</td>\n",
       "      <td>South America</td>\n",
       "      <td>South America</td>\n",
       "      <td>67</td>\n",
       "      <td>5</td>\n",
       "      <td>0</td>\n",
       "      <td>0</td>\n",
       "      <td>1</td>\n",
       "      <td>...</td>\n",
       "      <td>No</td>\n",
       "      <td>Lose</td>\n",
       "      <td>NaN</td>\n",
       "      <td>NaN</td>\n",
       "      <td>NaN</td>\n",
       "      <td>NaN</td>\n",
       "      <td>NaN</td>\n",
       "      <td>NaN</td>\n",
       "      <td>NaN</td>\n",
       "      <td>NaN</td>\n",
       "    </tr>\n",
       "  </tbody>\n",
       "</table>\n",
       "<p>5 rows × 25 columns</p>\n",
       "</div>"
      ],
      "text/plain": [
       "         date home_team     away_team home_team_continent away_team_continent  \\\n",
       "0  1993-08-08   Bolivia       Uruguay       South America       South America   \n",
       "1  1993-08-08    Brazil        Mexico       South America       North America   \n",
       "2  1993-08-08   Ecuador     Venezuela       South America       South America   \n",
       "3  1993-08-08    Guinea  Sierra Leone              Africa              Africa   \n",
       "4  1993-08-08  Paraguay     Argentina       South America       South America   \n",
       "\n",
       "   home_team_fifa_rank  away_team_fifa_rank  home_team_total_fifa_points  \\\n",
       "0                   59                   22                            0   \n",
       "1                    8                   14                            0   \n",
       "2                   35                   94                            0   \n",
       "3                   65                   86                            0   \n",
       "4                   67                    5                            0   \n",
       "\n",
       "   away_team_total_fifa_points  home_team_score  ...  shoot_out  \\\n",
       "0                            0                3  ...         No   \n",
       "1                            0                1  ...         No   \n",
       "2                            0                5  ...         No   \n",
       "3                            0                1  ...         No   \n",
       "4                            0                1  ...         No   \n",
       "\n",
       "  home_team_result home_team_goalkeeper_score away_team_goalkeeper_score  \\\n",
       "0              Win                        NaN                        NaN   \n",
       "1             Draw                        NaN                        NaN   \n",
       "2              Win                        NaN                        NaN   \n",
       "3              Win                        NaN                        NaN   \n",
       "4             Lose                        NaN                        NaN   \n",
       "\n",
       "   home_team_mean_defense_score home_team_mean_offense_score  \\\n",
       "0                           NaN                          NaN   \n",
       "1                           NaN                          NaN   \n",
       "2                           NaN                          NaN   \n",
       "3                           NaN                          NaN   \n",
       "4                           NaN                          NaN   \n",
       "\n",
       "  home_team_mean_midfield_score  away_team_mean_defense_score  \\\n",
       "0                           NaN                           NaN   \n",
       "1                           NaN                           NaN   \n",
       "2                           NaN                           NaN   \n",
       "3                           NaN                           NaN   \n",
       "4                           NaN                           NaN   \n",
       "\n",
       "   away_team_mean_offense_score  away_team_mean_midfield_score  \n",
       "0                           NaN                            NaN  \n",
       "1                           NaN                            NaN  \n",
       "2                           NaN                            NaN  \n",
       "3                           NaN                            NaN  \n",
       "4                           NaN                            NaN  \n",
       "\n",
       "[5 rows x 25 columns]"
      ]
     },
     "execution_count": 89,
     "metadata": {},
     "output_type": "execute_result"
    }
   ],
   "source": [
    "fifa.head()"
   ]
  },
  {
   "cell_type": "code",
   "execution_count": 90,
   "id": "a86979d0",
   "metadata": {},
   "outputs": [],
   "source": [
    "f_dates = pd.to_datetime(fifa.date, utc=True)"
   ]
  },
  {
   "cell_type": "code",
   "execution_count": 91,
   "id": "f66c1259",
   "metadata": {},
   "outputs": [
    {
     "data": {
      "text/plain": [
       "0       1993-08-08 00:00:00+00:00\n",
       "1       1993-08-08 00:00:00+00:00\n",
       "2       1993-08-08 00:00:00+00:00\n",
       "3       1993-08-08 00:00:00+00:00\n",
       "4       1993-08-08 00:00:00+00:00\n",
       "                   ...           \n",
       "23916   2022-06-14 00:00:00+00:00\n",
       "23917   2022-06-14 00:00:00+00:00\n",
       "23918   2022-06-14 00:00:00+00:00\n",
       "23919   2022-06-14 00:00:00+00:00\n",
       "23920   2022-06-14 00:00:00+00:00\n",
       "Name: date, Length: 23921, dtype: datetime64[ns, UTC]"
      ]
     },
     "execution_count": 91,
     "metadata": {},
     "output_type": "execute_result"
    }
   ],
   "source": [
    "f_dates"
   ]
  },
  {
   "cell_type": "code",
   "execution_count": 92,
   "id": "2af96b41",
   "metadata": {},
   "outputs": [
    {
     "data": {
      "text/plain": [
       "0       1993-08-07 19:00:00-05:00\n",
       "1       1993-08-07 19:00:00-05:00\n",
       "2       1993-08-07 19:00:00-05:00\n",
       "3       1993-08-07 19:00:00-05:00\n",
       "4       1993-08-07 19:00:00-05:00\n",
       "                   ...           \n",
       "23916   2022-06-13 19:00:00-05:00\n",
       "23917   2022-06-13 19:00:00-05:00\n",
       "23918   2022-06-13 19:00:00-05:00\n",
       "23919   2022-06-13 19:00:00-05:00\n",
       "23920   2022-06-13 19:00:00-05:00\n",
       "Name: date, Length: 23921, dtype: datetime64[ns, America/Chicago]"
      ]
     },
     "execution_count": 92,
     "metadata": {},
     "output_type": "execute_result"
    }
   ],
   "source": [
    "f_dates.dt.tz_convert('America/Chicago')"
   ]
  },
  {
   "cell_type": "code",
   "execution_count": 93,
   "id": "8fd92b45",
   "metadata": {},
   "outputs": [],
   "source": [
    "secs = (f_dates.dt.tz_convert(None) - dt.datetime(1970,1,1)).dt.total_seconds().astype(int)"
   ]
  },
  {
   "cell_type": "code",
   "execution_count": 94,
   "id": "96b1caa4",
   "metadata": {},
   "outputs": [
    {
     "data": {
      "text/plain": [
       "0         744768000\n",
       "1         744768000\n",
       "2         744768000\n",
       "3         744768000\n",
       "4         744768000\n",
       "            ...    \n",
       "23916    1655164800\n",
       "23917    1655164800\n",
       "23918    1655164800\n",
       "23919    1655164800\n",
       "23920    1655164800\n",
       "Name: date, Length: 23921, dtype: int32"
      ]
     },
     "execution_count": 94,
     "metadata": {},
     "output_type": "execute_result"
    }
   ],
   "source": [
    "secs"
   ]
  },
  {
   "cell_type": "code",
   "execution_count": 95,
   "id": "4cb41685",
   "metadata": {},
   "outputs": [
    {
     "data": {
      "text/plain": [
       "0       1993-08-08 00:00:00+00:00\n",
       "1       1993-08-08 00:00:00+00:00\n",
       "2       1993-08-08 00:00:00+00:00\n",
       "3       1993-08-08 00:00:00+00:00\n",
       "4       1993-08-08 00:00:00+00:00\n",
       "                   ...           \n",
       "23916   2022-06-14 00:00:00+00:00\n",
       "23917   2022-06-14 00:00:00+00:00\n",
       "23918   2022-06-14 00:00:00+00:00\n",
       "23919   2022-06-14 00:00:00+00:00\n",
       "23920   2022-06-14 00:00:00+00:00\n",
       "Name: date, Length: 23921, dtype: datetime64[ns, UTC]"
      ]
     },
     "execution_count": 95,
     "metadata": {},
     "output_type": "execute_result"
    }
   ],
   "source": [
    "(pd.to_datetime(secs, unit='s').dt.tz_localize('UTC'))"
   ]
  },
  {
   "cell_type": "markdown",
   "id": "6659e0a2",
   "metadata": {},
   "source": [
    "## Ch13 DateTime indexes\n",
    "With a datetime index you can do some powerful manipulation of datasets, and pandas understands how to aggregate and subdivide based on date datatypes.\n",
    "\n",
    "### Using dates to subdivide data\n",
    "Shifting back to the altavist ski resort dataframe, we will move the dates into the index to interogate the snowfall data.  This requires an initial shift of the date column into the index."
   ]
  },
  {
   "cell_type": "code",
   "execution_count": 96,
   "id": "fb19c38f",
   "metadata": {},
   "outputs": [
    {
     "data": {
      "text/html": [
       "<div>\n",
       "<style scoped>\n",
       "    .dataframe tbody tr th:only-of-type {\n",
       "        vertical-align: middle;\n",
       "    }\n",
       "\n",
       "    .dataframe tbody tr th {\n",
       "        vertical-align: top;\n",
       "    }\n",
       "\n",
       "    .dataframe thead th {\n",
       "        text-align: right;\n",
       "    }\n",
       "</style>\n",
       "<table border=\"1\" class=\"dataframe\">\n",
       "  <thead>\n",
       "    <tr style=\"text-align: right;\">\n",
       "      <th></th>\n",
       "      <th>STATION</th>\n",
       "      <th>NAME</th>\n",
       "      <th>LATITUDE</th>\n",
       "      <th>LONGITUDE</th>\n",
       "      <th>ELEVATION</th>\n",
       "      <th>DATE</th>\n",
       "      <th>DAPR</th>\n",
       "      <th>DAPR_ATTRIBUTES</th>\n",
       "      <th>DASF</th>\n",
       "      <th>DASF_ATTRIBUTES</th>\n",
       "      <th>...</th>\n",
       "      <th>WT03</th>\n",
       "      <th>WT03_ATTRIBUTES</th>\n",
       "      <th>WT04</th>\n",
       "      <th>WT04_ATTRIBUTES</th>\n",
       "      <th>WT05</th>\n",
       "      <th>WT05_ATTRIBUTES</th>\n",
       "      <th>WT06</th>\n",
       "      <th>WT06_ATTRIBUTES</th>\n",
       "      <th>WT11</th>\n",
       "      <th>WT11_ATTRIBUTES</th>\n",
       "    </tr>\n",
       "  </thead>\n",
       "  <tbody>\n",
       "    <tr>\n",
       "      <th>0</th>\n",
       "      <td>USC00420072</td>\n",
       "      <td>ALTA, UT US</td>\n",
       "      <td>40.59058</td>\n",
       "      <td>-111.63703</td>\n",
       "      <td>2654.8</td>\n",
       "      <td>1980-01-01</td>\n",
       "      <td>NaN</td>\n",
       "      <td>NaN</td>\n",
       "      <td>NaN</td>\n",
       "      <td>NaN</td>\n",
       "      <td>...</td>\n",
       "      <td>NaN</td>\n",
       "      <td>NaN</td>\n",
       "      <td>NaN</td>\n",
       "      <td>NaN</td>\n",
       "      <td>NaN</td>\n",
       "      <td>NaN</td>\n",
       "      <td>NaN</td>\n",
       "      <td>NaN</td>\n",
       "      <td>NaN</td>\n",
       "      <td>NaN</td>\n",
       "    </tr>\n",
       "    <tr>\n",
       "      <th>1</th>\n",
       "      <td>USC00420072</td>\n",
       "      <td>ALTA, UT US</td>\n",
       "      <td>40.59058</td>\n",
       "      <td>-111.63703</td>\n",
       "      <td>2654.8</td>\n",
       "      <td>1980-01-02</td>\n",
       "      <td>NaN</td>\n",
       "      <td>NaN</td>\n",
       "      <td>NaN</td>\n",
       "      <td>NaN</td>\n",
       "      <td>...</td>\n",
       "      <td>NaN</td>\n",
       "      <td>NaN</td>\n",
       "      <td>NaN</td>\n",
       "      <td>NaN</td>\n",
       "      <td>NaN</td>\n",
       "      <td>NaN</td>\n",
       "      <td>NaN</td>\n",
       "      <td>NaN</td>\n",
       "      <td>NaN</td>\n",
       "      <td>NaN</td>\n",
       "    </tr>\n",
       "    <tr>\n",
       "      <th>2</th>\n",
       "      <td>USC00420072</td>\n",
       "      <td>ALTA, UT US</td>\n",
       "      <td>40.59058</td>\n",
       "      <td>-111.63703</td>\n",
       "      <td>2654.8</td>\n",
       "      <td>1980-01-03</td>\n",
       "      <td>NaN</td>\n",
       "      <td>NaN</td>\n",
       "      <td>NaN</td>\n",
       "      <td>NaN</td>\n",
       "      <td>...</td>\n",
       "      <td>NaN</td>\n",
       "      <td>NaN</td>\n",
       "      <td>NaN</td>\n",
       "      <td>NaN</td>\n",
       "      <td>NaN</td>\n",
       "      <td>NaN</td>\n",
       "      <td>NaN</td>\n",
       "      <td>NaN</td>\n",
       "      <td>NaN</td>\n",
       "      <td>NaN</td>\n",
       "    </tr>\n",
       "    <tr>\n",
       "      <th>3</th>\n",
       "      <td>USC00420072</td>\n",
       "      <td>ALTA, UT US</td>\n",
       "      <td>40.59058</td>\n",
       "      <td>-111.63703</td>\n",
       "      <td>2654.8</td>\n",
       "      <td>1980-01-04</td>\n",
       "      <td>NaN</td>\n",
       "      <td>NaN</td>\n",
       "      <td>NaN</td>\n",
       "      <td>NaN</td>\n",
       "      <td>...</td>\n",
       "      <td>NaN</td>\n",
       "      <td>NaN</td>\n",
       "      <td>NaN</td>\n",
       "      <td>NaN</td>\n",
       "      <td>NaN</td>\n",
       "      <td>NaN</td>\n",
       "      <td>NaN</td>\n",
       "      <td>NaN</td>\n",
       "      <td>NaN</td>\n",
       "      <td>NaN</td>\n",
       "    </tr>\n",
       "    <tr>\n",
       "      <th>4</th>\n",
       "      <td>USC00420072</td>\n",
       "      <td>ALTA, UT US</td>\n",
       "      <td>40.59058</td>\n",
       "      <td>-111.63703</td>\n",
       "      <td>2654.8</td>\n",
       "      <td>1980-01-05</td>\n",
       "      <td>NaN</td>\n",
       "      <td>NaN</td>\n",
       "      <td>NaN</td>\n",
       "      <td>NaN</td>\n",
       "      <td>...</td>\n",
       "      <td>NaN</td>\n",
       "      <td>NaN</td>\n",
       "      <td>NaN</td>\n",
       "      <td>NaN</td>\n",
       "      <td>NaN</td>\n",
       "      <td>NaN</td>\n",
       "      <td>NaN</td>\n",
       "      <td>NaN</td>\n",
       "      <td>NaN</td>\n",
       "      <td>NaN</td>\n",
       "    </tr>\n",
       "  </tbody>\n",
       "</table>\n",
       "<p>5 rows × 38 columns</p>\n",
       "</div>"
      ],
      "text/plain": [
       "       STATION         NAME  LATITUDE  LONGITUDE  ELEVATION        DATE  DAPR  \\\n",
       "0  USC00420072  ALTA, UT US  40.59058 -111.63703     2654.8  1980-01-01   NaN   \n",
       "1  USC00420072  ALTA, UT US  40.59058 -111.63703     2654.8  1980-01-02   NaN   \n",
       "2  USC00420072  ALTA, UT US  40.59058 -111.63703     2654.8  1980-01-03   NaN   \n",
       "3  USC00420072  ALTA, UT US  40.59058 -111.63703     2654.8  1980-01-04   NaN   \n",
       "4  USC00420072  ALTA, UT US  40.59058 -111.63703     2654.8  1980-01-05   NaN   \n",
       "\n",
       "  DAPR_ATTRIBUTES  DASF DASF_ATTRIBUTES  ...  WT03 WT03_ATTRIBUTES  WT04  \\\n",
       "0             NaN   NaN             NaN  ...   NaN             NaN   NaN   \n",
       "1             NaN   NaN             NaN  ...   NaN             NaN   NaN   \n",
       "2             NaN   NaN             NaN  ...   NaN             NaN   NaN   \n",
       "3             NaN   NaN             NaN  ...   NaN             NaN   NaN   \n",
       "4             NaN   NaN             NaN  ...   NaN             NaN   NaN   \n",
       "\n",
       "  WT04_ATTRIBUTES  WT05 WT05_ATTRIBUTES  WT06 WT06_ATTRIBUTES  WT11  \\\n",
       "0             NaN   NaN             NaN   NaN             NaN   NaN   \n",
       "1             NaN   NaN             NaN   NaN             NaN   NaN   \n",
       "2             NaN   NaN             NaN   NaN             NaN   NaN   \n",
       "3             NaN   NaN             NaN   NaN             NaN   NaN   \n",
       "4             NaN   NaN             NaN   NaN             NaN   NaN   \n",
       "\n",
       "  WT11_ATTRIBUTES  \n",
       "0             NaN  \n",
       "1             NaN  \n",
       "2             NaN  \n",
       "3             NaN  \n",
       "4             NaN  \n",
       "\n",
       "[5 rows x 38 columns]"
      ]
     },
     "execution_count": 96,
     "metadata": {},
     "output_type": "execute_result"
    }
   ],
   "source": [
    "alta_df.head()"
   ]
  },
  {
   "cell_type": "code",
   "execution_count": 97,
   "id": "b54a72a5",
   "metadata": {},
   "outputs": [],
   "source": [
    "dates = pd.to_datetime(alta_df.DATE)\n",
    "snow = (alta_df\n",
    "        .SNOW\n",
    "        .rename(dates)\n",
    "       )"
   ]
  },
  {
   "cell_type": "code",
   "execution_count": 98,
   "id": "e5ce18e9",
   "metadata": {},
   "outputs": [
    {
     "data": {
      "text/plain": [
       "1980-01-01    2.0\n",
       "1980-01-02    3.0\n",
       "1980-01-03    1.0\n",
       "1980-01-04    0.0\n",
       "1980-01-05    0.0\n",
       "             ... \n",
       "2019-12-27    0.0\n",
       "2019-12-28    3.2\n",
       "2019-12-29    3.8\n",
       "2019-12-30    2.4\n",
       "2019-12-31    0.0\n",
       "Name: SNOW, Length: 14276, dtype: float64"
      ]
     },
     "execution_count": 98,
     "metadata": {},
     "output_type": "execute_result"
    }
   ],
   "source": [
    "snow"
   ]
  },
  {
   "cell_type": "code",
   "execution_count": 99,
   "id": "c150b95c",
   "metadata": {},
   "outputs": [
    {
     "data": {
      "text/plain": [
       "True"
      ]
     },
     "execution_count": 99,
     "metadata": {},
     "output_type": "execute_result"
    }
   ],
   "source": [
    "snow.isna().any()"
   ]
  },
  {
   "cell_type": "markdown",
   "id": "9ad7af51",
   "metadata": {},
   "source": [
    "### Dealing with missing data using datetime index\n",
    "There are many different approaches to leveraging a datetime index.  Multiple will be demonstrated here as we navigate missing data in the snow fall totals by day.  The focus is the index being used to manage the missing data."
   ]
  },
  {
   "cell_type": "code",
   "execution_count": 100,
   "id": "d64cf680",
   "metadata": {},
   "outputs": [
    {
     "data": {
      "text/plain": [
       "1985-07-30   NaN\n",
       "1985-09-12   NaN\n",
       "1985-09-19   NaN\n",
       "1986-02-07   NaN\n",
       "1986-06-26   NaN\n",
       "              ..\n",
       "2017-04-26   NaN\n",
       "2017-09-20   NaN\n",
       "2017-10-02   NaN\n",
       "2017-12-23   NaN\n",
       "2018-12-03   NaN\n",
       "Name: SNOW, Length: 365, dtype: float64"
      ]
     },
     "execution_count": 100,
     "metadata": {},
     "output_type": "execute_result"
    }
   ],
   "source": [
    "snow[snow.isna()]"
   ]
  },
  {
   "cell_type": "code",
   "execution_count": 101,
   "id": "68f3bfd5",
   "metadata": {},
   "outputs": [
    {
     "data": {
      "text/plain": [
       "1985-09-01    0.0\n",
       "1985-09-02    0.0\n",
       "1985-09-03    0.0\n",
       "1985-09-04    0.0\n",
       "1985-09-05    0.0\n",
       "1985-09-06    0.0\n",
       "1985-09-07    0.0\n",
       "1985-09-08    0.0\n",
       "1985-09-09    0.0\n",
       "1985-09-10    0.0\n",
       "1985-09-11    0.0\n",
       "1985-09-12    NaN\n",
       "1985-09-13    0.0\n",
       "1985-09-14    0.0\n",
       "1985-09-15    0.0\n",
       "1985-09-16    0.0\n",
       "1985-09-17    0.0\n",
       "1985-09-18    0.0\n",
       "1985-09-19    NaN\n",
       "1985-09-20    0.0\n",
       "Name: SNOW, dtype: float64"
      ]
     },
     "execution_count": 101,
     "metadata": {},
     "output_type": "execute_result"
    }
   ],
   "source": [
    "snow.loc['1985-09':'1985-09-20']"
   ]
  },
  {
   "cell_type": "code",
   "execution_count": 102,
   "id": "f2178cd2",
   "metadata": {},
   "outputs": [
    {
     "data": {
      "text/plain": [
       "1985-09-01    0.0\n",
       "1985-09-02    0.0\n",
       "1985-09-03    0.0\n",
       "1985-09-04    0.0\n",
       "1985-09-05    0.0\n",
       "1985-09-06    0.0\n",
       "1985-09-07    0.0\n",
       "1985-09-08    0.0\n",
       "1985-09-09    0.0\n",
       "1985-09-10    0.0\n",
       "1985-09-11    0.0\n",
       "1985-09-12    0.0\n",
       "1985-09-13    0.0\n",
       "1985-09-14    0.0\n",
       "1985-09-15    0.0\n",
       "1985-09-16    0.0\n",
       "1985-09-17    0.0\n",
       "1985-09-18    0.0\n",
       "1985-09-19    0.0\n",
       "1985-09-20    0.0\n",
       "Name: SNOW, dtype: float64"
      ]
     },
     "execution_count": 102,
     "metadata": {},
     "output_type": "execute_result"
    }
   ],
   "source": [
    "(snow\n",
    " .loc['1985-09':'1985-09-20']\n",
    " .fillna(0)\n",
    ")"
   ]
  },
  {
   "cell_type": "code",
   "execution_count": 103,
   "id": "6a0dbec6",
   "metadata": {},
   "outputs": [
    {
     "data": {
      "text/plain": [
       "1987-12-30    6.0\n",
       "1987-12-31    5.0\n",
       "1988-01-01    0.0\n",
       "1988-01-02    0.0\n",
       "1988-01-03    0.0\n",
       "1988-01-04    2.0\n",
       "1988-01-05    2.0\n",
       "1988-01-06    6.0\n",
       "1988-01-07    4.0\n",
       "1988-01-08    9.0\n",
       "1988-01-09    5.0\n",
       "1988-01-10    2.0\n",
       "Name: SNOW, dtype: float64"
      ]
     },
     "execution_count": 103,
     "metadata": {},
     "output_type": "execute_result"
    }
   ],
   "source": [
    "# Dealing with missing values when it is not summer means there could have been snow; ffill, bfill, \n",
    "(snow\n",
    " .loc['1987-12-30':'1988-01-10']\n",
    " .bfill()\n",
    ")"
   ]
  },
  {
   "cell_type": "code",
   "execution_count": 104,
   "id": "18426e95",
   "metadata": {},
   "outputs": [
    {
     "data": {
      "text/plain": [
       "1987-12-30    6.0\n",
       "1987-12-31    5.0\n",
       "1988-01-01    2.5\n",
       "1988-01-02    0.0\n",
       "1988-01-03    0.0\n",
       "1988-01-04    1.0\n",
       "1988-01-05    2.0\n",
       "1988-01-06    6.0\n",
       "1988-01-07    4.0\n",
       "1988-01-08    9.0\n",
       "1988-01-09    5.0\n",
       "1988-01-10    2.0\n",
       "Name: SNOW, dtype: float64"
      ]
     },
     "execution_count": 104,
     "metadata": {},
     "output_type": "execute_result"
    }
   ],
   "source": [
    "# Dealing with missing values when it is not summer means there could have been snow; ffill, bfill, \n",
    "(snow\n",
    " .loc['1987-12-30':'1988-01-10']\n",
    " .interpolate()\n",
    ")"
   ]
  },
  {
   "cell_type": "code",
   "execution_count": 105,
   "id": "f6645752",
   "metadata": {},
   "outputs": [
    {
     "data": {
      "text/plain": [
       "1980-01-01    2.0\n",
       "1980-01-02    3.0\n",
       "1980-01-03    1.0\n",
       "1980-01-04    0.0\n",
       "1980-01-05    0.0\n",
       "             ... \n",
       "2019-12-27    0.0\n",
       "2019-12-28    3.2\n",
       "2019-12-29    3.8\n",
       "2019-12-30    2.4\n",
       "2019-12-31    0.0\n",
       "Name: SNOW, Length: 14276, dtype: float64"
      ]
     },
     "execution_count": 105,
     "metadata": {},
     "output_type": "execute_result"
    }
   ],
   "source": [
    "# Smarter interpolation using where().  where() replaces false values\n",
    "winter = (snow.index.quarter == 1) | (snow.index.quarter ==4)\n",
    "(snow\n",
    " .where(~(winter & snow.isna()), snow.interpolate())\n",
    " .where(~(~winter & snow.isna()), 0)\n",
    ")"
   ]
  },
  {
   "cell_type": "code",
   "execution_count": 106,
   "id": "752b7602",
   "metadata": {},
   "outputs": [
    {
     "data": {
      "text/plain": [
       "1985-09-19    0.0\n",
       "1988-01-01    2.5\n",
       "Name: SNOW, dtype: float64"
      ]
     },
     "execution_count": 106,
     "metadata": {},
     "output_type": "execute_result"
    }
   ],
   "source": [
    "# Validation of previously Nan values using Smarter interpolation with where(). 0 for summer, interp for winter\n",
    "(snow\n",
    " .where(~(winter & snow.isna()), snow.interpolate())\n",
    " .where(~(~winter & snow.isna()), 0)\n",
    " .loc[['1985-09-19','1988-01-01']]\n",
    ")"
   ]
  },
  {
   "cell_type": "code",
   "execution_count": 107,
   "id": "efb7a485",
   "metadata": {},
   "outputs": [
    {
     "data": {
      "text/plain": [
       "1987-12-30    6.0\n",
       "1987-12-31    5.0\n",
       "1988-01-02    0.0\n",
       "1988-01-03    0.0\n",
       "1988-01-05    2.0\n",
       "1988-01-06    6.0\n",
       "1988-01-07    4.0\n",
       "1988-01-08    9.0\n",
       "1988-01-09    5.0\n",
       "1988-01-10    2.0\n",
       "Name: SNOW, dtype: float64"
      ]
     },
     "execution_count": 107,
     "metadata": {},
     "output_type": "execute_result"
    }
   ],
   "source": [
    "# Dealing with missing values when it is not summer means there could have been snow; ffill, bfill, \n",
    "(snow\n",
    " .loc['1987-12-30':'1988-01-10']\n",
    " .dropna()\n",
    ")"
   ]
  },
  {
   "cell_type": "markdown",
   "id": "10560081",
   "metadata": {},
   "source": [
    "### Shifting data\n",
    "Data can be shifted which is useful for sequenced data.  In those instances the data can be moved forward or backward for comparison."
   ]
  },
  {
   "cell_type": "code",
   "execution_count": 108,
   "id": "3b4cbef1",
   "metadata": {},
   "outputs": [
    {
     "data": {
      "text/plain": [
       "1980-01-01    2.0\n",
       "1980-01-02    3.0\n",
       "1980-01-03    1.0\n",
       "1980-01-04    0.0\n",
       "1980-01-05    0.0\n",
       "             ... \n",
       "2019-12-27    0.0\n",
       "2019-12-28    3.2\n",
       "2019-12-29    3.8\n",
       "2019-12-30    2.4\n",
       "2019-12-31    0.0\n",
       "Name: SNOW, Length: 14276, dtype: float64"
      ]
     },
     "execution_count": 108,
     "metadata": {},
     "output_type": "execute_result"
    }
   ],
   "source": [
    "snow"
   ]
  },
  {
   "cell_type": "code",
   "execution_count": 109,
   "id": "189ae69a",
   "metadata": {
    "scrolled": true
   },
   "outputs": [
    {
     "data": {
      "text/plain": [
       "1980-01-01    NaN\n",
       "1980-01-02    2.0\n",
       "1980-01-03    3.0\n",
       "1980-01-04    1.0\n",
       "1980-01-05    0.0\n",
       "             ... \n",
       "2019-12-27    1.4\n",
       "2019-12-28    0.0\n",
       "2019-12-29    3.2\n",
       "2019-12-30    3.8\n",
       "2019-12-31    2.4\n",
       "Name: SNOW, Length: 14276, dtype: float64"
      ]
     },
     "execution_count": 109,
     "metadata": {},
     "output_type": "execute_result"
    }
   ],
   "source": [
    "snow.shift(1)"
   ]
  },
  {
   "cell_type": "code",
   "execution_count": 110,
   "id": "20eedfa8",
   "metadata": {},
   "outputs": [
    {
     "data": {
      "text/plain": [
       "1980-01-01    3.0\n",
       "1980-01-02    1.0\n",
       "1980-01-03    0.0\n",
       "1980-01-04    0.0\n",
       "1980-01-05    1.0\n",
       "             ... \n",
       "2019-12-27    3.2\n",
       "2019-12-28    3.8\n",
       "2019-12-29    2.4\n",
       "2019-12-30    0.0\n",
       "2019-12-31    NaN\n",
       "Name: SNOW, Length: 14276, dtype: float64"
      ]
     },
     "execution_count": 110,
     "metadata": {},
     "output_type": "execute_result"
    }
   ],
   "source": [
    "snow.shift(-1)"
   ]
  },
  {
   "cell_type": "code",
   "execution_count": 111,
   "id": "bf227089",
   "metadata": {},
   "outputs": [
    {
     "data": {
      "text/plain": [
       "1980-01-01     NaN\n",
       "1980-01-02     NaN\n",
       "1980-01-03     NaN\n",
       "1980-01-04     NaN\n",
       "1980-01-05    1.20\n",
       "              ... \n",
       "2019-12-27    2.66\n",
       "2019-12-28    3.06\n",
       "2019-12-29    3.16\n",
       "2019-12-30    2.16\n",
       "2019-12-31    1.88\n",
       "Name: SNOW, Length: 14276, dtype: float64"
      ]
     },
     "execution_count": 111,
     "metadata": {},
     "output_type": "execute_result"
    }
   ],
   "source": [
    "# with this you can calculate a rolling average\n",
    "(snow\n",
    " .add(snow.shift(1))\n",
    " .add(snow.shift(2))\n",
    " .add(snow.shift(3))\n",
    " .add(snow.shift(4))\n",
    " .div(5)\n",
    ")"
   ]
  },
  {
   "cell_type": "code",
   "execution_count": 112,
   "id": "e08b9eaa",
   "metadata": {},
   "outputs": [
    {
     "data": {
      "text/plain": [
       "1980-01-01     NaN\n",
       "1980-01-02     NaN\n",
       "1980-01-03     NaN\n",
       "1980-01-04     NaN\n",
       "1980-01-05    1.20\n",
       "              ... \n",
       "2019-12-27    2.66\n",
       "2019-12-28    3.06\n",
       "2019-12-29    3.16\n",
       "2019-12-30    2.16\n",
       "2019-12-31    1.88\n",
       "Name: SNOW, Length: 14276, dtype: float64"
      ]
     },
     "execution_count": 112,
     "metadata": {},
     "output_type": "execute_result"
    }
   ],
   "source": [
    "# Of couse there is already a short hand in pandas for this\n",
    "(snow\n",
    " .rolling(5)\n",
    " .mean()\n",
    ")"
   ]
  },
  {
   "cell_type": "markdown",
   "id": "741facd9",
   "metadata": {},
   "source": [
    "### Rolling objects\n",
    "Extending this discussion, there are many methods that work to aggregate rolling objects.  The mean() is the most obvious example, but there are a number of other interesting ways to use the window of values to smooth and approximate behavior.\n",
    "- agg(): allows used defined function for scalar return\n",
    "- apply(): custom user defined aggregation\n",
    "- max(), min(), mean(), median(), count()\n",
    "- corr(): correlation coefficient\n",
    "- cov(): covariance"
   ]
  },
  {
   "cell_type": "code",
   "execution_count": 113,
   "id": "79fce9a3",
   "metadata": {},
   "outputs": [
    {
     "data": {
      "text/plain": [
       "1980-01-01    NaN\n",
       "1980-01-02    NaN\n",
       "1980-01-03    NaN\n",
       "1980-01-04    NaN\n",
       "1980-01-05    3.0\n",
       "             ... \n",
       "2019-12-27    7.4\n",
       "2019-12-28    7.4\n",
       "2019-12-29    7.4\n",
       "2019-12-30    3.8\n",
       "2019-12-31    3.8\n",
       "Name: SNOW, Length: 14276, dtype: float64"
      ]
     },
     "execution_count": 113,
     "metadata": {},
     "output_type": "execute_result"
    }
   ],
   "source": [
    "(snow\n",
    " .rolling(5)\n",
    " .max()\n",
    ")"
   ]
  },
  {
   "cell_type": "markdown",
   "id": "f877fa8e",
   "metadata": {},
   "source": [
    "### Resampling using date index\n",
    "Resampling is a great way to aggregate a data set across a specific timeframe depending on the granularity of the original data.  If you have daily data, you may want to resample for weekly max values, or perhaps monthly."
   ]
  },
  {
   "cell_type": "code",
   "execution_count": 114,
   "id": "d840bc38",
   "metadata": {},
   "outputs": [
    {
     "data": {
      "text/plain": [
       "1980-01-31    20.0\n",
       "1980-02-29    25.0\n",
       "1980-03-31    16.0\n",
       "1980-04-30    10.0\n",
       "1980-05-31     9.0\n",
       "              ... \n",
       "2019-08-31     0.0\n",
       "2019-09-30     2.8\n",
       "2019-10-31    12.4\n",
       "2019-11-30    14.7\n",
       "2019-12-31    11.5\n",
       "Freq: M, Name: SNOW, Length: 480, dtype: float64"
      ]
     },
     "execution_count": 114,
     "metadata": {},
     "output_type": "execute_result"
    }
   ],
   "source": [
    "(snow\n",
    " .resample('M')\n",
    " .max()\n",
    ")"
   ]
  },
  {
   "cell_type": "code",
   "execution_count": 115,
   "id": "2271aaa0",
   "metadata": {},
   "outputs": [
    {
     "name": "stderr",
     "output_type": "stream",
     "text": [
      "Bad value in file WindowsPath('C:/Users/KNHOFFM/.matplotlib/stylelib/xom.mplstyle'), line 11 ('lines.color: #0C479D'): Key lines.color: '' does not look like a color arg\n",
      "Bad value in file WindowsPath('C:/Users/KNHOFFM/.matplotlib/stylelib/xom.mplstyle'), line 15 ('patch.edgecolor: #FFFFFF'): Key patch.edgecolor: '' does not look like a color arg\n",
      "Bad value in file WindowsPath('C:/Users/KNHOFFM/.matplotlib/stylelib/xom.mplstyle'), line 16 ('patch.facecolor: #0C479D'): Key patch.facecolor: '' does not look like a color arg\n"
     ]
    },
    {
     "data": {
      "image/png": "[encoded data removed]",
      "text/plain": [
       "<Figure size 640x480 with 1 Axes>"
      ]
     },
     "metadata": {},
     "output_type": "display_data"
    }
   ],
   "source": [
    "# seasonal snowfall max on an annual basis.  A for annual, May for month of the year\n",
    "(snow\n",
    " .resample('A-May')\n",
    " .max()\n",
    " .plot()\n",
    ");"
   ]
  },
  {
   "cell_type": "code",
   "execution_count": 116,
   "id": "66564f2c",
   "metadata": {},
   "outputs": [
    {
     "data": {
      "text/plain": [
       "1980-01-01    1.388889\n",
       "1980-01-02    2.083333\n",
       "1980-01-03    0.694444\n",
       "1980-01-04    0.000000\n",
       "1980-01-05    0.000000\n",
       "                ...   \n",
       "2019-12-27    0.000000\n",
       "2019-12-28    4.295302\n",
       "2019-12-29    5.100671\n",
       "2019-12-30    3.221477\n",
       "2019-12-31    0.000000\n",
       "Name: SNOW, Length: 14276, dtype: float64"
      ]
     },
     "execution_count": 116,
     "metadata": {},
     "output_type": "execute_result"
    }
   ],
   "source": [
    "# Aggregating then transforming back to the original shape to show monthly percentage snow on date\n",
    "(snow\n",
    " .div(snow\n",
    "     .resample('M')\n",
    "     .transform('sum'))\n",
    " .mul(100)\n",
    " .fillna(0)\n",
    ")"
   ]
  },
  {
   "cell_type": "code",
   "execution_count": 117,
   "id": "7ae8d47a",
   "metadata": {},
   "outputs": [
    {
     "data": {
      "text/plain": [
       "2016-10-31     2.153969\n",
       "2016-11-30     9.772637\n",
       "2016-12-31    15.715995\n",
       "2017-01-31    25.468688\n",
       "2017-02-28    21.041085\n",
       "2017-03-31     9.274033\n",
       "2017-04-30    14.738732\n",
       "2017-05-31     1.834862\n",
       "Freq: M, Name: SNOW, dtype: float64"
      ]
     },
     "execution_count": 117,
     "metadata": {},
     "output_type": "execute_result"
    }
   ],
   "source": [
    "# Monthly percent contribution for snowfall for 2017 ske season\n",
    "season2017 = snow.loc['2016-10':'2017-05']\n",
    "(season2017\n",
    " .resample('M')\n",
    " .sum()\n",
    " .div(season2017.sum())\n",
    " .mul(100)\n",
    ")"
   ]
  },
  {
   "cell_type": "markdown",
   "id": "851fabfc",
   "metadata": {},
   "source": [
    "### Groupby, the generic resample\n",
    "Groupby is the utility resample method and can offer pretty effective methods for aggregating data.  This can work with or without a datetime index in place.  It is most common on DataFrames, but can also be used on Series information.  Here, the snow data is compiled using a groupby method for the season through a function defintion."
   ]
  },
  {
   "cell_type": "code",
   "execution_count": 118,
   "id": "5928a5a6",
   "metadata": {},
   "outputs": [],
   "source": [
    "# this is a confusing syntax to understand\n",
    "# the function looks at the date and converts it to a year for the season\n",
    "# anything greater than October is converted to the next year and aggegated with everything less than October\n",
    "def season(idx):\n",
    "    year = idx.year\n",
    "    month = idx.month\n",
    "    return year.where((month < 10), year+1)"
   ]
  },
  {
   "cell_type": "code",
   "execution_count": 119,
   "id": "291706f6",
   "metadata": {
    "scrolled": true
   },
   "outputs": [
    {
     "data": {
      "text/plain": [
       "391.0"
      ]
     },
     "execution_count": 119,
     "metadata": {},
     "output_type": "execute_result"
    }
   ],
   "source": [
    "snow.loc['2009-10':'2010-09'].sum()"
   ]
  },
  {
   "cell_type": "code",
   "execution_count": 120,
   "id": "1cb3de8d",
   "metadata": {},
   "outputs": [
    {
     "data": {
      "text/plain": [
       "2009    319.7\n",
       "2010    391.0\n",
       "2011    533.8\n",
       "2012    293.5\n",
       "2013    362.8\n",
       "2014    358.7\n",
       "2015    284.3\n",
       "2016    354.6\n",
       "2017    524.0\n",
       "2018    308.8\n",
       "2019    508.3\n",
       "2020    177.3\n",
       "Name: SNOW, dtype: float64"
      ]
     },
     "execution_count": 120,
     "metadata": {},
     "output_type": "execute_result"
    }
   ],
   "source": [
    "(snow\n",
    " .loc['2009':'2019']\n",
    " .groupby(season)\n",
    " .sum()\n",
    ")"
   ]
  },
  {
   "cell_type": "code",
   "execution_count": 121,
   "id": "3f63a268",
   "metadata": {},
   "outputs": [
    {
     "data": {
      "text/plain": [
       "2009-09-30    319.7\n",
       "2010-09-30    391.0\n",
       "2011-09-30    533.8\n",
       "2012-09-30    293.5\n",
       "2013-09-30    362.8\n",
       "2014-09-30    358.7\n",
       "2015-09-30    284.3\n",
       "2016-09-30    354.6\n",
       "2017-09-30    524.0\n",
       "2018-09-30    308.8\n",
       "2019-09-30    508.3\n",
       "2020-09-30    177.3\n",
       "Freq: A-SEP, Name: SNOW, dtype: float64"
      ]
     },
     "execution_count": 121,
     "metadata": {},
     "output_type": "execute_result"
    }
   ],
   "source": [
    "# the same can be accomplished with a resample methodology\n",
    "(snow\n",
    " .loc['2009':'2019']\n",
    " .resample('A-SEP')\n",
    " .sum()\n",
    ")"
   ]
  },
  {
   "cell_type": "markdown",
   "id": "e4cb5447",
   "metadata": {},
   "source": [
    "### Cummulative aggregators\n",
    "These operations accumulate the value for a given set of records, basically creating a running total of the values in the column at the equivalent index.  There are four primary operations: cumsum(), cummax(), cummin(), cumprod()."
   ]
  },
  {
   "cell_type": "code",
   "execution_count": 122,
   "id": "a9e5cbd2",
   "metadata": {},
   "outputs": [
    {
     "data": {
      "text/plain": [
       "2016-10-01      0.0\n",
       "2016-10-02      0.0\n",
       "2016-10-03      4.9\n",
       "2016-10-04      4.9\n",
       "2016-10-05      5.5\n",
       "              ...  \n",
       "2017-09-26    524.0\n",
       "2017-09-27    524.0\n",
       "2017-09-28    524.0\n",
       "2017-09-29    524.0\n",
       "2017-09-30    524.0\n",
       "Name: SNOW, Length: 364, dtype: float64"
      ]
     },
     "execution_count": 122,
     "metadata": {},
     "output_type": "execute_result"
    }
   ],
   "source": [
    "(snow\n",
    " .loc['2016-10':'2017-09']\n",
    " .cumsum()\n",
    ")"
   ]
  },
  {
   "cell_type": "code",
   "execution_count": 123,
   "id": "720f8402",
   "metadata": {},
   "outputs": [
    {
     "data": {
      "text/plain": [
       "1980-01-01      2.0\n",
       "1980-01-02      5.0\n",
       "1980-01-03      6.0\n",
       "1980-01-04      6.0\n",
       "1980-01-05      6.0\n",
       "              ...  \n",
       "2019-12-27    167.9\n",
       "2019-12-28    171.1\n",
       "2019-12-29    174.9\n",
       "2019-12-30    177.3\n",
       "2019-12-31    177.3\n",
       "Name: SNOW, Length: 14276, dtype: float64"
      ]
     },
     "execution_count": 123,
     "metadata": {},
     "output_type": "execute_result"
    }
   ],
   "source": [
    "# Conducting this calculation for every year, but it yeilds a resetting running total for each season in the Series\n",
    "(snow\n",
    " .resample('A-SEP')\n",
    " .transform('cumsum')\n",
    ")"
   ]
  },
  {
   "cell_type": "markdown",
   "id": "a0143721",
   "metadata": {},
   "source": [
    "### P-Sets\n",
    "With a dataset of your choice:\n",
    "1. Convert a column with date information into a date\n",
    "2. Put the date information into the index for a numeric column\n",
    "3. Calculate the average value of the column for each month\n",
    "4. Calculate the average value of the column for every 2months\n",
    "5. Calculate the percentage of the column out of the total for each month\n",
    "6. Calculate the average value of the column for a rolling window of size 7\n",
    "7. Use .loc[] to pull out the first three months of a year\n",
    "8. Use .loc[] to pull out the last four months of a year"
   ]
  },
  {
   "cell_type": "code",
   "execution_count": 124,
   "id": "c122c3ca",
   "metadata": {},
   "outputs": [],
   "source": [
    "fifa['gd'] = fifa.home_team_score-fifa.away_team_score"
   ]
  },
  {
   "cell_type": "code",
   "execution_count": 125,
   "id": "807c50da",
   "metadata": {},
   "outputs": [],
   "source": [
    "gd = (fifa\n",
    "#       [fifa.home_team_continent == 'South America']\n",
    " [['date','gd']]\n",
    " .assign(date = lambda df: pd.to_datetime(df.date))\n",
    "#  .info()\n",
    " .set_index('date')\n",
    ")    "
   ]
  },
  {
   "cell_type": "code",
   "execution_count": 126,
   "id": "7ad5cdb0",
   "metadata": {},
   "outputs": [
    {
     "data": {
      "text/html": [
       "<div>\n",
       "<style scoped>\n",
       "    .dataframe tbody tr th:only-of-type {\n",
       "        vertical-align: middle;\n",
       "    }\n",
       "\n",
       "    .dataframe tbody tr th {\n",
       "        vertical-align: top;\n",
       "    }\n",
       "\n",
       "    .dataframe thead th {\n",
       "        text-align: right;\n",
       "    }\n",
       "</style>\n",
       "<table border=\"1\" class=\"dataframe\">\n",
       "  <thead>\n",
       "    <tr style=\"text-align: right;\">\n",
       "      <th></th>\n",
       "      <th>gd</th>\n",
       "    </tr>\n",
       "    <tr>\n",
       "      <th>date</th>\n",
       "      <th></th>\n",
       "    </tr>\n",
       "  </thead>\n",
       "  <tbody>\n",
       "    <tr>\n",
       "      <th>1993-08-31</th>\n",
       "      <td>1.333333</td>\n",
       "    </tr>\n",
       "    <tr>\n",
       "      <th>1993-09-30</th>\n",
       "      <td>0.268293</td>\n",
       "    </tr>\n",
       "    <tr>\n",
       "      <th>1993-10-31</th>\n",
       "      <td>0.400000</td>\n",
       "    </tr>\n",
       "    <tr>\n",
       "      <th>1993-11-30</th>\n",
       "      <td>0.771429</td>\n",
       "    </tr>\n",
       "    <tr>\n",
       "      <th>1993-12-31</th>\n",
       "      <td>0.666667</td>\n",
       "    </tr>\n",
       "    <tr>\n",
       "      <th>...</th>\n",
       "      <td>...</td>\n",
       "    </tr>\n",
       "    <tr>\n",
       "      <th>2022-02-28</th>\n",
       "      <td>0.416667</td>\n",
       "    </tr>\n",
       "    <tr>\n",
       "      <th>2022-03-31</th>\n",
       "      <td>0.711765</td>\n",
       "    </tr>\n",
       "    <tr>\n",
       "      <th>2022-04-30</th>\n",
       "      <td>-2.000000</td>\n",
       "    </tr>\n",
       "    <tr>\n",
       "      <th>2022-05-31</th>\n",
       "      <td>0.687500</td>\n",
       "    </tr>\n",
       "    <tr>\n",
       "      <th>2022-06-30</th>\n",
       "      <td>0.444030</td>\n",
       "    </tr>\n",
       "  </tbody>\n",
       "</table>\n",
       "<p>347 rows × 1 columns</p>\n",
       "</div>"
      ],
      "text/plain": [
       "                  gd\n",
       "date                \n",
       "1993-08-31  1.333333\n",
       "1993-09-30  0.268293\n",
       "1993-10-31  0.400000\n",
       "1993-11-30  0.771429\n",
       "1993-12-31  0.666667\n",
       "...              ...\n",
       "2022-02-28  0.416667\n",
       "2022-03-31  0.711765\n",
       "2022-04-30 -2.000000\n",
       "2022-05-31  0.687500\n",
       "2022-06-30  0.444030\n",
       "\n",
       "[347 rows x 1 columns]"
      ]
     },
     "execution_count": 126,
     "metadata": {},
     "output_type": "execute_result"
    }
   ],
   "source": [
    "(gd\n",
    " .resample('M')\n",
    " .mean()\n",
    ")"
   ]
  },
  {
   "cell_type": "code",
   "execution_count": 127,
   "id": "b09b8fe0",
   "metadata": {},
   "outputs": [
    {
     "data": {
      "text/html": [
       "<div>\n",
       "<style scoped>\n",
       "    .dataframe tbody tr th:only-of-type {\n",
       "        vertical-align: middle;\n",
       "    }\n",
       "\n",
       "    .dataframe tbody tr th {\n",
       "        vertical-align: top;\n",
       "    }\n",
       "\n",
       "    .dataframe thead th {\n",
       "        text-align: right;\n",
       "    }\n",
       "</style>\n",
       "<table border=\"1\" class=\"dataframe\">\n",
       "  <thead>\n",
       "    <tr style=\"text-align: right;\">\n",
       "      <th></th>\n",
       "      <th>gd</th>\n",
       "    </tr>\n",
       "    <tr>\n",
       "      <th>date</th>\n",
       "      <th></th>\n",
       "    </tr>\n",
       "  </thead>\n",
       "  <tbody>\n",
       "    <tr>\n",
       "      <th>1993-08-31</th>\n",
       "      <td>1.333333</td>\n",
       "    </tr>\n",
       "    <tr>\n",
       "      <th>1993-10-31</th>\n",
       "      <td>0.340659</td>\n",
       "    </tr>\n",
       "    <tr>\n",
       "      <th>1993-12-31</th>\n",
       "      <td>0.735849</td>\n",
       "    </tr>\n",
       "    <tr>\n",
       "      <th>1994-02-28</th>\n",
       "      <td>-0.129032</td>\n",
       "    </tr>\n",
       "    <tr>\n",
       "      <th>1994-04-30</th>\n",
       "      <td>0.526316</td>\n",
       "    </tr>\n",
       "    <tr>\n",
       "      <th>...</th>\n",
       "      <td>...</td>\n",
       "    </tr>\n",
       "    <tr>\n",
       "      <th>2021-10-31</th>\n",
       "      <td>0.394659</td>\n",
       "    </tr>\n",
       "    <tr>\n",
       "      <th>2021-12-31</th>\n",
       "      <td>0.406417</td>\n",
       "    </tr>\n",
       "    <tr>\n",
       "      <th>2022-02-28</th>\n",
       "      <td>0.678261</td>\n",
       "    </tr>\n",
       "    <tr>\n",
       "      <th>2022-04-30</th>\n",
       "      <td>0.680233</td>\n",
       "    </tr>\n",
       "    <tr>\n",
       "      <th>2022-06-30</th>\n",
       "      <td>0.457746</td>\n",
       "    </tr>\n",
       "  </tbody>\n",
       "</table>\n",
       "<p>174 rows × 1 columns</p>\n",
       "</div>"
      ],
      "text/plain": [
       "                  gd\n",
       "date                \n",
       "1993-08-31  1.333333\n",
       "1993-10-31  0.340659\n",
       "1993-12-31  0.735849\n",
       "1994-02-28 -0.129032\n",
       "1994-04-30  0.526316\n",
       "...              ...\n",
       "2021-10-31  0.394659\n",
       "2021-12-31  0.406417\n",
       "2022-02-28  0.678261\n",
       "2022-04-30  0.680233\n",
       "2022-06-30  0.457746\n",
       "\n",
       "[174 rows x 1 columns]"
      ]
     },
     "execution_count": 127,
     "metadata": {},
     "output_type": "execute_result"
    }
   ],
   "source": [
    "(gd\n",
    " .resample('2M')\n",
    " .mean()\n",
    ")"
   ]
  },
  {
   "cell_type": "code",
   "execution_count": 133,
   "id": "a9622ed1",
   "metadata": {},
   "outputs": [
    {
     "data": {
      "text/html": [
       "<div>\n",
       "<style scoped>\n",
       "    .dataframe tbody tr th:only-of-type {\n",
       "        vertical-align: middle;\n",
       "    }\n",
       "\n",
       "    .dataframe tbody tr th {\n",
       "        vertical-align: top;\n",
       "    }\n",
       "\n",
       "    .dataframe thead th {\n",
       "        text-align: right;\n",
       "    }\n",
       "</style>\n",
       "<table border=\"1\" class=\"dataframe\">\n",
       "  <thead>\n",
       "    <tr style=\"text-align: right;\">\n",
       "      <th></th>\n",
       "      <th>gd</th>\n",
       "    </tr>\n",
       "    <tr>\n",
       "      <th>date</th>\n",
       "      <th></th>\n",
       "    </tr>\n",
       "  </thead>\n",
       "  <tbody>\n",
       "    <tr>\n",
       "      <th>1993-08-08</th>\n",
       "      <td>5.56</td>\n",
       "    </tr>\n",
       "    <tr>\n",
       "      <th>1993-08-08</th>\n",
       "      <td>0.00</td>\n",
       "    </tr>\n",
       "    <tr>\n",
       "      <th>1993-08-08</th>\n",
       "      <td>13.89</td>\n",
       "    </tr>\n",
       "    <tr>\n",
       "      <th>1993-08-08</th>\n",
       "      <td>2.78</td>\n",
       "    </tr>\n",
       "    <tr>\n",
       "      <th>1993-08-08</th>\n",
       "      <td>-5.56</td>\n",
       "    </tr>\n",
       "    <tr>\n",
       "      <th>...</th>\n",
       "      <td>...</td>\n",
       "    </tr>\n",
       "    <tr>\n",
       "      <th>2022-06-14</th>\n",
       "      <td>0.84</td>\n",
       "    </tr>\n",
       "    <tr>\n",
       "      <th>2022-06-14</th>\n",
       "      <td>-1.68</td>\n",
       "    </tr>\n",
       "    <tr>\n",
       "      <th>2022-06-14</th>\n",
       "      <td>0.00</td>\n",
       "    </tr>\n",
       "    <tr>\n",
       "      <th>2022-06-14</th>\n",
       "      <td>-2.52</td>\n",
       "    </tr>\n",
       "    <tr>\n",
       "      <th>2022-06-14</th>\n",
       "      <td>2.52</td>\n",
       "    </tr>\n",
       "  </tbody>\n",
       "</table>\n",
       "<p>23921 rows × 1 columns</p>\n",
       "</div>"
      ],
      "text/plain": [
       "               gd\n",
       "date             \n",
       "1993-08-08   5.56\n",
       "1993-08-08   0.00\n",
       "1993-08-08  13.89\n",
       "1993-08-08   2.78\n",
       "1993-08-08  -5.56\n",
       "...           ...\n",
       "2022-06-14   0.84\n",
       "2022-06-14  -1.68\n",
       "2022-06-14   0.00\n",
       "2022-06-14  -2.52\n",
       "2022-06-14   2.52\n",
       "\n",
       "[23921 rows x 1 columns]"
      ]
     },
     "execution_count": 133,
     "metadata": {},
     "output_type": "execute_result"
    }
   ],
   "source": [
    "(gd\n",
    " .div(gd.resample('M').transform('sum'))\n",
    " .mul(100)\n",
    " .round(2)\n",
    " .fillna(0)\n",
    "#  .plot()\n",
    ")"
   ]
  },
  {
   "cell_type": "code",
   "execution_count": 136,
   "id": "e94db6fd",
   "metadata": {},
   "outputs": [
    {
     "data": {
      "text/html": [
       "<div>\n",
       "<style scoped>\n",
       "    .dataframe tbody tr th:only-of-type {\n",
       "        vertical-align: middle;\n",
       "    }\n",
       "\n",
       "    .dataframe tbody tr th {\n",
       "        vertical-align: top;\n",
       "    }\n",
       "\n",
       "    .dataframe thead th {\n",
       "        text-align: right;\n",
       "    }\n",
       "</style>\n",
       "<table border=\"1\" class=\"dataframe\">\n",
       "  <thead>\n",
       "    <tr style=\"text-align: right;\">\n",
       "      <th></th>\n",
       "      <th>gd</th>\n",
       "    </tr>\n",
       "    <tr>\n",
       "      <th>date</th>\n",
       "      <th></th>\n",
       "    </tr>\n",
       "  </thead>\n",
       "  <tbody>\n",
       "    <tr>\n",
       "      <th>1993-08-08</th>\n",
       "      <td>NaN</td>\n",
       "    </tr>\n",
       "    <tr>\n",
       "      <th>1993-08-08</th>\n",
       "      <td>NaN</td>\n",
       "    </tr>\n",
       "    <tr>\n",
       "      <th>1993-08-08</th>\n",
       "      <td>NaN</td>\n",
       "    </tr>\n",
       "    <tr>\n",
       "      <th>1993-08-08</th>\n",
       "      <td>NaN</td>\n",
       "    </tr>\n",
       "    <tr>\n",
       "      <th>1993-08-08</th>\n",
       "      <td>NaN</td>\n",
       "    </tr>\n",
       "    <tr>\n",
       "      <th>...</th>\n",
       "      <td>...</td>\n",
       "    </tr>\n",
       "    <tr>\n",
       "      <th>2022-06-14</th>\n",
       "      <td>-0.285714</td>\n",
       "    </tr>\n",
       "    <tr>\n",
       "      <th>2022-06-14</th>\n",
       "      <td>-0.142857</td>\n",
       "    </tr>\n",
       "    <tr>\n",
       "      <th>2022-06-14</th>\n",
       "      <td>-0.142857</td>\n",
       "    </tr>\n",
       "    <tr>\n",
       "      <th>2022-06-14</th>\n",
       "      <td>-0.714286</td>\n",
       "    </tr>\n",
       "    <tr>\n",
       "      <th>2022-06-14</th>\n",
       "      <td>0.142857</td>\n",
       "    </tr>\n",
       "  </tbody>\n",
       "</table>\n",
       "<p>23921 rows × 1 columns</p>\n",
       "</div>"
      ],
      "text/plain": [
       "                  gd\n",
       "date                \n",
       "1993-08-08       NaN\n",
       "1993-08-08       NaN\n",
       "1993-08-08       NaN\n",
       "1993-08-08       NaN\n",
       "1993-08-08       NaN\n",
       "...              ...\n",
       "2022-06-14 -0.285714\n",
       "2022-06-14 -0.142857\n",
       "2022-06-14 -0.142857\n",
       "2022-06-14 -0.714286\n",
       "2022-06-14  0.142857\n",
       "\n",
       "[23921 rows x 1 columns]"
      ]
     },
     "execution_count": 136,
     "metadata": {},
     "output_type": "execute_result"
    }
   ],
   "source": [
    "(gd\n",
    " .rolling(7)\n",
    " .mean()\n",
    "#  .plot()\n",
    ")"
   ]
  },
  {
   "cell_type": "code",
   "execution_count": 143,
   "id": "62226725",
   "metadata": {},
   "outputs": [
    {
     "data": {
      "text/html": [
       "<div>\n",
       "<style scoped>\n",
       "    .dataframe tbody tr th:only-of-type {\n",
       "        vertical-align: middle;\n",
       "    }\n",
       "\n",
       "    .dataframe tbody tr th {\n",
       "        vertical-align: top;\n",
       "    }\n",
       "\n",
       "    .dataframe thead th {\n",
       "        text-align: right;\n",
       "    }\n",
       "</style>\n",
       "<table border=\"1\" class=\"dataframe\">\n",
       "  <thead>\n",
       "    <tr style=\"text-align: right;\">\n",
       "      <th></th>\n",
       "      <th>gd</th>\n",
       "    </tr>\n",
       "    <tr>\n",
       "      <th>date</th>\n",
       "      <th></th>\n",
       "    </tr>\n",
       "  </thead>\n",
       "  <tbody>\n",
       "    <tr>\n",
       "      <th>1994-01-02</th>\n",
       "      <td>0</td>\n",
       "    </tr>\n",
       "    <tr>\n",
       "      <th>1994-01-02</th>\n",
       "      <td>1</td>\n",
       "    </tr>\n",
       "    <tr>\n",
       "      <th>1994-01-05</th>\n",
       "      <td>0</td>\n",
       "    </tr>\n",
       "    <tr>\n",
       "      <th>1994-01-09</th>\n",
       "      <td>-2</td>\n",
       "    </tr>\n",
       "    <tr>\n",
       "      <th>1994-01-11</th>\n",
       "      <td>0</td>\n",
       "    </tr>\n",
       "    <tr>\n",
       "      <th>...</th>\n",
       "      <td>...</td>\n",
       "    </tr>\n",
       "    <tr>\n",
       "      <th>1994-03-29</th>\n",
       "      <td>0</td>\n",
       "    </tr>\n",
       "    <tr>\n",
       "      <th>1994-03-30</th>\n",
       "      <td>-1</td>\n",
       "    </tr>\n",
       "    <tr>\n",
       "      <th>1994-03-30</th>\n",
       "      <td>0</td>\n",
       "    </tr>\n",
       "    <tr>\n",
       "      <th>1994-03-31</th>\n",
       "      <td>1</td>\n",
       "    </tr>\n",
       "    <tr>\n",
       "      <th>1994-03-31</th>\n",
       "      <td>1</td>\n",
       "    </tr>\n",
       "  </tbody>\n",
       "</table>\n",
       "<p>100 rows × 1 columns</p>\n",
       "</div>"
      ],
      "text/plain": [
       "            gd\n",
       "date          \n",
       "1994-01-02   0\n",
       "1994-01-02   1\n",
       "1994-01-05   0\n",
       "1994-01-09  -2\n",
       "1994-01-11   0\n",
       "...         ..\n",
       "1994-03-29   0\n",
       "1994-03-30  -1\n",
       "1994-03-30   0\n",
       "1994-03-31   1\n",
       "1994-03-31   1\n",
       "\n",
       "[100 rows x 1 columns]"
      ]
     },
     "execution_count": 143,
     "metadata": {},
     "output_type": "execute_result"
    }
   ],
   "source": [
    "(gd\n",
    " .loc['1994-01':'1994-03']\n",
    ")"
   ]
  },
  {
   "cell_type": "code",
   "execution_count": 144,
   "id": "5cf50217",
   "metadata": {},
   "outputs": [
    {
     "data": {
      "text/html": [
       "<div>\n",
       "<style scoped>\n",
       "    .dataframe tbody tr th:only-of-type {\n",
       "        vertical-align: middle;\n",
       "    }\n",
       "\n",
       "    .dataframe tbody tr th {\n",
       "        vertical-align: top;\n",
       "    }\n",
       "\n",
       "    .dataframe thead th {\n",
       "        text-align: right;\n",
       "    }\n",
       "</style>\n",
       "<table border=\"1\" class=\"dataframe\">\n",
       "  <thead>\n",
       "    <tr style=\"text-align: right;\">\n",
       "      <th></th>\n",
       "      <th>gd</th>\n",
       "    </tr>\n",
       "    <tr>\n",
       "      <th>date</th>\n",
       "      <th></th>\n",
       "    </tr>\n",
       "  </thead>\n",
       "  <tbody>\n",
       "    <tr>\n",
       "      <th>1994-08-08</th>\n",
       "      <td>1</td>\n",
       "    </tr>\n",
       "    <tr>\n",
       "      <th>1994-08-12</th>\n",
       "      <td>0</td>\n",
       "    </tr>\n",
       "    <tr>\n",
       "      <th>1994-08-16</th>\n",
       "      <td>4</td>\n",
       "    </tr>\n",
       "    <tr>\n",
       "      <th>1994-08-16</th>\n",
       "      <td>1</td>\n",
       "    </tr>\n",
       "    <tr>\n",
       "      <th>1994-08-16</th>\n",
       "      <td>0</td>\n",
       "    </tr>\n",
       "    <tr>\n",
       "      <th>...</th>\n",
       "      <td>...</td>\n",
       "    </tr>\n",
       "    <tr>\n",
       "      <th>1994-12-21</th>\n",
       "      <td>2</td>\n",
       "    </tr>\n",
       "    <tr>\n",
       "      <th>1994-12-25</th>\n",
       "      <td>0</td>\n",
       "    </tr>\n",
       "    <tr>\n",
       "      <th>1994-12-29</th>\n",
       "      <td>0</td>\n",
       "    </tr>\n",
       "    <tr>\n",
       "      <th>1994-12-29</th>\n",
       "      <td>0</td>\n",
       "    </tr>\n",
       "    <tr>\n",
       "      <th>1994-12-29</th>\n",
       "      <td>1</td>\n",
       "    </tr>\n",
       "  </tbody>\n",
       "</table>\n",
       "<p>216 rows × 1 columns</p>\n",
       "</div>"
      ],
      "text/plain": [
       "            gd\n",
       "date          \n",
       "1994-08-08   1\n",
       "1994-08-12   0\n",
       "1994-08-16   4\n",
       "1994-08-16   1\n",
       "1994-08-16   0\n",
       "...         ..\n",
       "1994-12-21   2\n",
       "1994-12-25   0\n",
       "1994-12-29   0\n",
       "1994-12-29   0\n",
       "1994-12-29   1\n",
       "\n",
       "[216 rows x 1 columns]"
      ]
     },
     "execution_count": 144,
     "metadata": {},
     "output_type": "execute_result"
    }
   ],
   "source": [
    "(gd\n",
    " .loc['1994-08':'1994-12']\n",
    ")"
   ]
  },
  {
   "cell_type": "code",
   "execution_count": null,
   "id": "5306eab2",
   "metadata": {},
   "outputs": [],
   "source": []
  }
 ],
 "metadata": {
  "kernelspec": {
   "display_name": "Python 3 (ipykernel)",
   "language": "python",
   "name": "python3"
  },
  "language_info": {
   "codemirror_mode": {
    "name": "ipython",
    "version": 3
   },
   "file_extension": ".py",
   "mimetype": "text/x-python",
   "name": "python",
   "nbconvert_exporter": "python",
   "pygments_lexer": "ipython3",
   "version": "3.9.1"
  }
 },
 "nbformat": 4,
 "nbformat_minor": 5
}

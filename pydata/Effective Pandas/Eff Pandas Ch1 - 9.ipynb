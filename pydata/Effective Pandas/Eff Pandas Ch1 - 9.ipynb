{
 "cells": [
  {
   "cell_type": "code",
   "execution_count": 1,
   "id": "2707fa91",
   "metadata": {},
   "outputs": [
    {
     "name": "stderr",
     "output_type": "stream",
     "text": [
      "Bad value in file WindowsPath('C:/Users/KNHOFFM/.matplotlib/stylelib/xom.mplstyle'), line 11 ('lines.color: #0C479D'): Key lines.color: '' does not look like a color arg\n",
      "Bad value in file WindowsPath('C:/Users/KNHOFFM/.matplotlib/stylelib/xom.mplstyle'), line 15 ('patch.edgecolor: #FFFFFF'): Key patch.edgecolor: '' does not look like a color arg\n",
      "Bad value in file WindowsPath('C:/Users/KNHOFFM/.matplotlib/stylelib/xom.mplstyle'), line 16 ('patch.facecolor: #0C479D'): Key patch.facecolor: '' does not look like a color arg\n"
     ]
    }
   ],
   "source": [
    "import pandas as pd\n",
    "import numpy as np\n",
    "import matplotlib.pyplot as plt\n",
    "import seaborn as sns\n",
    "%matplotlib inline"
   ]
  },
  {
   "cell_type": "markdown",
   "id": "35bee3a3",
   "metadata": {},
   "source": [
    "## Datastructures\n",
    "Pandas has two primary data structures: Series and DataFrames.  A DataFrame is made up of Series which create the columns.  Series are 1D objects while DataFrames are 2D objects.  The intent of this section is just an introduction to the primary Datastructures in Pandas, which will be leveraged throughout the book.\n",
    "\n",
    "### Series\n",
    "We start with Series since this is the fundamental building block of the pandas environment.  All Series have dtypes, indexes, names and methods and accessors to facilitate accessing and shaping data."
   ]
  },
  {
   "cell_type": "code",
   "execution_count": 2,
   "id": "dac14711",
   "metadata": {},
   "outputs": [
    {
     "data": {
      "text/plain": [
       "0    145\n",
       "1    142\n",
       "2     38\n",
       "3     13\n",
       "dtype: int64"
      ]
     },
     "execution_count": 2,
     "metadata": {},
     "output_type": "execute_result"
    }
   ],
   "source": [
    "# integer based index with unnamed series\n",
    "songs2 = pd.Series([145, 142, 38, 13])\n",
    "songs2"
   ]
  },
  {
   "cell_type": "code",
   "execution_count": 3,
   "id": "c1d35ef2",
   "metadata": {},
   "outputs": [
    {
     "data": {
      "text/plain": [
       "RangeIndex(start=0, stop=4, step=1)"
      ]
     },
     "execution_count": 3,
     "metadata": {},
     "output_type": "execute_result"
    }
   ],
   "source": [
    "songs2.index"
   ]
  },
  {
   "cell_type": "code",
   "execution_count": 4,
   "id": "cf3e68eb",
   "metadata": {},
   "outputs": [],
   "source": [
    "# object based index with named Series\n",
    "songs3 = pd.Series([145, 142, 38, 13],\n",
    "                  name = 'counts',\n",
    "                  index = ['Paul', 'John', 'George', 'Ringo'])"
   ]
  },
  {
   "cell_type": "code",
   "execution_count": 5,
   "id": "e87c1493",
   "metadata": {},
   "outputs": [
    {
     "data": {
      "text/plain": [
       "Paul      145\n",
       "John      142\n",
       "George     38\n",
       "Ringo      13\n",
       "Name: counts, dtype: int64"
      ]
     },
     "execution_count": 5,
     "metadata": {},
     "output_type": "execute_result"
    }
   ],
   "source": [
    "songs3"
   ]
  },
  {
   "cell_type": "code",
   "execution_count": 6,
   "id": "3d467287",
   "metadata": {},
   "outputs": [
    {
     "data": {
      "text/plain": [
       "Index(['Paul', 'John', 'George', 'Ringo'], dtype='object')"
      ]
     },
     "execution_count": 6,
     "metadata": {},
     "output_type": "execute_result"
    }
   ],
   "source": [
    "songs3.index"
   ]
  },
  {
   "cell_type": "markdown",
   "id": "0bb61aaa",
   "metadata": {},
   "source": [
    ">**Note**: Series data does not have to be homogeneus, but when they are it improves computational speed allowing vectorized operations. "
   ]
  },
  {
   "cell_type": "code",
   "execution_count": 7,
   "id": "e6a0b2a4",
   "metadata": {},
   "outputs": [],
   "source": [
    "class foo:\n",
    "    pass"
   ]
  },
  {
   "cell_type": "code",
   "execution_count": 8,
   "id": "b0f008e8",
   "metadata": {},
   "outputs": [],
   "source": [
    "ringo = pd.Series(['Richard', 'Starky', 13, foo()],\n",
    "                 name='ringo')"
   ]
  },
  {
   "cell_type": "code",
   "execution_count": 9,
   "id": "ccf3ebf1",
   "metadata": {},
   "outputs": [
    {
     "data": {
      "text/plain": [
       "0                                        Richard\n",
       "1                                         Starky\n",
       "2                                             13\n",
       "3    <__main__.foo object at 0x000001395CCC6F40>\n",
       "Name: ringo, dtype: object"
      ]
     },
     "execution_count": 9,
     "metadata": {},
     "output_type": "execute_result"
    }
   ],
   "source": [
    "ringo"
   ]
  },
  {
   "cell_type": "markdown",
   "id": "7817dfe7",
   "metadata": {},
   "source": [
    "### DType discussions\n",
    "What is important above is the note that the default lowest level type is object.  This is a catch all for non homogeneous dtypes or string types.  If you Series is supposed to have integers, the dtype is object, they should be converted to ensure the expected behavior occurs when conducting analysis of the data.  "
   ]
  },
  {
   "cell_type": "code",
   "execution_count": 10,
   "id": "93cb98d2",
   "metadata": {},
   "outputs": [],
   "source": [
    "s1 = pd.Series(['1','2','3','4'],\n",
    "              name='str_nums')\n",
    "s2 = pd.Series([1, 2, 3, 4],\n",
    "              name='int_nums')"
   ]
  },
  {
   "cell_type": "code",
   "execution_count": 11,
   "id": "f2058e5d",
   "metadata": {},
   "outputs": [
    {
     "name": "stdout",
     "output_type": "stream",
     "text": [
      "incompatible types: can only concatenate str (not \"int\") to str\n"
     ]
    }
   ],
   "source": [
    "def add():\n",
    "    return s1 + s2\n",
    "\n",
    "try:\n",
    "    print(add())\n",
    "except TypeError:\n",
    "    print('incompatible types: can only concatenate str (not \"int\") to str')"
   ]
  },
  {
   "cell_type": "code",
   "execution_count": 12,
   "id": "53812e08",
   "metadata": {},
   "outputs": [
    {
     "name": "stdout",
     "output_type": "stream",
     "text": [
      "0    2\n",
      "1    4\n",
      "2    6\n",
      "3    8\n",
      "dtype: int64\n"
     ]
    }
   ],
   "source": [
    "def add():\n",
    "    # converting dtype for Series S1 allows us to add as expected\n",
    "    return s1.astype('int') + s2\n",
    "\n",
    "try:\n",
    "    print(add())\n",
    "except TypeError:\n",
    "    print('incompatible types: can only concatenate str (not \"int\") to str')"
   ]
  },
  {
   "cell_type": "code",
   "execution_count": 13,
   "id": "b96db0cc",
   "metadata": {},
   "outputs": [
    {
     "name": "stdout",
     "output_type": "stream",
     "text": [
      "0    11\n",
      "1    22\n",
      "2    33\n",
      "3    44\n",
      "dtype: object\n"
     ]
    }
   ],
   "source": [
    "def add():\n",
    "    # converting dtype for Series S2 allows us to add/concat as expected\n",
    "    return s1 + s2.astype('str')\n",
    "\n",
    "try:\n",
    "    print(add())\n",
    "except TypeError:\n",
    "    print('incompatible types: can only concatenate str (not \"int\") to str')"
   ]
  },
  {
   "cell_type": "markdown",
   "id": "415a36a3",
   "metadata": {},
   "source": [
    "### The Nan value\n",
    "Frustrating and useful, Not a number or Nan is a numpyism that translates into pandas.  This particular value is used when pandas infers a numeric dtype, but cannot resolve an entry into a number for the Series.  If there are nans, the dtype will be moved to a float inplace of an interger.  Here is an example to help things along:"
   ]
  },
  {
   "cell_type": "code",
   "execution_count": 14,
   "id": "557bfe2d",
   "metadata": {},
   "outputs": [
    {
     "data": {
      "text/plain": [
       "Ono         2.0\n",
       "Claptain    NaN\n",
       "dtype: float64"
      ]
     },
     "execution_count": 14,
     "metadata": {},
     "output_type": "execute_result"
    }
   ],
   "source": [
    "nan_series = pd.Series([2, np.nan],\n",
    "                      index = ['Ono', 'Claptain'])\n",
    "nan_series"
   ]
  },
  {
   "cell_type": "code",
   "execution_count": 15,
   "id": "4253d677",
   "metadata": {},
   "outputs": [
    {
     "data": {
      "text/plain": [
       "(1, 2.0)"
      ]
     },
     "execution_count": 15,
     "metadata": {},
     "output_type": "execute_result"
    }
   ],
   "source": [
    "# nan are ignored in method and function calls\n",
    "nan_series.count(), nan_series.sum()"
   ]
  },
  {
   "cell_type": "code",
   "execution_count": 16,
   "id": "68bd0554",
   "metadata": {},
   "outputs": [
    {
     "data": {
      "text/plain": [
       "((2,), Index(['Ono', 'Claptain'], dtype='object'), nan)"
      ]
     },
     "execution_count": 16,
     "metadata": {},
     "output_type": "execute_result"
    }
   ],
   "source": [
    "# nan are included in attributes and index references\n",
    "nan_series.shape, nan_series.index, nan_series[1]"
   ]
  },
  {
   "cell_type": "code",
   "execution_count": 17,
   "id": "b9d5431d",
   "metadata": {},
   "outputs": [
    {
     "data": {
      "text/plain": [
       "Ono            2\n",
       "Claptain    <NA>\n",
       "dtype: Int64"
      ]
     },
     "execution_count": 17,
     "metadata": {},
     "output_type": "execute_result"
    }
   ],
   "source": [
    "# int64 is the default integer type and does not support nan\n",
    "# Int64 can be specified to allow nan values and ints to coexist\n",
    "nan_series2 = pd.Series([2, np.nan],\n",
    "                      index = ['Ono', 'Claptain'],\n",
    "                       dtype='Int64')\n",
    "nan_series2"
   ]
  },
  {
   "cell_type": "code",
   "execution_count": 18,
   "id": "f2214c20",
   "metadata": {},
   "outputs": [
    {
     "data": {
      "text/plain": [
       "(1, 2, (2,))"
      ]
     },
     "execution_count": 18,
     "metadata": {},
     "output_type": "execute_result"
    }
   ],
   "source": [
    "# the behavior of nans is still the same\n",
    "nan_series2.count(), nan_series2.sum(), nan_series2.shape"
   ]
  },
  {
   "cell_type": "markdown",
   "id": "a5364422",
   "metadata": {},
   "source": [
    "### Numpy array and Pandas Series\n",
    "Cousins with similar but not identical behavior"
   ]
  },
  {
   "cell_type": "code",
   "execution_count": 19,
   "id": "5ad89c87",
   "metadata": {},
   "outputs": [],
   "source": [
    "numpy_ser = np.array([145, 142, 38, 13])"
   ]
  },
  {
   "cell_type": "code",
   "execution_count": 20,
   "id": "e15f4d43",
   "metadata": {},
   "outputs": [
    {
     "data": {
      "text/plain": [
       "142"
      ]
     },
     "execution_count": 20,
     "metadata": {},
     "output_type": "execute_result"
    }
   ],
   "source": [
    "songs3[1]"
   ]
  },
  {
   "cell_type": "code",
   "execution_count": 21,
   "id": "f099d6c6",
   "metadata": {},
   "outputs": [
    {
     "data": {
      "text/plain": [
       "142"
      ]
     },
     "execution_count": 21,
     "metadata": {},
     "output_type": "execute_result"
    }
   ],
   "source": [
    "numpy_ser[1]"
   ]
  },
  {
   "cell_type": "code",
   "execution_count": 22,
   "id": "cdb3f289",
   "metadata": {},
   "outputs": [
    {
     "data": {
      "text/plain": [
       "84.5"
      ]
     },
     "execution_count": 22,
     "metadata": {},
     "output_type": "execute_result"
    }
   ],
   "source": [
    "songs3.mean()"
   ]
  },
  {
   "cell_type": "code",
   "execution_count": 23,
   "id": "b0acecfe",
   "metadata": {},
   "outputs": [
    {
     "data": {
      "text/plain": [
       "84.5"
      ]
     },
     "execution_count": 23,
     "metadata": {},
     "output_type": "execute_result"
    }
   ],
   "source": [
    "numpy_ser.mean()"
   ]
  },
  {
   "cell_type": "markdown",
   "id": "ddd3ecc5",
   "metadata": {},
   "source": [
    "### Fancy indexing and masking\n",
    "This is a way to filter the items of an array or Series using a boolean equivalent and returning the True value by default"
   ]
  },
  {
   "cell_type": "code",
   "execution_count": 24,
   "id": "2f514f78",
   "metadata": {},
   "outputs": [
    {
     "data": {
      "text/plain": [
       "Paul       True\n",
       "John       True\n",
       "George    False\n",
       "Ringo     False\n",
       "Name: counts, dtype: bool"
      ]
     },
     "execution_count": 24,
     "metadata": {},
     "output_type": "execute_result"
    }
   ],
   "source": [
    "mask = songs3 > songs3.median()\n",
    "mask"
   ]
  },
  {
   "cell_type": "code",
   "execution_count": 25,
   "id": "fff64b49",
   "metadata": {},
   "outputs": [
    {
     "data": {
      "text/plain": [
       "Paul    145\n",
       "John    142\n",
       "Name: counts, dtype: int64"
      ]
     },
     "execution_count": 25,
     "metadata": {},
     "output_type": "execute_result"
    }
   ],
   "source": [
    "# filtering the original Series values \n",
    "songs3[mask]"
   ]
  },
  {
   "cell_type": "code",
   "execution_count": 26,
   "id": "a319a471",
   "metadata": {},
   "outputs": [
    {
     "data": {
      "text/plain": [
       "array([145, 142])"
      ]
     },
     "execution_count": 26,
     "metadata": {},
     "output_type": "execute_result"
    }
   ],
   "source": [
    "# numpy equivalent operations\n",
    "numpy_ser[numpy_ser > np.median(numpy_ser)]"
   ]
  },
  {
   "cell_type": "markdown",
   "id": "92fa1b6f",
   "metadata": {},
   "source": [
    "### Categorical Data\n",
    "While this is not common, it can help pandas process and manipute the data types.  There are advantages in memory, performance,  inferrable ordering, operations and membership of the data.  This requires a limited number of values to classify as categorical"
   ]
  },
  {
   "cell_type": "code",
   "execution_count": 27,
   "id": "92cbcdd3",
   "metadata": {},
   "outputs": [
    {
     "data": {
      "text/plain": [
       "0     l\n",
       "1     m\n",
       "2     s\n",
       "3    xs\n",
       "4    xl\n",
       "dtype: category\n",
       "Categories (5, object): ['l', 'm', 's', 'xl', 'xs']"
      ]
     },
     "execution_count": 27,
     "metadata": {},
     "output_type": "execute_result"
    }
   ],
   "source": [
    "s = pd.Series(['l', 'm', 's', 'xs', 'xl'],\n",
    "             dtype='category')\n",
    "s"
   ]
  },
  {
   "cell_type": "code",
   "execution_count": 28,
   "id": "e04a4118",
   "metadata": {},
   "outputs": [
    {
     "data": {
      "text/plain": [
       "False"
      ]
     },
     "execution_count": 28,
     "metadata": {},
     "output_type": "execute_result"
    }
   ],
   "source": [
    "s.cat.ordered"
   ]
  },
  {
   "cell_type": "code",
   "execution_count": 29,
   "id": "c083f4bf",
   "metadata": {},
   "outputs": [
    {
     "data": {
      "text/plain": [
       "0      l\n",
       "1      m\n",
       "2      s\n",
       "3    NaN\n",
       "4    NaN\n",
       "dtype: category\n",
       "Categories (3, object): ['s' < 'm' < 'l']"
      ]
     },
     "execution_count": 29,
     "metadata": {},
     "output_type": "execute_result"
    }
   ],
   "source": [
    "# by default they are unordered, but this can be programatically applied.  Missing values will be replaced with nan\n",
    "s2 = pd.Series(['l', 'm', 's', 'xs', 'xl'],\n",
    "             dtype='category')\n",
    "size_type = pd.api.types.CategoricalDtype(categories=['s','m','l'], \n",
    "                                          ordered=True)\n",
    "s3 = s2.astype(size_type)\n",
    "s3"
   ]
  },
  {
   "cell_type": "code",
   "execution_count": 30,
   "id": "732bb2e3",
   "metadata": {},
   "outputs": [
    {
     "data": {
      "text/plain": [
       "0     True\n",
       "1     True\n",
       "2    False\n",
       "3    False\n",
       "4    False\n",
       "dtype: bool"
      ]
     },
     "execution_count": 30,
     "metadata": {},
     "output_type": "execute_result"
    }
   ],
   "source": [
    "# ordered categories allow comparisons, using s for small\n",
    "s3 > 's'"
   ]
  },
  {
   "cell_type": "code",
   "execution_count": 31,
   "id": "750fdbfb",
   "metadata": {},
   "outputs": [
    {
     "data": {
      "text/plain": [
       "0     l\n",
       "1     m\n",
       "2     s\n",
       "3    xs\n",
       "4    xl\n",
       "dtype: category\n",
       "Categories (5, object): ['xs' < 's' < 'm' < 'l' < 'xl']"
      ]
     },
     "execution_count": 31,
     "metadata": {},
     "output_type": "execute_result"
    }
   ],
   "source": [
    "# direct ordering information can be added to the categorical data\n",
    "s.cat.reorder_categories(['xs','s','m','l','xl'],\n",
    "                        ordered = True)"
   ]
  },
  {
   "cell_type": "markdown",
   "id": "0bbaf0e1",
   "metadata": {},
   "source": [
    "### Chapter 4 Exercises\n",
    "1. Create a Series with the temperature values for the last seven days, then filter everything below the mean\n",
    "2. Create a Series with your favorite colors using a categorical type"
   ]
  },
  {
   "cell_type": "code",
   "execution_count": 32,
   "id": "3bf6bee4",
   "metadata": {},
   "outputs": [],
   "source": [
    "import html5lib"
   ]
  },
  {
   "cell_type": "code",
   "execution_count": 33,
   "id": "a9896c17",
   "metadata": {},
   "outputs": [
    {
     "data": {
      "text/plain": [
       "2022-10-16    67.5\n",
       "2022-10-17    67.9\n",
       "2022-10-18    53.5\n",
       "2022-10-19    48.8\n",
       "2022-10-20    54.8\n",
       "2022-10-21    66.3\n",
       "2022-10-22    69.1\n",
       "Freq: D, dtype: float64"
      ]
     },
     "execution_count": 33,
     "metadata": {},
     "output_type": "execute_result"
    }
   ],
   "source": [
    "temp = pd.Series([67.5, 67.9, 53.5, 48.8, 54.8, 66.3, 69.1],\n",
    "                index = pd.date_range(\"2022-10-16\", periods=7, freq=\"D\"))\n",
    "temp"
   ]
  },
  {
   "cell_type": "code",
   "execution_count": 34,
   "id": "f1216d3c",
   "metadata": {},
   "outputs": [
    {
     "data": {
      "text/plain": [
       "<AxesSubplot: >"
      ]
     },
     "execution_count": 34,
     "metadata": {},
     "output_type": "execute_result"
    },
    {
     "data": {
      "image/png": "[encoded data removed]",
      "text/plain": [
       "<Figure size 640x480 with 1 Axes>"
      ]
     },
     "metadata": {},
     "output_type": "display_data"
    }
   ],
   "source": [
    "temp.plot()"
   ]
  },
  {
   "cell_type": "code",
   "execution_count": 35,
   "id": "fffd059f",
   "metadata": {},
   "outputs": [
    {
     "data": {
      "text/plain": [
       "2022-10-16    67.5\n",
       "2022-10-17    67.9\n",
       "2022-10-21    66.3\n",
       "2022-10-22    69.1\n",
       "dtype: float64"
      ]
     },
     "execution_count": 35,
     "metadata": {},
     "output_type": "execute_result"
    }
   ],
   "source": [
    "temp[temp > temp.mean()]"
   ]
  },
  {
   "cell_type": "code",
   "execution_count": 36,
   "id": "6bbf594d",
   "metadata": {},
   "outputs": [
    {
     "data": {
      "text/plain": [
       "0    orange\n",
       "1      blue\n",
       "2     green\n",
       "dtype: category\n",
       "Categories (3, object): ['blue', 'green', 'orange']"
      ]
     },
     "execution_count": 36,
     "metadata": {},
     "output_type": "execute_result"
    }
   ],
   "source": [
    "pd.Series(['orange', 'blue', 'green'], dtype='category')"
   ]
  },
  {
   "cell_type": "markdown",
   "id": "591c9f61",
   "metadata": {},
   "source": [
    "## Chapter 5: Series Deep Dive\n",
    "There are many different possible opreations with series.  In this chapter we will load and analyze data from the US Fuels Economy website to use to demonstrate to many different functions.\n",
    "\n",
    "This will be loaded from Matt's Github since this will ensure the datastructure and location are static."
   ]
  },
  {
   "cell_type": "code",
   "execution_count": 37,
   "id": "1f77462f",
   "metadata": {},
   "outputs": [
    {
     "name": "stderr",
     "output_type": "stream",
     "text": [
      "c:\\users\\knhoffm\\.virtualenvs\\python_for_engineer_science\\lib\\site-packages\\IPython\\core\\interactiveshell.py:3378: DtypeWarning: Columns (70,71,72,73,74,76,79) have mixed types.Specify dtype option on import or set low_memory=False.\n",
      "  exec(code_obj, self.user_global_ns, self.user_ns)\n"
     ]
    }
   ],
   "source": [
    "df = pd.read_csv('vehicles.csv')"
   ]
  },
  {
   "cell_type": "code",
   "execution_count": 38,
   "id": "19c516b9",
   "metadata": {},
   "outputs": [],
   "source": [
    "city_mpg = df.city08\n",
    "hwy_mpg = df.highway08"
   ]
  },
  {
   "cell_type": "code",
   "execution_count": 39,
   "id": "0bd8cb25",
   "metadata": {},
   "outputs": [
    {
     "data": {
      "text/plain": [
       "0        19\n",
       "1         9\n",
       "2        23\n",
       "3        10\n",
       "4        17\n",
       "         ..\n",
       "45639    19\n",
       "45640    20\n",
       "45641    18\n",
       "45642    18\n",
       "45643    16\n",
       "Name: city08, Length: 45644, dtype: int64"
      ]
     },
     "execution_count": 39,
     "metadata": {},
     "output_type": "execute_result"
    }
   ],
   "source": [
    "city_mpg"
   ]
  },
  {
   "cell_type": "code",
   "execution_count": 40,
   "id": "91bb93a5",
   "metadata": {},
   "outputs": [
    {
     "data": {
      "text/plain": [
       "0        25\n",
       "1        14\n",
       "2        33\n",
       "3        12\n",
       "4        23\n",
       "         ..\n",
       "45639    26\n",
       "45640    28\n",
       "45641    24\n",
       "45642    24\n",
       "45643    21\n",
       "Name: highway08, Length: 45644, dtype: int64"
      ]
     },
     "execution_count": 40,
     "metadata": {},
     "output_type": "execute_result"
    }
   ],
   "source": [
    "hwy_mpg"
   ]
  },
  {
   "cell_type": "code",
   "execution_count": 41,
   "id": "f72af2f3",
   "metadata": {},
   "outputs": [
    {
     "data": {
      "text/plain": [
       "419"
      ]
     },
     "execution_count": 41,
     "metadata": {},
     "output_type": "execute_result"
    }
   ],
   "source": [
    "# how many series attributes\n",
    "len(dir(city_mpg))"
   ]
  },
  {
   "cell_type": "markdown",
   "id": "93cc1ae1",
   "metadata": {},
   "source": [
    "## Operators (& Dunder methods)\n",
    "There are many different operators and dunder (double underscore) methods built into the python and pandas library.  Here the effort will be to understand why pure python differs from pandas methods (vectorization) and what the advantages are for doing more with the pandas approach.  We will start with a simple example of what is going on under the hood."
   ]
  },
  {
   "cell_type": "code",
   "execution_count": 42,
   "id": "aed29e0c",
   "metadata": {},
   "outputs": [
    {
     "data": {
      "text/plain": [
       "6"
      ]
     },
     "execution_count": 42,
     "metadata": {},
     "output_type": "execute_result"
    }
   ],
   "source": [
    "# simple python\n",
    "2 + 4"
   ]
  },
  {
   "cell_type": "code",
   "execution_count": 43,
   "id": "a6778f5e",
   "metadata": {},
   "outputs": [
    {
     "data": {
      "text/plain": [
       "6"
      ]
     },
     "execution_count": 43,
     "metadata": {},
     "output_type": "execute_result"
    }
   ],
   "source": [
    "# this is what actually happens since int class in base python as the .__add__() method represented by '+'\n",
    "(2).__add__(4)"
   ]
  },
  {
   "cell_type": "code",
   "execution_count": 44,
   "id": "fe6e5175",
   "metadata": {},
   "outputs": [
    {
     "data": {
      "text/plain": [
       "0        22.0\n",
       "1        11.5\n",
       "2        28.0\n",
       "3        11.0\n",
       "4        20.0\n",
       "         ... \n",
       "45639    22.5\n",
       "45640    24.0\n",
       "45641    21.0\n",
       "45642    21.0\n",
       "45643    18.5\n",
       "Length: 45644, dtype: float64"
      ]
     },
     "execution_count": 44,
     "metadata": {},
     "output_type": "execute_result"
    }
   ],
   "source": [
    "# a Series in pandas has the same method, along with divide, multiply and so on, but it is vectorized\n",
    "# notice the result is a float due to division\n",
    "mean_mpg = (city_mpg + hwy_mpg)/2\n",
    "mean_mpg"
   ]
  },
  {
   "cell_type": "markdown",
   "id": "04e933aa",
   "metadata": {},
   "source": [
    "### Index Alignment\n",
    "Pandas uses index alignment to conduct is mathmatical (add really all) operations. It looks to match up records.  This is easy if the data is columns in a DataFrame, but can create complications if matching to different data sets together with different indexes.  A demonstration of index alignment:"
   ]
  },
  {
   "cell_type": "code",
   "execution_count": 45,
   "id": "d1b2c5b5",
   "metadata": {},
   "outputs": [
    {
     "name": "stdout",
     "output_type": "stream",
     "text": [
      "1    10\n",
      "2    20\n",
      "2    30\n",
      "dtype: int64\n",
      "2    35\n",
      "2    44\n",
      "4    53\n",
      "dtype: int64\n"
     ]
    }
   ],
   "source": [
    "s1 = pd.Series([10, 20, 30], index = [1, 2, 2])\n",
    "s2 = pd.Series([35, 44, 53], index = [2, 2, 4])\n",
    "print(s1)\n",
    "print(s2)"
   ]
  },
  {
   "cell_type": "markdown",
   "id": "b7eff29e",
   "metadata": {},
   "source": [
    "> **Note**: Since the indexes are not unique, it will return a combinatoric explosion of index entries.  The first series 2 value will match each 2 index in turn, followed by the second index 2 value matching the values again."
   ]
  },
  {
   "cell_type": "code",
   "execution_count": 46,
   "id": "83915f7f",
   "metadata": {},
   "outputs": [
    {
     "data": {
      "text/plain": [
       "1     NaN\n",
       "2    55.0\n",
       "2    64.0\n",
       "2    65.0\n",
       "2    74.0\n",
       "4     NaN\n",
       "dtype: float64"
      ]
     },
     "execution_count": 46,
     "metadata": {},
     "output_type": "execute_result"
    }
   ],
   "source": [
    "s1 + s2"
   ]
  },
  {
   "cell_type": "markdown",
   "id": "54dbf2c4",
   "metadata": {},
   "source": [
    "### Broadcasting\n",
    "When conducting mathmatical operations, pandas will broadcast the scalar or operation across all values in the Series.  This is done through vectorization, and happens through an optimized process at the CPU level called SIMD (Single Instruction Multiple Data).  This advantage is available across all of the standard mathmatical operations and logical comparison operators."
   ]
  },
  {
   "cell_type": "code",
   "execution_count": 47,
   "id": "83b46ffb",
   "metadata": {},
   "outputs": [
    {
     "data": {
      "text/html": [
       "<div>\n",
       "<style scoped>\n",
       "    .dataframe tbody tr th:only-of-type {\n",
       "        vertical-align: middle;\n",
       "    }\n",
       "\n",
       "    .dataframe tbody tr th {\n",
       "        vertical-align: top;\n",
       "    }\n",
       "\n",
       "    .dataframe thead th {\n",
       "        text-align: right;\n",
       "    }\n",
       "</style>\n",
       "<table border=\"1\" class=\"dataframe\">\n",
       "  <thead>\n",
       "    <tr style=\"text-align: right;\">\n",
       "      <th></th>\n",
       "      <th>c1</th>\n",
       "      <th>col2</th>\n",
       "      <th>col3</th>\n",
       "      <th>col4</th>\n",
       "      <th>col5</th>\n",
       "      <th>col6</th>\n",
       "    </tr>\n",
       "  </thead>\n",
       "  <tbody>\n",
       "    <tr>\n",
       "      <th>1</th>\n",
       "      <td>10</td>\n",
       "      <td>13</td>\n",
       "      <td>7</td>\n",
       "      <td>100</td>\n",
       "      <td>3.162278</td>\n",
       "      <td>5</td>\n",
       "    </tr>\n",
       "    <tr>\n",
       "      <th>2</th>\n",
       "      <td>20</td>\n",
       "      <td>23</td>\n",
       "      <td>17</td>\n",
       "      <td>400</td>\n",
       "      <td>4.472136</td>\n",
       "      <td>10</td>\n",
       "    </tr>\n",
       "    <tr>\n",
       "      <th>2</th>\n",
       "      <td>30</td>\n",
       "      <td>33</td>\n",
       "      <td>27</td>\n",
       "      <td>900</td>\n",
       "      <td>5.477226</td>\n",
       "      <td>15</td>\n",
       "    </tr>\n",
       "  </tbody>\n",
       "</table>\n",
       "</div>"
      ],
      "text/plain": [
       "   c1  col2  col3  col4      col5  col6\n",
       "1  10    13     7   100  3.162278     5\n",
       "2  20    23    17   400  4.472136    10\n",
       "2  30    33    27   900  5.477226    15"
      ]
     },
     "execution_count": 47,
     "metadata": {},
     "output_type": "execute_result"
    }
   ],
   "source": [
    "c1 = s1\n",
    "c1.reset_index()\n",
    "(pd.DataFrame(c1, columns=['c1'])\n",
    " .assign(col2 = lambda df: df.c1 + 3)     # addition\n",
    " .assign(col3 = lambda df: df.c1 - 3)     # subtraction\n",
    " .assign(col4 = lambda df: df.c1 ** 2)    # power\n",
    " .assign(col5 = lambda df: df.c1 ** 0.5)  # power\n",
    " .assign(col6 = lambda df: df.c1 // 2)    # floor division\n",
    ")"
   ]
  },
  {
   "cell_type": "markdown",
   "id": "0bca2400",
   "metadata": {},
   "source": [
    "### Iteration\n",
    "There is also and iteration method, but in general you should not use a for loop construct on any data in pandas.  This takes you away from vectorization and back into pure python loosing all the speed advantages discussed above."
   ]
  },
  {
   "cell_type": "markdown",
   "id": "8ff8feb5",
   "metadata": {},
   "source": [
    "### Operator methods versus standard calls\n",
    "Pandas offers methods as well as the call to the standard operator to give the user more options for customizing the call.  In most cases there is a fill value assumed (Na typically) that can be leveraged to improve the return value."
   ]
  },
  {
   "cell_type": "code",
   "execution_count": 48,
   "id": "9ccdae25",
   "metadata": {},
   "outputs": [
    {
     "data": {
      "text/plain": [
       "1     NaN\n",
       "2    55.0\n",
       "2    64.0\n",
       "2    65.0\n",
       "2    74.0\n",
       "4     NaN\n",
       "dtype: float64"
      ]
     },
     "execution_count": 48,
     "metadata": {},
     "output_type": "execute_result"
    }
   ],
   "source": [
    "s1 + s2"
   ]
  },
  {
   "cell_type": "code",
   "execution_count": 49,
   "id": "12b6771c",
   "metadata": {},
   "outputs": [
    {
     "data": {
      "text/plain": [
       "1     NaN\n",
       "2    55.0\n",
       "2    64.0\n",
       "2    65.0\n",
       "2    74.0\n",
       "4     NaN\n",
       "dtype: float64"
      ]
     },
     "execution_count": 49,
     "metadata": {},
     "output_type": "execute_result"
    }
   ],
   "source": [
    "s1.add(s2)"
   ]
  },
  {
   "cell_type": "code",
   "execution_count": 50,
   "id": "66d86dfe",
   "metadata": {},
   "outputs": [
    {
     "data": {
      "text/plain": [
       "1    10.0\n",
       "2    55.0\n",
       "2    64.0\n",
       "2    65.0\n",
       "2    74.0\n",
       "4    53.0\n",
       "dtype: float64"
      ]
     },
     "execution_count": 50,
     "metadata": {},
     "output_type": "execute_result"
    }
   ],
   "source": [
    "s1.add(s2, fill_value = 0)"
   ]
  },
  {
   "cell_type": "markdown",
   "id": "682ecb09",
   "metadata": {},
   "source": [
    "### Chaining\n",
    "Chaining is connect various operations end to end to show what each step completes in an effort to make the transformation more readily visible.  This is the key element of the work process for Effective Pandas work.  Chaining must be mastered to improve the cost and make the overall processing easier to recreate or fix."
   ]
  },
  {
   "cell_type": "code",
   "execution_count": 51,
   "id": "183e7252",
   "metadata": {},
   "outputs": [
    {
     "data": {
      "text/plain": [
       "0        22.0\n",
       "1        11.5\n",
       "2        28.0\n",
       "3        11.0\n",
       "4        20.0\n",
       "         ... \n",
       "45639    22.5\n",
       "45640    24.0\n",
       "45641    21.0\n",
       "45642    21.0\n",
       "45643    18.5\n",
       "Length: 45644, dtype: float64"
      ]
     },
     "execution_count": 51,
     "metadata": {},
     "output_type": "execute_result"
    }
   ],
   "source": [
    "(city_mpg + hwy_mpg)/2"
   ]
  },
  {
   "cell_type": "code",
   "execution_count": 52,
   "id": "4f98e0a2",
   "metadata": {},
   "outputs": [
    {
     "data": {
      "text/plain": [
       "0        22.0\n",
       "1        11.5\n",
       "2        28.0\n",
       "3        11.0\n",
       "4        20.0\n",
       "         ... \n",
       "45639    22.5\n",
       "45640    24.0\n",
       "45641    21.0\n",
       "45642    21.0\n",
       "45643    18.5\n",
       "Length: 45644, dtype: float64"
      ]
     },
     "execution_count": 52,
     "metadata": {},
     "output_type": "execute_result"
    }
   ],
   "source": [
    "# becomes a chained operation.  This example is a demonstration of a big concept\n",
    "(city_mpg\n",
    " .add(hwy_mpg)\n",
    " .div(2)\n",
    ")"
   ]
  },
  {
   "cell_type": "markdown",
   "id": "42ed7050",
   "metadata": {},
   "source": [
    "### P-sets\n",
    "1. add a numeric series to itself\n",
    "2. add 10 to a numeric series\n",
    "3. add a numeric series to itself with the .add() method\n",
    "4. read the .add() documentation"
   ]
  },
  {
   "cell_type": "code",
   "execution_count": 53,
   "id": "30948e8b",
   "metadata": {},
   "outputs": [
    {
     "data": {
      "text/plain": [
       "0    1\n",
       "1    2\n",
       "2    3\n",
       "3    4\n",
       "4    5\n",
       "5    6\n",
       "6    7\n",
       "7    8\n",
       "8    9\n",
       "dtype: int32"
      ]
     },
     "execution_count": 53,
     "metadata": {},
     "output_type": "execute_result"
    }
   ],
   "source": [
    "p1 = pd.Series(list('123456789')).astype('int')\n",
    "p1"
   ]
  },
  {
   "cell_type": "code",
   "execution_count": 54,
   "id": "3d588596",
   "metadata": {},
   "outputs": [
    {
     "data": {
      "text/plain": [
       "0     2\n",
       "1     4\n",
       "2     6\n",
       "3     8\n",
       "4    10\n",
       "5    12\n",
       "6    14\n",
       "7    16\n",
       "8    18\n",
       "dtype: int32"
      ]
     },
     "execution_count": 54,
     "metadata": {},
     "output_type": "execute_result"
    }
   ],
   "source": [
    "p1 + p1"
   ]
  },
  {
   "cell_type": "code",
   "execution_count": 55,
   "id": "250efca2",
   "metadata": {},
   "outputs": [
    {
     "data": {
      "text/plain": [
       "0    11\n",
       "1    12\n",
       "2    13\n",
       "3    14\n",
       "4    15\n",
       "5    16\n",
       "6    17\n",
       "7    18\n",
       "8    19\n",
       "dtype: int32"
      ]
     },
     "execution_count": 55,
     "metadata": {},
     "output_type": "execute_result"
    }
   ],
   "source": [
    "p1 + 10"
   ]
  },
  {
   "cell_type": "code",
   "execution_count": 56,
   "id": "5a778cfc",
   "metadata": {},
   "outputs": [
    {
     "data": {
      "text/plain": [
       "0     2\n",
       "1     4\n",
       "2     6\n",
       "3     8\n",
       "4    10\n",
       "5    12\n",
       "6    14\n",
       "7    16\n",
       "8    18\n",
       "dtype: int32"
      ]
     },
     "execution_count": 56,
     "metadata": {},
     "output_type": "execute_result"
    }
   ],
   "source": [
    "(p1\n",
    " .add(p1)\n",
    ")"
   ]
  },
  {
   "cell_type": "code",
   "execution_count": 57,
   "id": "67e29437",
   "metadata": {},
   "outputs": [],
   "source": [
    "# p1.add?"
   ]
  },
  {
   "cell_type": "markdown",
   "id": "6a2d60f5",
   "metadata": {},
   "source": [
    "## Aggregate Methods\n",
    "Most often, the level of detail in a Series is to granular for higher level reporting.  It is not critical to know a specific record value when determining trends and overall properties of the system.  To this end, pandas has many different aggregation methods for summarizing data at a scalar or grouped level."
   ]
  },
  {
   "cell_type": "code",
   "execution_count": 58,
   "id": "fff7a7e1",
   "metadata": {},
   "outputs": [
    {
     "data": {
      "text/plain": [
       "(19.052602751730785, 45644, 869637)"
      ]
     },
     "execution_count": 58,
     "metadata": {},
     "output_type": "execute_result"
    }
   ],
   "source": [
    "# some examples of scalar aggregation to a single value\n",
    "city_mpg.mean(), city_mpg.count(), city_mpg.sum()"
   ]
  },
  {
   "cell_type": "code",
   "execution_count": 59,
   "id": "776fe750",
   "metadata": {},
   "outputs": [
    {
     "data": {
      "text/plain": [
       "(False, False)"
      ]
     },
     "execution_count": 59,
     "metadata": {},
     "output_type": "execute_result"
    }
   ],
   "source": [
    "# aggregate property examples\n",
    "city_mpg.is_monotonic, city_mpg.is_unique"
   ]
  },
  {
   "cell_type": "markdown",
   "id": "00c093fd",
   "metadata": {},
   "source": [
    "### Quantile\n",
    "One of the more powerful aggregations is the quantile method.  It can provide the midpoint by default, or you can specify a list of return values."
   ]
  },
  {
   "cell_type": "code",
   "execution_count": 60,
   "id": "9c3c535f",
   "metadata": {},
   "outputs": [
    {
     "data": {
      "text/plain": [
       "(17.0,\n",
       " 0.2    14.0\n",
       " 0.4    16.0\n",
       " 0.6    19.0\n",
       " 0.8    22.0\n",
       " Name: city08, dtype: float64)"
      ]
     },
     "execution_count": 60,
     "metadata": {},
     "output_type": "execute_result"
    }
   ],
   "source": [
    "city_mpg.quantile(), city_mpg.quantile([0.2, 0.4, 0.6, 0.8])"
   ]
  },
  {
   "cell_type": "markdown",
   "id": "71d0a535",
   "metadata": {},
   "source": [
    "### Chaining to determine subsets\n",
    "In some instances you only want the aggregate of a subset of the data in the Series.  This is where chaining can provide a nice methodology for downselecting and aggregating."
   ]
  },
  {
   "cell_type": "code",
   "execution_count": 61,
   "id": "8a563fb3",
   "metadata": {},
   "outputs": [
    {
     "data": {
      "text/plain": [
       "12405"
      ]
     },
     "execution_count": 61,
     "metadata": {},
     "output_type": "execute_result"
    }
   ],
   "source": [
    "# number mpg cars over 20mpg\n",
    "(city_mpg\n",
    " .gt(20) #masking filter\n",
    " .sum()\n",
    ")"
   ]
  },
  {
   "cell_type": "code",
   "execution_count": 62,
   "id": "c540588d",
   "metadata": {},
   "outputs": [
    {
     "data": {
      "text/plain": [
       "27.1777232494961"
      ]
     },
     "execution_count": 62,
     "metadata": {},
     "output_type": "execute_result"
    }
   ],
   "source": [
    "# percentage of mpg cars over 20mpg\n",
    "(city_mpg\n",
    " .gt(20) # masking filter\n",
    " .mul(100) # multiply boolean values (0/1 equiv) by 100 \n",
    " .mean() # take the mean\n",
    ")"
   ]
  },
  {
   "cell_type": "code",
   "execution_count": 63,
   "id": "e28bfe69",
   "metadata": {},
   "outputs": [
    {
     "data": {
      "text/plain": [
       "23.0"
      ]
     },
     "execution_count": 63,
     "metadata": {},
     "output_type": "execute_result"
    }
   ],
   "source": [
    "# median mpg of mpg cars over 20mpg\n",
    "(city_mpg\n",
    " [city_mpg.gt(20)]\n",
    " .median()\n",
    ")"
   ]
  },
  {
   "cell_type": "markdown",
   "id": "d053cbd6",
   "metadata": {},
   "source": [
    "### .Agg() method\n",
    "This is the catch all aggregation method that accepts predefined methods and user defined functions.  This is a very flexible method, and should be kept handy for any pandas analysis work needing aggregation."
   ]
  },
  {
   "cell_type": "code",
   "execution_count": 64,
   "id": "ba043797",
   "metadata": {},
   "outputs": [
    {
     "data": {
      "text/plain": [
       "19.052602751730785"
      ]
     },
     "execution_count": 64,
     "metadata": {},
     "output_type": "execute_result"
    }
   ],
   "source": [
    "city_mpg.agg('mean')"
   ]
  },
  {
   "cell_type": "code",
   "execution_count": 65,
   "id": "f6467026",
   "metadata": {},
   "outputs": [
    {
     "data": {
      "text/plain": [
       "1.120741338337105"
      ]
     },
     "execution_count": 65,
     "metadata": {},
     "output_type": "execute_result"
    }
   ],
   "source": [
    "# central tendancy of the data related to relationship of mean and median\n",
    "def mean_med_r(s):\n",
    "    return (s.mean())/(s.median())\n",
    "\n",
    "city_mpg.agg(mean_med_r)"
   ]
  },
  {
   "cell_type": "code",
   "execution_count": 66,
   "id": "898455f0",
   "metadata": {},
   "outputs": [
    {
     "data": {
      "text/plain": [
       "<AxesSubplot: ylabel='Frequency'>"
      ]
     },
     "execution_count": 66,
     "metadata": {},
     "output_type": "execute_result"
    },
    {
     "data": {
      "image/png": "[encoded data removed]",
      "text/plain": [
       "<Figure size 640x480 with 1 Axes>"
      ]
     },
     "metadata": {},
     "output_type": "display_data"
    }
   ],
   "source": [
    "(city_mpg\n",
    " .plot\n",
    " .hist(bins=50)\n",
    ")"
   ]
  },
  {
   "cell_type": "markdown",
   "id": "c68440b8",
   "metadata": {},
   "source": [
    "### Other Aggregation methods\n",
    "There are many other aggregation methods avaialble through pandas.  A sampling is shown below, but it is very likely that there is a method when you are looking for a way to summarize data."
   ]
  },
  {
   "cell_type": "code",
   "execution_count": 67,
   "id": "6499fa11",
   "metadata": {},
   "outputs": [
    {
     "data": {
      "text/plain": [
       "0.5618709959331084"
      ]
     },
     "execution_count": 67,
     "metadata": {},
     "output_type": "execute_result"
    }
   ],
   "source": [
    "# dataset correlation with itself shift by 1, default\n",
    "city_mpg.autocorr()"
   ]
  },
  {
   "cell_type": "code",
   "execution_count": 68,
   "id": "ac526bb1",
   "metadata": {},
   "outputs": [
    {
     "data": {
      "text/plain": [
       "(True, True)"
      ]
     },
     "execution_count": 68,
     "metadata": {},
     "output_type": "execute_result"
    }
   ],
   "source": [
    "# truth value for the series for all or any (i.e. 1 or more).  Non zero numbers are true\n",
    "city_mpg.all(), city_mpg.any()"
   ]
  },
  {
   "cell_type": "code",
   "execution_count": 69,
   "id": "4923ace8",
   "metadata": {},
   "outputs": [
    {
     "data": {
      "text/plain": [
       "(0.9540877018932107, 88.31243935607655)"
      ]
     },
     "execution_count": 69,
     "metadata": {},
     "output_type": "execute_result"
    }
   ],
   "source": [
    "# correlation coefficient or covariance between data vectors (no surprise that city and hwy mpg correlate)\n",
    "city_mpg.corr(hwy_mpg), city_mpg.cov(hwy_mpg)"
   ]
  },
  {
   "cell_type": "code",
   "execution_count": 70,
   "id": "1adb897b",
   "metadata": {},
   "outputs": [
    {
     "data": {
      "text/plain": [
       "(6, 150, 19.052602751730785, 17.0)"
      ]
     },
     "execution_count": 70,
     "metadata": {},
     "output_type": "execute_result"
    }
   ],
   "source": [
    "city_mpg.min(), city_mpg.max(), city_mpg.mean(), city_mpg.median()"
   ]
  },
  {
   "cell_type": "code",
   "execution_count": 71,
   "id": "c51c4437",
   "metadata": {},
   "outputs": [
    {
     "data": {
      "text/plain": [
       "(0.04710551617131937,\n",
       " 10.063837494540289,\n",
       " 101.28082511651498,\n",
       " 64.06064136978965)"
      ]
     },
     "execution_count": 71,
     "metadata": {},
     "output_type": "execute_result"
    }
   ],
   "source": [
    "# statistical measures standard error, standard dev, variance, skew, and kurtosis\n",
    "city_mpg.sem(), city_mpg.std(), city_mpg.var(), city_mpg.kurtosis()"
   ]
  },
  {
   "cell_type": "markdown",
   "id": "a15f5acd",
   "metadata": {},
   "source": [
    "### P-set Chapter 7\n",
    "This is all to be conducted with a dataset of your choice\n",
    "1. Find the count of non missing values in a series\n",
    "2. Find the number of entries in a series\n",
    "3. Find the number of unique entries in a series\n",
    "4. Find the mean value of a series\n",
    "5. Find the maximum value of a series\n",
    "6. Use the .agg() method to find all of the above data"
   ]
  },
  {
   "cell_type": "code",
   "execution_count": 72,
   "id": "1c76169c",
   "metadata": {},
   "outputs": [
    {
     "data": {
      "text/plain": [
       "45188"
      ]
     },
     "execution_count": 72,
     "metadata": {},
     "output_type": "execute_result"
    }
   ],
   "source": [
    "cyl = df.cylinders\n",
    "cyl.count()"
   ]
  },
  {
   "cell_type": "code",
   "execution_count": 73,
   "id": "e9696bdc",
   "metadata": {},
   "outputs": [
    {
     "data": {
      "text/plain": [
       "45644"
      ]
     },
     "execution_count": 73,
     "metadata": {},
     "output_type": "execute_result"
    }
   ],
   "source": [
    "cyl.size"
   ]
  },
  {
   "cell_type": "code",
   "execution_count": 74,
   "id": "a28252b5",
   "metadata": {},
   "outputs": [
    {
     "data": {
      "text/plain": [
       "9"
      ]
     },
     "execution_count": 74,
     "metadata": {},
     "output_type": "execute_result"
    }
   ],
   "source": [
    "cyl.nunique()"
   ]
  },
  {
   "cell_type": "code",
   "execution_count": 75,
   "id": "e019214f",
   "metadata": {},
   "outputs": [
    {
     "data": {
      "text/plain": [
       "5.710675400548818"
      ]
     },
     "execution_count": 75,
     "metadata": {},
     "output_type": "execute_result"
    }
   ],
   "source": [
    "cyl.mean()"
   ]
  },
  {
   "cell_type": "code",
   "execution_count": 76,
   "id": "84c00863",
   "metadata": {},
   "outputs": [
    {
     "data": {
      "text/plain": [
       "16.0"
      ]
     },
     "execution_count": 76,
     "metadata": {},
     "output_type": "execute_result"
    }
   ],
   "source": [
    "cyl.max()"
   ]
  },
  {
   "cell_type": "code",
   "execution_count": 77,
   "id": "3fcc2146",
   "metadata": {},
   "outputs": [
    {
     "data": {
      "text/plain": [
       "count      45188.000000\n",
       "size       45644.000000\n",
       "nunique        9.000000\n",
       "mean           5.710675\n",
       "median         6.000000\n",
       "max           16.000000\n",
       "min            2.000000\n",
       "Name: cylinders, dtype: float64"
      ]
     },
     "execution_count": 77,
     "metadata": {},
     "output_type": "execute_result"
    }
   ],
   "source": [
    "cyl.agg(['count','size','nunique','mean','median','max','min'])"
   ]
  },
  {
   "cell_type": "markdown",
   "id": "41d90ca9",
   "metadata": {},
   "source": [
    "## Dtype Conversion methods\n",
    "There are a number of options for data type assignment in pandas.  In many cases, there is not one right answer.  The general idea is to leverage the datatype that facilitates the use case for the information.  This was touched on earlier to describe and demonstrate some of the functionality around missing values and categorical information.  Here we will expand on that information."
   ]
  },
  {
   "cell_type": "code",
   "execution_count": 78,
   "id": "e0e37d2b",
   "metadata": {},
   "outputs": [
    {
     "data": {
      "text/plain": [
       "dtype('int64')"
      ]
     },
     "execution_count": 78,
     "metadata": {},
     "output_type": "execute_result"
    }
   ],
   "source": [
    "city_mpg.dtype"
   ]
  },
  {
   "cell_type": "code",
   "execution_count": 79,
   "id": "5454406e",
   "metadata": {},
   "outputs": [
    {
     "data": {
      "text/plain": [
       "Int64Dtype()"
      ]
     },
     "execution_count": 79,
     "metadata": {},
     "output_type": "execute_result"
    }
   ],
   "source": [
    "# This conversion adds or moves to pandas types that supports pd.NA types\n",
    "city_mpg.convert_dtypes().dtype"
   ]
  },
  {
   "cell_type": "code",
   "execution_count": 80,
   "id": "64ba2a1c",
   "metadata": {},
   "outputs": [
    {
     "data": {
      "text/plain": [
       "Int16Dtype()"
      ]
     },
     "execution_count": 80,
     "metadata": {},
     "output_type": "execute_result"
    }
   ],
   "source": [
    "# for more explicit control, us astype() method\n",
    "city_mpg.astype('Int16').dtype"
   ]
  },
  {
   "cell_type": "markdown",
   "id": "3865010e",
   "metadata": {},
   "source": [
    "#### Which Dtype\n",
    "Using the correct dtype can save significant amounts of memory.  The default dtype is 8bytes wide (i.e. 64 bits for both int64 and float64).  If a narrower type is used it can cut back on memory usage and more data can be stored/managed.  Numpy can provide the limits of the different dtype options."
   ]
  },
  {
   "cell_type": "code",
   "execution_count": 81,
   "id": "963a8c61",
   "metadata": {},
   "outputs": [
    {
     "data": {
      "text/plain": [
       "iinfo(min=-9223372036854775808, max=9223372036854775807, dtype=int64)"
      ]
     },
     "execution_count": 81,
     "metadata": {},
     "output_type": "execute_result"
    }
   ],
   "source": [
    "np.iinfo('int64')"
   ]
  },
  {
   "cell_type": "code",
   "execution_count": 82,
   "id": "a14324c2",
   "metadata": {},
   "outputs": [
    {
     "data": {
      "text/plain": [
       "iinfo(min=0, max=255, dtype=uint8)"
      ]
     },
     "execution_count": 82,
     "metadata": {},
     "output_type": "execute_result"
    }
   ],
   "source": [
    "np.iinfo('uint8')"
   ]
  },
  {
   "cell_type": "code",
   "execution_count": 83,
   "id": "fecae94e",
   "metadata": {},
   "outputs": [
    {
     "data": {
      "text/plain": [
       "finfo(resolution=1e-15, min=-1.7976931348623157e+308, max=1.7976931348623157e+308, dtype=float64)"
      ]
     },
     "execution_count": 83,
     "metadata": {},
     "output_type": "execute_result"
    }
   ],
   "source": [
    "np.finfo('float64')"
   ]
  },
  {
   "cell_type": "code",
   "execution_count": 84,
   "id": "e9a31314",
   "metadata": {},
   "outputs": [
    {
     "data": {
      "text/plain": [
       "finfo(resolution=0.001, min=-6.55040e+04, max=6.55040e+04, dtype=float16)"
      ]
     },
     "execution_count": 84,
     "metadata": {},
     "output_type": "execute_result"
    }
   ],
   "source": [
    "np.finfo('float16')"
   ]
  },
  {
   "cell_type": "markdown",
   "id": "2a20bdb1",
   "metadata": {},
   "source": [
    "### Memory usage\n",
    "To compare the amount of memory employed, you can leverage the nbytes property or the .memory_usage method.  The later provides more information which is helpful when dealing with object types."
   ]
  },
  {
   "cell_type": "code",
   "execution_count": 85,
   "id": "73b1fee9",
   "metadata": {},
   "outputs": [
    {
     "data": {
      "text/plain": [
       "365152"
      ]
     },
     "execution_count": 85,
     "metadata": {},
     "output_type": "execute_result"
    }
   ],
   "source": [
    "city_mpg.nbytes"
   ]
  },
  {
   "cell_type": "code",
   "execution_count": 86,
   "id": "749e6883",
   "metadata": {},
   "outputs": [
    {
     "data": {
      "text/plain": [
       "91288"
      ]
     },
     "execution_count": 86,
     "metadata": {},
     "output_type": "execute_result"
    }
   ],
   "source": [
    "city_mpg.astype('int16').nbytes"
   ]
  },
  {
   "cell_type": "code",
   "execution_count": 87,
   "id": "f751695e",
   "metadata": {},
   "outputs": [],
   "source": [
    "make = df.make"
   ]
  },
  {
   "cell_type": "code",
   "execution_count": 88,
   "id": "c3a1cf14",
   "metadata": {},
   "outputs": [
    {
     "data": {
      "text/plain": [
       "(365152, 365280, 2891562)"
      ]
     },
     "execution_count": 88,
     "metadata": {},
     "output_type": "execute_result"
    }
   ],
   "source": [
    "# nbytes is just the pandas series, memory_usage is the series with index\n",
    "# memory_usage with deep=True is the same with the individual object value contribution\n",
    "make.nbytes, make.memory_usage(), make.memory_usage(deep=True)"
   ]
  },
  {
   "cell_type": "code",
   "execution_count": 89,
   "id": "f051efc6",
   "metadata": {},
   "outputs": [
    {
     "data": {
      "text/plain": [
       "105200"
      ]
     },
     "execution_count": 89,
     "metadata": {},
     "output_type": "execute_result"
    }
   ],
   "source": [
    "# converting to categorical can really help\n",
    "(make\n",
    " .astype('category')\n",
    " .memory_usage(deep=True)\n",
    ")"
   ]
  },
  {
   "cell_type": "markdown",
   "id": "1091e12e",
   "metadata": {},
   "source": [
    "### String and category types\n",
    "There is the option to convert to string/object and category types within pandas.  Again, leveraging the .astype() method, the entire Series can be recast assuming the change is possible.  There are always limitation, but normally this is associated with int and float type work.  "
   ]
  },
  {
   "cell_type": "code",
   "execution_count": 90,
   "id": "2db7911b",
   "metadata": {},
   "outputs": [
    {
     "data": {
      "text/plain": [
       "2693016"
      ]
     },
     "execution_count": 90,
     "metadata": {},
     "output_type": "execute_result"
    }
   ],
   "source": [
    "city_mpg.astype('str').memory_usage(deep=True)"
   ]
  },
  {
   "cell_type": "code",
   "execution_count": 91,
   "id": "32bc3637",
   "metadata": {},
   "outputs": [
    {
     "data": {
      "text/plain": [
       "96632"
      ]
     },
     "execution_count": 91,
     "metadata": {},
     "output_type": "execute_result"
    }
   ],
   "source": [
    "city_mpg.astype('category').memory_usage(deep=True)"
   ]
  },
  {
   "cell_type": "markdown",
   "id": "2c895454",
   "metadata": {},
   "source": [
    "> **The magic of category:** When you convert string data to category data, the repeated values are not new string entries, but instead a reference back to the initial category definition.  This saves lots of space as seen above, and you still get access to the str attribute (maybe)."
   ]
  },
  {
   "cell_type": "code",
   "execution_count": 92,
   "id": "b08b41f3",
   "metadata": {},
   "outputs": [
    {
     "data": {
      "text/plain": [
       "False    43320\n",
       "True      2324\n",
       "Name: make, dtype: int64"
      ]
     },
     "execution_count": 92,
     "metadata": {},
     "output_type": "execute_result"
    }
   ],
   "source": [
    "make.astype('category').str.startswith('S').value_counts()"
   ]
  },
  {
   "cell_type": "markdown",
   "id": "ab40eaa1",
   "metadata": {},
   "source": [
    "### Ordered Categories\n",
    "To create ordered categories, it required that a custom CategoricalIDtype."
   ]
  },
  {
   "cell_type": "code",
   "execution_count": 93,
   "id": "5faee204",
   "metadata": {},
   "outputs": [],
   "source": [
    "# creating the unique set of values to leverage for the CategoricalDtype\n",
    "values = pd.Series(sorted(set(city_mpg)))"
   ]
  },
  {
   "cell_type": "code",
   "execution_count": 94,
   "id": "dabfdeed",
   "metadata": {},
   "outputs": [],
   "source": [
    "# must cast as a CategoricalDtype to get this working\n",
    "city_type = pd.CategoricalDtype(categories=values, ordered=True)"
   ]
  },
  {
   "cell_type": "code",
   "execution_count": 95,
   "id": "c3fcf648",
   "metadata": {},
   "outputs": [
    {
     "data": {
      "text/plain": [
       "0        19\n",
       "1         9\n",
       "2        23\n",
       "3        10\n",
       "4        17\n",
       "         ..\n",
       "45639    19\n",
       "45640    20\n",
       "45641    18\n",
       "45642    18\n",
       "45643    16\n",
       "Name: city08, Length: 45644, dtype: category\n",
       "Categories (131, int64): [6 < 7 < 8 < 9 ... 141 < 145 < 148 < 150]"
      ]
     },
     "execution_count": 95,
     "metadata": {},
     "output_type": "execute_result"
    }
   ],
   "source": [
    "city_mpg.astype(city_type)"
   ]
  },
  {
   "cell_type": "markdown",
   "id": "4011f86f",
   "metadata": {},
   "source": [
    "### Converting to other types\n",
    "There are a handful of other dtypes which can be useful.  A few are covered below to assist with future data conversion work."
   ]
  },
  {
   "cell_type": "code",
   "execution_count": 96,
   "id": "d4f8754b",
   "metadata": {},
   "outputs": [
    {
     "data": {
      "text/plain": [
       "array([ True,  True,  True, ...,  True,  True,  True])"
      ]
     },
     "execution_count": 96,
     "metadata": {},
     "output_type": "execute_result"
    }
   ],
   "source": [
    "# Numpy array can be achieved with .to_numpy and .values\n",
    "city_mpg.values == city_mpg.to_numpy()"
   ]
  },
  {
   "cell_type": "code",
   "execution_count": 97,
   "id": "4b59ec02",
   "metadata": {},
   "outputs": [
    {
     "data": {
      "text/plain": [
       "[19, 9, 23, 10, 17, 21, 22, 23, 23, 23]"
      ]
     },
     "execution_count": 97,
     "metadata": {},
     "output_type": "execute_result"
    }
   ],
   "source": [
    "# not something that should be used, but it is an option\n",
    "city_mpg.to_list()[:10]"
   ]
  },
  {
   "cell_type": "code",
   "execution_count": 98,
   "id": "233bdcf1",
   "metadata": {},
   "outputs": [
    {
     "data": {
      "text/html": [
       "<div>\n",
       "<style scoped>\n",
       "    .dataframe tbody tr th:only-of-type {\n",
       "        vertical-align: middle;\n",
       "    }\n",
       "\n",
       "    .dataframe tbody tr th {\n",
       "        vertical-align: top;\n",
       "    }\n",
       "\n",
       "    .dataframe thead th {\n",
       "        text-align: right;\n",
       "    }\n",
       "</style>\n",
       "<table border=\"1\" class=\"dataframe\">\n",
       "  <thead>\n",
       "    <tr style=\"text-align: right;\">\n",
       "      <th></th>\n",
       "      <th>city08</th>\n",
       "    </tr>\n",
       "  </thead>\n",
       "  <tbody>\n",
       "    <tr>\n",
       "      <th>0</th>\n",
       "      <td>19</td>\n",
       "    </tr>\n",
       "    <tr>\n",
       "      <th>1</th>\n",
       "      <td>9</td>\n",
       "    </tr>\n",
       "    <tr>\n",
       "      <th>2</th>\n",
       "      <td>23</td>\n",
       "    </tr>\n",
       "    <tr>\n",
       "      <th>3</th>\n",
       "      <td>10</td>\n",
       "    </tr>\n",
       "    <tr>\n",
       "      <th>4</th>\n",
       "      <td>17</td>\n",
       "    </tr>\n",
       "    <tr>\n",
       "      <th>...</th>\n",
       "      <td>...</td>\n",
       "    </tr>\n",
       "    <tr>\n",
       "      <th>45639</th>\n",
       "      <td>19</td>\n",
       "    </tr>\n",
       "    <tr>\n",
       "      <th>45640</th>\n",
       "      <td>20</td>\n",
       "    </tr>\n",
       "    <tr>\n",
       "      <th>45641</th>\n",
       "      <td>18</td>\n",
       "    </tr>\n",
       "    <tr>\n",
       "      <th>45642</th>\n",
       "      <td>18</td>\n",
       "    </tr>\n",
       "    <tr>\n",
       "      <th>45643</th>\n",
       "      <td>16</td>\n",
       "    </tr>\n",
       "  </tbody>\n",
       "</table>\n",
       "<p>45644 rows × 1 columns</p>\n",
       "</div>"
      ],
      "text/plain": [
       "       city08\n",
       "0          19\n",
       "1           9\n",
       "2          23\n",
       "3          10\n",
       "4          17\n",
       "...       ...\n",
       "45639      19\n",
       "45640      20\n",
       "45641      18\n",
       "45642      18\n",
       "45643      16\n",
       "\n",
       "[45644 rows x 1 columns]"
      ]
     },
     "execution_count": 98,
     "metadata": {},
     "output_type": "execute_result"
    }
   ],
   "source": [
    "# to dataframe can be helpful with render a view\n",
    "city_mpg.to_frame()"
   ]
  },
  {
   "cell_type": "markdown",
   "id": "fea96a3a",
   "metadata": {},
   "source": [
    ">**Export file storage types:** There are a number of file storage types unders the to_... methods.  CSV, Excel, HDF5, SQL, JSON, and more.  These will be most often leveraged for a full DataFrame, but the functionality is equivalent."
   ]
  },
  {
   "cell_type": "markdown",
   "id": "ffc34060",
   "metadata": {},
   "source": [
    "### Psets Chapter 8\n",
    "With a dataset of your choice:\n",
    "1. Convert a numeric column to a smaller type\n",
    "2. Calculate the memory savings by conducting the conversion to a smaller type\n",
    "3. Convert a string column into a categorical type\n",
    "4. Calculate the memory savings by converting to categorical type."
   ]
  },
  {
   "cell_type": "code",
   "execution_count": 99,
   "id": "94b8ea73",
   "metadata": {},
   "outputs": [],
   "source": [
    "try:\n",
    "    table_GDP = pd.read_html('https://en.wikipedia.org/wiki/Economy_of_the_United_States')\n",
    "    us_GDP = table_GDP[3]\n",
    "except:\n",
    "    table_GDP = pd.read_csv('us_GDP.csv')\n",
    "    us_GDP = table_GDP"
   ]
  },
  {
   "cell_type": "code",
   "execution_count": 100,
   "id": "7582b131",
   "metadata": {},
   "outputs": [],
   "source": [
    "# us_GDP.to_csv('us_GDP.csv')"
   ]
  },
  {
   "cell_type": "code",
   "execution_count": 101,
   "id": "36505473",
   "metadata": {
    "scrolled": true
   },
   "outputs": [
    {
     "name": "stdout",
     "output_type": "stream",
     "text": [
      "<class 'pandas.core.frame.DataFrame'>\n",
      "RangeIndex: 48 entries, 0 to 47\n",
      "Data columns (total 9 columns):\n",
      " #   Column                           Non-Null Count  Dtype  \n",
      "---  ------                           --------------  -----  \n",
      " 0   Year                             48 non-null     int64  \n",
      " 1   GDP (in Bil. US$PPP)             48 non-null     float64\n",
      " 2   GDP per capita (in US$ PPP)      48 non-null     float64\n",
      " 3   GDP (in Bil. US$nominal)         48 non-null     float64\n",
      " 4   GDP per capita (in US$ nominal)  48 non-null     float64\n",
      " 5   GDP growth (real)                48 non-null     object \n",
      " 6   Inflation rate (in Percent)      48 non-null     object \n",
      " 7   Unemployment (in Percent)        48 non-null     object \n",
      " 8   Government debt (in % of GDP)    27 non-null     object \n",
      "dtypes: float64(4), int64(1), object(4)\n",
      "memory usage: 3.5+ KB\n"
     ]
    }
   ],
   "source": [
    "us_GDP.info()"
   ]
  },
  {
   "cell_type": "code",
   "execution_count": 102,
   "id": "e9648416",
   "metadata": {
    "scrolled": true
   },
   "outputs": [
    {
     "data": {
      "text/plain": [
       "Year                                  1980\n",
       "GDP (in Bil. US$PPP)                2857.3\n",
       "GDP per capita (in US$ PPP)        12552.9\n",
       "GDP (in Bil. US$nominal)            2857.3\n",
       "GDP per capita (in US$ nominal)    12552.9\n",
       "GDP growth (real)                    -0.3%\n",
       "Inflation rate (in Percent)          13.5%\n",
       "Unemployment (in Percent)             7.2%\n",
       "Government debt (in % of GDP)          NaN\n",
       "Name: 0, dtype: object"
      ]
     },
     "execution_count": 102,
     "metadata": {},
     "output_type": "execute_result"
    }
   ],
   "source": [
    "us_GDP.iloc[0]"
   ]
  },
  {
   "cell_type": "code",
   "execution_count": 103,
   "id": "563da84b",
   "metadata": {},
   "outputs": [
    {
     "data": {
      "text/html": [
       "<div>\n",
       "<style scoped>\n",
       "    .dataframe tbody tr th:only-of-type {\n",
       "        vertical-align: middle;\n",
       "    }\n",
       "\n",
       "    .dataframe tbody tr th {\n",
       "        vertical-align: top;\n",
       "    }\n",
       "\n",
       "    .dataframe thead th {\n",
       "        text-align: right;\n",
       "    }\n",
       "</style>\n",
       "<table border=\"1\" class=\"dataframe\">\n",
       "  <thead>\n",
       "    <tr style=\"text-align: right;\">\n",
       "      <th></th>\n",
       "      <th>Year</th>\n",
       "      <th>GDP (in Bil. US$PPP)</th>\n",
       "      <th>GDP per capita (in US$ PPP)</th>\n",
       "      <th>GDP (in Bil. US$nominal)</th>\n",
       "      <th>GDP per capita (in US$ nominal)</th>\n",
       "      <th>GDP growth (real)</th>\n",
       "      <th>Inflation rate (in Percent)</th>\n",
       "      <th>Unemployment (in Percent)</th>\n",
       "      <th>Government debt (in % of GDP)</th>\n",
       "    </tr>\n",
       "  </thead>\n",
       "  <tbody>\n",
       "    <tr>\n",
       "      <th>count</th>\n",
       "      <td>48.00</td>\n",
       "      <td>48.000000</td>\n",
       "      <td>48.000000</td>\n",
       "      <td>48.000000</td>\n",
       "      <td>48.000000</td>\n",
       "      <td>48</td>\n",
       "      <td>48</td>\n",
       "      <td>48</td>\n",
       "      <td>27</td>\n",
       "    </tr>\n",
       "    <tr>\n",
       "      <th>unique</th>\n",
       "      <td>NaN</td>\n",
       "      <td>NaN</td>\n",
       "      <td>NaN</td>\n",
       "      <td>NaN</td>\n",
       "      <td>NaN</td>\n",
       "      <td>32</td>\n",
       "      <td>34</td>\n",
       "      <td>29</td>\n",
       "      <td>26</td>\n",
       "    </tr>\n",
       "    <tr>\n",
       "      <th>top</th>\n",
       "      <td>NaN</td>\n",
       "      <td>NaN</td>\n",
       "      <td>NaN</td>\n",
       "      <td>NaN</td>\n",
       "      <td>NaN</td>\n",
       "      <td>2.3%</td>\n",
       "      <td>2.0%</td>\n",
       "      <td>5.4%</td>\n",
       "      <td>104.6%</td>\n",
       "    </tr>\n",
       "    <tr>\n",
       "      <th>freq</th>\n",
       "      <td>NaN</td>\n",
       "      <td>NaN</td>\n",
       "      <td>NaN</td>\n",
       "      <td>NaN</td>\n",
       "      <td>NaN</td>\n",
       "      <td>4</td>\n",
       "      <td>3</td>\n",
       "      <td>4</td>\n",
       "      <td>2</td>\n",
       "    </tr>\n",
       "    <tr>\n",
       "      <th>mean</th>\n",
       "      <td>2003.50</td>\n",
       "      <td>13182.360417</td>\n",
       "      <td>43192.318750</td>\n",
       "      <td>13182.360417</td>\n",
       "      <td>43192.318750</td>\n",
       "      <td>NaN</td>\n",
       "      <td>NaN</td>\n",
       "      <td>NaN</td>\n",
       "      <td>NaN</td>\n",
       "    </tr>\n",
       "    <tr>\n",
       "      <th>std</th>\n",
       "      <td>14.00</td>\n",
       "      <td>7817.386178</td>\n",
       "      <td>21396.888688</td>\n",
       "      <td>7817.386178</td>\n",
       "      <td>21396.888688</td>\n",
       "      <td>NaN</td>\n",
       "      <td>NaN</td>\n",
       "      <td>NaN</td>\n",
       "      <td>NaN</td>\n",
       "    </tr>\n",
       "    <tr>\n",
       "      <th>min</th>\n",
       "      <td>1980.00</td>\n",
       "      <td>2857.300000</td>\n",
       "      <td>12552.900000</td>\n",
       "      <td>2857.300000</td>\n",
       "      <td>12552.900000</td>\n",
       "      <td>NaN</td>\n",
       "      <td>NaN</td>\n",
       "      <td>NaN</td>\n",
       "      <td>NaN</td>\n",
       "    </tr>\n",
       "    <tr>\n",
       "      <th>25%</th>\n",
       "      <td>1991.75</td>\n",
       "      <td>6429.750000</td>\n",
       "      <td>25120.375000</td>\n",
       "      <td>6429.750000</td>\n",
       "      <td>25120.375000</td>\n",
       "      <td>NaN</td>\n",
       "      <td>NaN</td>\n",
       "      <td>NaN</td>\n",
       "      <td>NaN</td>\n",
       "    </tr>\n",
       "    <tr>\n",
       "      <th>50%</th>\n",
       "      <td>2003.50</td>\n",
       "      <td>11836.850000</td>\n",
       "      <td>40523.500000</td>\n",
       "      <td>11836.850000</td>\n",
       "      <td>40523.500000</td>\n",
       "      <td>NaN</td>\n",
       "      <td>NaN</td>\n",
       "      <td>NaN</td>\n",
       "      <td>NaN</td>\n",
       "    </tr>\n",
       "    <tr>\n",
       "      <th>75%</th>\n",
       "      <td>2015.25</td>\n",
       "      <td>18328.275000</td>\n",
       "      <td>57007.275000</td>\n",
       "      <td>18328.275000</td>\n",
       "      <td>57007.275000</td>\n",
       "      <td>NaN</td>\n",
       "      <td>NaN</td>\n",
       "      <td>NaN</td>\n",
       "      <td>NaN</td>\n",
       "    </tr>\n",
       "    <tr>\n",
       "      <th>max</th>\n",
       "      <td>2027.00</td>\n",
       "      <td>30281.500000</td>\n",
       "      <td>89546.400000</td>\n",
       "      <td>30281.500000</td>\n",
       "      <td>89546.400000</td>\n",
       "      <td>NaN</td>\n",
       "      <td>NaN</td>\n",
       "      <td>NaN</td>\n",
       "      <td>NaN</td>\n",
       "    </tr>\n",
       "  </tbody>\n",
       "</table>\n",
       "</div>"
      ],
      "text/plain": [
       "           Year  GDP (in Bil. US$PPP)  GDP per capita (in US$ PPP)  \\\n",
       "count     48.00             48.000000                    48.000000   \n",
       "unique      NaN                   NaN                          NaN   \n",
       "top         NaN                   NaN                          NaN   \n",
       "freq        NaN                   NaN                          NaN   \n",
       "mean    2003.50          13182.360417                 43192.318750   \n",
       "std       14.00           7817.386178                 21396.888688   \n",
       "min     1980.00           2857.300000                 12552.900000   \n",
       "25%     1991.75           6429.750000                 25120.375000   \n",
       "50%     2003.50          11836.850000                 40523.500000   \n",
       "75%     2015.25          18328.275000                 57007.275000   \n",
       "max     2027.00          30281.500000                 89546.400000   \n",
       "\n",
       "        GDP (in Bil. US$nominal)  GDP per capita (in US$ nominal)  \\\n",
       "count                  48.000000                        48.000000   \n",
       "unique                       NaN                              NaN   \n",
       "top                          NaN                              NaN   \n",
       "freq                         NaN                              NaN   \n",
       "mean                13182.360417                     43192.318750   \n",
       "std                  7817.386178                     21396.888688   \n",
       "min                  2857.300000                     12552.900000   \n",
       "25%                  6429.750000                     25120.375000   \n",
       "50%                 11836.850000                     40523.500000   \n",
       "75%                 18328.275000                     57007.275000   \n",
       "max                 30281.500000                     89546.400000   \n",
       "\n",
       "       GDP growth (real) Inflation rate (in Percent)  \\\n",
       "count                 48                          48   \n",
       "unique                32                          34   \n",
       "top                 2.3%                        2.0%   \n",
       "freq                   4                           3   \n",
       "mean                 NaN                         NaN   \n",
       "std                  NaN                         NaN   \n",
       "min                  NaN                         NaN   \n",
       "25%                  NaN                         NaN   \n",
       "50%                  NaN                         NaN   \n",
       "75%                  NaN                         NaN   \n",
       "max                  NaN                         NaN   \n",
       "\n",
       "       Unemployment (in Percent) Government debt (in % of GDP)  \n",
       "count                         48                            27  \n",
       "unique                        29                            26  \n",
       "top                         5.4%                        104.6%  \n",
       "freq                           4                             2  \n",
       "mean                         NaN                           NaN  \n",
       "std                          NaN                           NaN  \n",
       "min                          NaN                           NaN  \n",
       "25%                          NaN                           NaN  \n",
       "50%                          NaN                           NaN  \n",
       "75%                          NaN                           NaN  \n",
       "max                          NaN                           NaN  "
      ]
     },
     "execution_count": 103,
     "metadata": {},
     "output_type": "execute_result"
    }
   ],
   "source": [
    "us_GDP.describe(include='all')"
   ]
  },
  {
   "cell_type": "code",
   "execution_count": 104,
   "id": "7b94e2c5",
   "metadata": {},
   "outputs": [
    {
     "data": {
      "text/plain": [
       "Index                               128\n",
       "Year                                384\n",
       "GDP (in Bil. US$PPP)                384\n",
       "GDP per capita (in US$ PPP)         384\n",
       "GDP (in Bil. US$nominal)            384\n",
       "GDP per capita (in US$ nominal)     384\n",
       "GDP growth (real)                  2933\n",
       "Inflation rate (in Percent)        2931\n",
       "Unemployment (in Percent)          2928\n",
       "Government debt (in % of GDP)      2362\n",
       "Inflation                          2883\n",
       "up_down                            2842\n",
       "dtype: int64"
      ]
     },
     "execution_count": 104,
     "metadata": {},
     "output_type": "execute_result"
    }
   ],
   "source": [
    "(us_GDP\n",
    " .assign(Inflation = us_GDP['Inflation rate (in Percent)'].str.rstrip('%'))\n",
    " .assign(up_down = np.where(us_GDP['GDP growth (real)'].str.rstrip('%').astype('float32')>=0,'up','down'))\n",
    " .memory_usage(deep=True)\n",
    ")"
   ]
  },
  {
   "cell_type": "code",
   "execution_count": 105,
   "id": "a4f7fcb7",
   "metadata": {},
   "outputs": [
    {
     "data": {
      "text/plain": [
       "Index                               128\n",
       "Year                                 96\n",
       "GDP (in Bil. US$PPP)                192\n",
       "GDP per capita (in US$ PPP)         384\n",
       "GDP (in Bil. US$nominal)            384\n",
       "GDP per capita (in US$ nominal)     384\n",
       "GDP growth (real)                  2933\n",
       "Inflation rate (in Percent)        2931\n",
       "Unemployment (in Percent)          2928\n",
       "Government debt (in % of GDP)      2362\n",
       "Inflation                            96\n",
       "up_down                             276\n",
       "dtype: int64"
      ]
     },
     "execution_count": 105,
     "metadata": {},
     "output_type": "execute_result"
    }
   ],
   "source": [
    "(us_GDP\n",
    " .assign(Inflation = us_GDP['Inflation rate (in Percent)'].str.rstrip('%'))\n",
    " .assign(up_down = np.where(us_GDP['GDP growth (real)'].str.rstrip('%').astype('float32')>=0,'up','down'))\n",
    " .astype({'Year': 'int16', 'GDP (in Bil. US$PPP)':'float32', 'Inflation':'float16', 'up_down':'category'})\n",
    " .memory_usage(deep=True)\n",
    ")"
   ]
  },
  {
   "cell_type": "markdown",
   "id": "cfd02639",
   "metadata": {},
   "source": [
    "## Ch9: Manipulation methods\n",
    "Manipulation methods are the workhorses of the pandas library.  These methods facilitate inspection, clean up and modeling.  Most of the methods will perform an operation on a Series and return a Series with the same index allowing it to be pushed back into the original DataFrame.\n",
    "\n",
    "### .apply() and .where()\n",
    "The .apply() method allow element wise application of a function.  While this can sometime be handy, it is not vectorized.  So, if you have a million rows, and you apply a user defined function it will be called 1 million times in the process. Not ideal, and it moves you back toward pure python speeds.  Ideally this is not used often and primarily when vectorized operations are not possible (infrequent). "
   ]
  },
  {
   "cell_type": "code",
   "execution_count": 106,
   "id": "905591f8",
   "metadata": {},
   "outputs": [],
   "source": [
    "# user defined function to return a boolean value\n",
    "def gt20(val):\n",
    "    return val > 20"
   ]
  },
  {
   "cell_type": "code",
   "execution_count": 107,
   "id": "647be37f",
   "metadata": {},
   "outputs": [
    {
     "data": {
      "text/plain": [
       "0        False\n",
       "1        False\n",
       "2         True\n",
       "3        False\n",
       "4        False\n",
       "         ...  \n",
       "45639    False\n",
       "45640    False\n",
       "45641    False\n",
       "45642    False\n",
       "45643    False\n",
       "Name: city08, Length: 45644, dtype: bool"
      ]
     },
     "execution_count": 107,
     "metadata": {},
     "output_type": "execute_result"
    }
   ],
   "source": [
    "# %%timeit\n",
    "city_mpg.gt(20)"
   ]
  },
  {
   "cell_type": "code",
   "execution_count": 108,
   "id": "a512f70e",
   "metadata": {},
   "outputs": [
    {
     "data": {
      "text/plain": [
       "0        False\n",
       "1        False\n",
       "2         True\n",
       "3        False\n",
       "4        False\n",
       "         ...  \n",
       "45639    False\n",
       "45640    False\n",
       "45641    False\n",
       "45642    False\n",
       "45643    False\n",
       "Name: city08, Length: 45644, dtype: bool"
      ]
     },
     "execution_count": 108,
     "metadata": {},
     "output_type": "execute_result"
    }
   ],
   "source": [
    "# %%timeit\n",
    "city_mpg.apply(gt20)"
   ]
  },
  {
   "cell_type": "markdown",
   "id": "ed3b46b4",
   "metadata": {},
   "source": [
    "As shown above, the difference in execution of each code cell is significant.  If it is possible to use vectorized operations, this should always be the first choice.\n",
    "\n",
    "### .where()\n",
    "The .where() method is an option when you are attempting to apply control logic in a vectorized mannor.  It is very similar to an if, then control structure.  While it does not allow multiple levels in a single call, the output could be passed to another .where() nested within the original structure. Here is an example comparing .apply() to .where()."
   ]
  },
  {
   "cell_type": "code",
   "execution_count": 109,
   "id": "c683642a",
   "metadata": {},
   "outputs": [],
   "source": [
    "# top five makes by count\n",
    "top5 = make.value_counts().index[:5]"
   ]
  },
  {
   "cell_type": "code",
   "execution_count": 110,
   "id": "30f9ad3d",
   "metadata": {},
   "outputs": [],
   "source": [
    "# user defined function\n",
    "def generalize_top5 (val, top5 = top5):\n",
    "    if val in top5:\n",
    "        return val\n",
    "    return 'Other'"
   ]
  },
  {
   "cell_type": "code",
   "execution_count": 111,
   "id": "3dd04005",
   "metadata": {},
   "outputs": [
    {
     "data": {
      "text/plain": [
       "0        Other\n",
       "1        Other\n",
       "2        Dodge\n",
       "3        Dodge\n",
       "4        Other\n",
       "         ...  \n",
       "45639    Other\n",
       "45640    Other\n",
       "45641    Other\n",
       "45642    Other\n",
       "45643    Other\n",
       "Name: make, Length: 45644, dtype: object"
      ]
     },
     "execution_count": 111,
     "metadata": {},
     "output_type": "execute_result"
    }
   ],
   "source": [
    "# %%timeit\n",
    "make.apply(generalize_top5)"
   ]
  },
  {
   "cell_type": "code",
   "execution_count": 112,
   "id": "f56b3b0e",
   "metadata": {},
   "outputs": [
    {
     "data": {
      "text/plain": [
       "0        Alfa Romeo\n",
       "1           Ferrari\n",
       "2             Other\n",
       "3             Other\n",
       "4            Subaru\n",
       "            ...    \n",
       "45639        Subaru\n",
       "45640        Subaru\n",
       "45641        Subaru\n",
       "45642        Subaru\n",
       "45643        Subaru\n",
       "Name: make, Length: 45644, dtype: object"
      ]
     },
     "execution_count": 112,
     "metadata": {},
     "output_type": "execute_result"
    }
   ],
   "source": [
    "# %%timeit\n",
    "make.where(~make.isin(top5),'Other')"
   ]
  },
  {
   "cell_type": "markdown",
   "id": "c0643c2b",
   "metadata": {},
   "source": [
    "### If Else control structures in Pandas\n",
    "This is a shortcoming in the pandas ecosystem.  If there was an interest in keeping the top 5 makes, then designating a top10 make, then followed by other for anything else, this would be beyond the base vectorization options.  "
   ]
  },
  {
   "cell_type": "code",
   "execution_count": 113,
   "id": "b475c816",
   "metadata": {},
   "outputs": [
    {
     "data": {
      "text/plain": [
       "Index(['Chevrolet', 'Ford', 'GMC', 'Dodge', 'Toyota'], dtype='object')"
      ]
     },
     "execution_count": 113,
     "metadata": {},
     "output_type": "execute_result"
    }
   ],
   "source": [
    "top5"
   ]
  },
  {
   "cell_type": "code",
   "execution_count": 114,
   "id": "f7feb5a1",
   "metadata": {},
   "outputs": [],
   "source": [
    "top10 = make.value_counts().index[:10]"
   ]
  },
  {
   "cell_type": "code",
   "execution_count": 115,
   "id": "6c9ee729",
   "metadata": {},
   "outputs": [],
   "source": [
    "def generalize(val):\n",
    "    if val in top5:\n",
    "        return val\n",
    "    elif val in top10:\n",
    "        return 'Top10'\n",
    "    else:\n",
    "        return 'Other'"
   ]
  },
  {
   "cell_type": "code",
   "execution_count": 116,
   "id": "ef23733f",
   "metadata": {},
   "outputs": [
    {
     "data": {
      "text/plain": [
       "0        Other\n",
       "1        Other\n",
       "2        Dodge\n",
       "3        Dodge\n",
       "4        Other\n",
       "         ...  \n",
       "45639    Other\n",
       "45640    Other\n",
       "45641    Other\n",
       "45642    Other\n",
       "45643    Other\n",
       "Name: make, Length: 45644, dtype: object"
      ]
     },
     "execution_count": 116,
     "metadata": {},
     "output_type": "execute_result"
    }
   ],
   "source": [
    "make.apply(generalize)"
   ]
  },
  {
   "cell_type": "markdown",
   "id": "fb4afe0a",
   "metadata": {},
   "source": [
    "> **NOTE:** To replicate the above technique in pandas requires a chaining operation of the where function."
   ]
  },
  {
   "cell_type": "code",
   "execution_count": 117,
   "id": "ddc7dd9e",
   "metadata": {},
   "outputs": [
    {
     "data": {
      "text/plain": [
       "0        Other\n",
       "1        Other\n",
       "2        Dodge\n",
       "3        Dodge\n",
       "4        Other\n",
       "         ...  \n",
       "45639    Other\n",
       "45640    Other\n",
       "45641    Other\n",
       "45642    Other\n",
       "45643    Other\n",
       "Name: make, Length: 45644, dtype: object"
      ]
     },
     "execution_count": 117,
     "metadata": {},
     "output_type": "execute_result"
    }
   ],
   "source": [
    "# .where() replaces values where condition is false with other if specified\n",
    "# the call inside .where() method accesses the original make Series, but .where() modifies the return Seriesb\n",
    "(make\n",
    " .where(make.isin(top5), other = 'top10')\n",
    " .where(make.isin(top10), other = 'Other')\n",
    ")"
   ]
  },
  {
   "cell_type": "markdown",
   "id": "fc88b3f9",
   "metadata": {},
   "source": [
    "> **ALTERNATE:** Since chaining where can be somewhat challenging to read, another alternative is the np.select() method.  It returns a np array, so it would need to be wrapped in a Series constructor"
   ]
  },
  {
   "cell_type": "code",
   "execution_count": 118,
   "id": "ff18498e",
   "metadata": {},
   "outputs": [
    {
     "data": {
      "text/plain": [
       "0        Other\n",
       "1        Other\n",
       "2        Dodge\n",
       "3        Dodge\n",
       "4        Other\n",
       "         ...  \n",
       "45639    Other\n",
       "45640    Other\n",
       "45641    Other\n",
       "45642    Other\n",
       "45643    Other\n",
       "Length: 45644, dtype: object"
      ]
     },
     "execution_count": 118,
     "metadata": {},
     "output_type": "execute_result"
    }
   ],
   "source": [
    "pd.Series(\n",
    "    np.select([make.isin(top5), make.isin(top10)],\n",
    "              [make,'top10'],'Other'))"
   ]
  },
  {
   "cell_type": "markdown",
   "id": "e73786b0",
   "metadata": {},
   "source": [
    "### Missing Values\n",
    "Missing data is always problematic, but it is especially problematic if you are attempting to conduct machine learning.  Most models will not run with missing data, or otherwise will return inaccurate results.  There are a number of methods to address missing values within pandas.  In addition, there are more options within the machine learn and statistics libraries.\n",
    "\n",
    "Some of the most common methods:\n",
    "- .dropna(): remove the records\n",
    "- .fillna(): specify a fill value (mean, median, constant, etc.)\n",
    "- .ffill(): fill the missing values using the prior value\n",
    "- .bfill(): fill the missing values using next value\n",
    "- .interpolate(): fill with the average of the prior and next point"
   ]
  },
  {
   "cell_type": "code",
   "execution_count": 119,
   "id": "7d95b121",
   "metadata": {},
   "outputs": [
    {
     "data": {
      "text/plain": [
       "456"
      ]
     },
     "execution_count": 119,
     "metadata": {},
     "output_type": "execute_result"
    }
   ],
   "source": [
    "cyl = df.cylinders\n",
    "(cyl\n",
    ".isna()\n",
    ".sum()\n",
    ")"
   ]
  },
  {
   "cell_type": "code",
   "execution_count": 120,
   "id": "0fe11f80",
   "metadata": {},
   "outputs": [
    {
     "data": {
      "text/plain": [
       "7138         Nissan\n",
       "7139         Toyota\n",
       "8143         Toyota\n",
       "8144           Ford\n",
       "8146           Ford\n",
       "            ...    \n",
       "39603    Volkswagen\n",
       "39604    Volkswagen\n",
       "39605    Volkswagen\n",
       "39606    Volkswagen\n",
       "39607    Volkswagen\n",
       "Name: make, Length: 456, dtype: object"
      ]
     },
     "execution_count": 120,
     "metadata": {},
     "output_type": "execute_result"
    }
   ],
   "source": [
    "missing = cyl.isna()\n",
    "make.loc[missing]"
   ]
  },
  {
   "cell_type": "code",
   "execution_count": 121,
   "id": "93ff544a",
   "metadata": {},
   "outputs": [
    {
     "data": {
      "text/plain": [
       "4.0     17786\n",
       "6.0     15564\n",
       "8.0      9693\n",
       "5.0       776\n",
       "12.0      714\n",
       "0.0       456\n",
       "3.0       376\n",
       "10.0      196\n",
       "2.0        63\n",
       "16.0       20\n",
       "Name: cylinders, dtype: int64"
      ]
     },
     "execution_count": 121,
     "metadata": {},
     "output_type": "execute_result"
    }
   ],
   "source": [
    "# 456 entries with 0 replacing the Nan values previously recorded for electrics.\n",
    "(cyl\n",
    " .fillna(0)\n",
    " .value_counts()\n",
    ")"
   ]
  },
  {
   "cell_type": "markdown",
   "id": "5ea8c744",
   "metadata": {},
   "source": [
    "### Interpolating data\n",
    "Where data is numeric and represents a continuous meause of a condition, it might be prudent to interpolate between points to fill missing values.  In this case, ffill would not be an accurate representation of reality.  The classic example is temperature, where the prior and following position would indicate the direction of the temperature movement.  Clearly applying this to cyclder data would be a poor application, where the data is unrelated characteristic information."
   ]
  },
  {
   "cell_type": "code",
   "execution_count": 122,
   "id": "f4d3a526",
   "metadata": {},
   "outputs": [
    {
     "data": {
      "text/plain": [
       "0    32.0\n",
       "1    33.0\n",
       "2    35.0\n",
       "3     NaN\n",
       "4    38.0\n",
       "5    39.0\n",
       "6    40.0\n",
       "7    42.0\n",
       "dtype: float64"
      ]
     },
     "execution_count": 122,
     "metadata": {},
     "output_type": "execute_result"
    }
   ],
   "source": [
    "temp = pd.Series([32, 33, 35, None, 38, 39, 40, 42])\n",
    "temp"
   ]
  },
  {
   "cell_type": "code",
   "execution_count": 123,
   "id": "08de87f8",
   "metadata": {},
   "outputs": [
    {
     "data": {
      "text/plain": [
       "0    32.0\n",
       "1    33.0\n",
       "2    35.0\n",
       "3    36.5\n",
       "4    38.0\n",
       "5    39.0\n",
       "6    40.0\n",
       "7    42.0\n",
       "dtype: float64"
      ]
     },
     "execution_count": 123,
     "metadata": {},
     "output_type": "execute_result"
    }
   ],
   "source": [
    "temp.interpolate()"
   ]
  },
  {
   "cell_type": "markdown",
   "id": "722a4445",
   "metadata": {},
   "source": [
    "### Clipping data\n",
    "If there are outliers in the data, it might be prudent to clip them to ensure it does not misrepresent the overall population.  This process can be conducted using the .clip() method."
   ]
  },
  {
   "cell_type": "code",
   "execution_count": 124,
   "id": "ff485682",
   "metadata": {},
   "outputs": [
    {
     "data": {
      "text/plain": [
       "count    447.000000\n",
       "mean      15.798658\n",
       "std        3.286703\n",
       "min        9.000000\n",
       "25%       14.000000\n",
       "50%       16.000000\n",
       "75%       18.000000\n",
       "max       31.000000\n",
       "Name: city08, dtype: float64"
      ]
     },
     "execution_count": 124,
     "metadata": {},
     "output_type": "execute_result"
    }
   ],
   "source": [
    "# this subset of the data ranges from 9 to 31 mpg, but we might want to show the 5th to 95th percentile instead\n",
    "city_mpg.loc[:446].describe()"
   ]
  },
  {
   "cell_type": "code",
   "execution_count": 125,
   "id": "8be04fc6",
   "metadata": {},
   "outputs": [
    {
     "data": {
      "text/plain": [
       "count    447.000000\n",
       "mean      15.850112\n",
       "std        3.156940\n",
       "min       11.000000\n",
       "25%       14.000000\n",
       "50%       16.000000\n",
       "75%       18.000000\n",
       "max       28.000000\n",
       "Name: city08, dtype: float64"
      ]
     },
     "execution_count": 125,
     "metadata": {},
     "output_type": "execute_result"
    }
   ],
   "source": [
    "(city_mpg\n",
    " .loc[:446]\n",
    " .clip(lower=city_mpg.quantile(0.05),\n",
    "      upper =city_mpg.quantile(0.95))\n",
    " .describe()\n",
    ")"
   ]
  },
  {
   "cell_type": "markdown",
   "id": "bfa5f867",
   "metadata": {},
   "source": [
    "### .sort_values() method\n",
    "This method returns a new Series with the values in sorted order (desending or ascending).  It does not sort the index, but due to index alignment this should not create issues in further analysis. "
   ]
  },
  {
   "cell_type": "code",
   "execution_count": 126,
   "id": "a4b75f6c",
   "metadata": {},
   "outputs": [
    {
     "data": {
      "text/plain": [
       "32570    150\n",
       "33394    150\n",
       "37174    150\n",
       "31227    150\n",
       "35478    148\n",
       "        ... \n",
       "21057      6\n",
       "40387      6\n",
       "34523      6\n",
       "41661      6\n",
       "7901       6\n",
       "Name: city08, Length: 45644, dtype: int64"
      ]
     },
     "execution_count": 126,
     "metadata": {},
     "output_type": "execute_result"
    }
   ],
   "source": [
    "city_mpg.sort_values(ascending=False)"
   ]
  },
  {
   "cell_type": "code",
   "execution_count": 127,
   "id": "999e9931",
   "metadata": {},
   "outputs": [
    {
     "data": {
      "text/plain": [
       "0        22.0\n",
       "1        11.5\n",
       "2        28.0\n",
       "3        11.0\n",
       "4        20.0\n",
       "         ... \n",
       "45639    22.5\n",
       "45640    24.0\n",
       "45641    21.0\n",
       "45642    21.0\n",
       "45643    18.5\n",
       "Length: 45644, dtype: float64"
      ]
     },
     "execution_count": 127,
     "metadata": {},
     "output_type": "execute_result"
    }
   ],
   "source": [
    "# this still works due to index alignment\n",
    "(city_mpg.sort_values() + hwy_mpg)/2"
   ]
  },
  {
   "cell_type": "code",
   "execution_count": 128,
   "id": "e881feb1",
   "metadata": {},
   "outputs": [
    {
     "data": {
      "text/plain": [
       "0        19\n",
       "1         9\n",
       "2        23\n",
       "3        10\n",
       "4        17\n",
       "         ..\n",
       "45639    19\n",
       "45640    20\n",
       "45641    18\n",
       "45642    18\n",
       "45643    16\n",
       "Name: city08, Length: 45644, dtype: int64"
      ]
     },
     "execution_count": 128,
     "metadata": {},
     "output_type": "execute_result"
    }
   ],
   "source": [
    "# you can also sort the index.  Below we sort_values to scramble the index, the sort_index which undoes the value sort\n",
    "city_mpg.sort_values().sort_index()"
   ]
  },
  {
   "cell_type": "markdown",
   "id": "d57a1a4c",
   "metadata": {},
   "source": [
    "### Drop duplicates\n",
    "Just as it sounds, remove duplicate entries.  Consider what you apply this to given that removal of duplicate numbers may not always be prudent or applicable to a given dataset or event a specific datatype."
   ]
  },
  {
   "cell_type": "code",
   "execution_count": 129,
   "id": "2f463638",
   "metadata": {},
   "outputs": [
    {
     "data": {
      "text/plain": [
       "(45644, 131)"
      ]
     },
     "execution_count": 129,
     "metadata": {},
     "output_type": "execute_result"
    }
   ],
   "source": [
    "# this has a considerable impact to the amount of data.  Options on keep value: first, last, and False (keep nothing)\n",
    "city_mpg.count(), city_mpg.drop_duplicates().count()"
   ]
  },
  {
   "cell_type": "markdown",
   "id": "9455661a",
   "metadata": {},
   "source": [
    "### Ranking Data\n",
    "Ranking data can have a number of uses around sorting and demonstrated relative performance.  This is still dependent on the problem being pursued, and at times may not have a bearing on the overall data evaluation.  For now, the goal is to be aware that this option does existin and can be readily leveraged to bring in a rank value."
   ]
  },
  {
   "cell_type": "code",
   "execution_count": 130,
   "id": "4aa56920",
   "metadata": {},
   "outputs": [
    {
     "data": {
      "text/plain": [
       "41661     3.0\n",
       "34523     3.0\n",
       "7901      3.0\n",
       "21057     3.0\n",
       "40387     3.0\n",
       "18594    22.5\n",
       "44083    22.5\n",
       "40856    22.5\n",
       "13641    22.5\n",
       "1990     22.5\n",
       "Name: city08, dtype: float64"
      ]
     },
     "execution_count": 130,
     "metadata": {},
     "output_type": "execute_result"
    }
   ],
   "source": [
    "# default is to use the average of the rank group\n",
    "city_mpg.rank().sort_values()[:10]"
   ]
  },
  {
   "cell_type": "code",
   "execution_count": 131,
   "id": "67399c58",
   "metadata": {},
   "outputs": [
    {
     "data": {
      "text/plain": [
       "41661    1.0\n",
       "34523    1.0\n",
       "7901     1.0\n",
       "21057    1.0\n",
       "40387    1.0\n",
       "18594    6.0\n",
       "44083    6.0\n",
       "40856    6.0\n",
       "13641    6.0\n",
       "1990     6.0\n",
       "Name: city08, dtype: float64"
      ]
     },
     "execution_count": 131,
     "metadata": {},
     "output_type": "execute_result"
    }
   ],
   "source": [
    "# min results in ties have the lowest rank in group, where max is highest\n",
    "city_mpg.rank(method='min').sort_values()[:10]"
   ]
  },
  {
   "cell_type": "code",
   "execution_count": 132,
   "id": "f79ac51f",
   "metadata": {},
   "outputs": [
    {
     "data": {
      "text/plain": [
       "41661    1.0\n",
       "34523    1.0\n",
       "7901     1.0\n",
       "21057    1.0\n",
       "40387    1.0\n",
       "18594    2.0\n",
       "44083    2.0\n",
       "40856    2.0\n",
       "13641    2.0\n",
       "1990     2.0\n",
       "Name: city08, dtype: float64"
      ]
     },
     "execution_count": 132,
     "metadata": {},
     "output_type": "execute_result"
    }
   ],
   "source": [
    "# dense results in ties giving group position instead of inferred rank (i.e. 1, 1, 3, 3, 4, 4 = 1, 1, 2, 2, 3, 3)\n",
    "city_mpg.rank(method='dense').sort_values()[:10]"
   ]
  },
  {
   "cell_type": "markdown",
   "id": "fb4334f9",
   "metadata": {},
   "source": [
    "### Replacing values\n",
    "This is a data cleaning exercise most frequently used with object or string data.  It allows for a lot of flexibility including pattern matching using regex."
   ]
  },
  {
   "cell_type": "code",
   "execution_count": 133,
   "id": "c9ae7a68",
   "metadata": {},
   "outputs": [
    {
     "data": {
      "text/plain": [
       "0        Alfa Romeo\n",
       "1           Ferrari\n",
       "2             Dodge\n",
       "3             Dodge\n",
       "4             MONEY\n",
       "            ...    \n",
       "45639         MONEY\n",
       "45640         MONEY\n",
       "45641         MONEY\n",
       "45642         MONEY\n",
       "45643         MONEY\n",
       "Name: make, Length: 45644, dtype: object"
      ]
     },
     "execution_count": 133,
     "metadata": {},
     "output_type": "execute_result"
    }
   ],
   "source": [
    "# Simple example\n",
    "make.replace('Subaru','MONEY')"
   ]
  },
  {
   "cell_type": "code",
   "execution_count": 134,
   "id": "87474978",
   "metadata": {},
   "outputs": [
    {
     "data": {
      "text/plain": [
       "(0    40\n",
       " 1    20\n",
       " 2    30\n",
       " 3    20\n",
       " 4    10\n",
       " dtype: int64,\n",
       " 0    42.0\n",
       " 1    20.0\n",
       " 2    30.0\n",
       " 3    20.0\n",
       " 4     9.8\n",
       " dtype: float64,\n",
       " 0    42.0\n",
       " 1    20.0\n",
       " 2    30.0\n",
       " 3    20.0\n",
       " 4     9.8\n",
       " dtype: float64)"
      ]
     },
     "execution_count": 134,
     "metadata": {},
     "output_type": "execute_result"
    }
   ],
   "source": [
    "# using paramters or dictionary, can drop the to_replace is desired\n",
    "s = pd.Series([40, 20, 30, 20, 10])\n",
    "s, s.replace(to_replace=[40, 10], value=[42, 9.8]), s.replace(to_replace= {40:42, 10: 9.8})"
   ]
  },
  {
   "cell_type": "code",
   "execution_count": 135,
   "id": "ff49a772",
   "metadata": {},
   "outputs": [
    {
     "data": {
      "text/plain": [
       "0        40\n",
       "1    twenty\n",
       "2        30\n",
       "3    twenty\n",
       "4        10\n",
       "dtype: object"
      ]
     },
     "execution_count": 135,
     "metadata": {},
     "output_type": "execute_result"
    }
   ],
   "source": [
    "s.replace(20, 'twenty')"
   ]
  },
  {
   "cell_type": "code",
   "execution_count": 136,
   "id": "7c4c6d0f",
   "metadata": {},
   "outputs": [
    {
     "data": {
      "text/plain": [
       "0          Alfa Romeo\n",
       "1        ri-other-Fer\n",
       "2               Dodge\n",
       "3               Dodge\n",
       "4              Subaru\n",
       "             ...     \n",
       "45639          Subaru\n",
       "45640          Subaru\n",
       "45641          Subaru\n",
       "45642          Subaru\n",
       "45643          Subaru\n",
       "Name: make, Length: 45644, dtype: object"
      ]
     },
     "execution_count": 136,
     "metadata": {},
     "output_type": "execute_result"
    }
   ],
   "source": [
    "# regex application with capture groups and order, etc...\n",
    "make.replace(r'(Fer)ra(r.*)', value=r'\\2-other-\\1', regex=True)"
   ]
  },
  {
   "cell_type": "markdown",
   "id": "e79d001d",
   "metadata": {},
   "source": [
    "### Binning data\n",
    "Binning data can also be useful as part of the analysis efforts.  This can be accomplished with the pd.cut() method."
   ]
  },
  {
   "cell_type": "code",
   "execution_count": 137,
   "id": "a8c26763",
   "metadata": {},
   "outputs": [
    {
     "data": {
      "text/plain": [
       "(5.856, 20.4]     33239\n",
       "(20.4, 34.8]      11384\n",
       "(34.8, 49.2]        485\n",
       "(49.2, 63.6]        103\n",
       "(121.2, 135.6]       97\n",
       "(78.0, 92.4]         94\n",
       "(92.4, 106.8]        82\n",
       "(106.8, 121.2]       81\n",
       "(63.6, 78.0]         55\n",
       "(135.6, 150.0]       24\n",
       "Name: city08, dtype: int64"
      ]
     },
     "execution_count": 137,
     "metadata": {},
     "output_type": "execute_result"
    }
   ],
   "source": [
    "# cut the data into 10 bins of equal range, but not count of entries. Yields a catagorical dtype\n",
    "pd.cut(city_mpg,10).value_counts()"
   ]
  },
  {
   "cell_type": "code",
   "execution_count": 138,
   "id": "29141950",
   "metadata": {},
   "outputs": [
    {
     "data": {
      "text/plain": [
       "(10, 20]     32335\n",
       "(20, 40]     11666\n",
       "(0, 10]        904\n",
       "(70, 150]      427\n",
       "(40, 70]       312\n",
       "Name: city08, dtype: int64"
      ]
     },
     "execution_count": 138,
     "metadata": {},
     "output_type": "execute_result"
    }
   ],
   "source": [
    "# if you know the bin edges, provide those\n",
    "pd.cut(city_mpg, [0, 10, 20, 40, 70, 150]).value_counts()"
   ]
  },
  {
   "cell_type": "code",
   "execution_count": 139,
   "id": "e711424a",
   "metadata": {},
   "outputs": [
    {
     "data": {
      "text/plain": [
       "(17.0, 19.0]     7699\n",
       "(5.999, 13.0]    6281\n",
       "(20.0, 22.0]     4866\n",
       "(14.0, 15.0]     4850\n",
       "(16.0, 17.0]     4312\n",
       "(15.0, 16.0]     4266\n",
       "(25.0, 150.0]    3903\n",
       "(22.0, 25.0]     3636\n",
       "(13.0, 14.0]     3197\n",
       "(19.0, 20.0]     2634\n",
       "Name: city08, dtype: int64"
      ]
     },
     "execution_count": 139,
     "metadata": {},
     "output_type": "execute_result"
    }
   ],
   "source": [
    "# alternative you can bin by quantiles if you want an equal distribution of entries by bin ignoring width\n",
    "pd.qcut(city_mpg, 10).value_counts()"
   ]
  },
  {
   "cell_type": "code",
   "execution_count": 140,
   "id": "9cb424fd",
   "metadata": {},
   "outputs": [
    {
     "data": {
      "text/plain": [
       "1-quant     6281\n",
       "2-quant     3197\n",
       "3-quant     4850\n",
       "4-quant     4266\n",
       "5-quant     4312\n",
       "6-quant     7699\n",
       "7-quant     2634\n",
       "8-quant     4866\n",
       "9-quant     3636\n",
       "10-quant    3903\n",
       "Name: city08, dtype: int64"
      ]
     },
     "execution_count": 140,
     "metadata": {},
     "output_type": "execute_result"
    }
   ],
   "source": [
    "# both pd.cut() class creators allow the application of labels\n",
    "pd.qcut(city_mpg, 10, labels=[f'{i}-quant' for i in range(1,11)]).value_counts().sort_index()"
   ]
  },
  {
   "cell_type": "markdown",
   "id": "8fb0d00e",
   "metadata": {},
   "source": [
    "### Ch9 P-Sets\n",
    "With a dataset of your choice.\n",
    "1. Create a \"Series from a numeric column that has a value of high if above the mean or low below it\" using apply.\n",
    "2. Create a \"\" using np.select\n",
    "3. Time the previous two solutions to determine the faster approach.\n",
    "4. Replace the missing values of a numeric series with the median value.\n",
    "5. Clip the values of a numeric series between the 10th and 90th percentiles.\n",
    "6. Using a categorical column, replace any value not in the top five by count with \"other\".\n",
    "7. Using a categorical column, replace any value not in the top ten by count with \"other\".\n",
    "8. Create a function that takes a categorical column and a number n and returns a replace series that replaces any value not in the top n frequency set with \"other\"\n",
    "9. Using a numeric column, bin it into 10 groups of equal width.\n",
    "10. Using a numeric column, bin it into 10 groups that have equal size bins (counts per bin). "
   ]
  },
  {
   "cell_type": "code",
   "execution_count": 157,
   "id": "107ee320",
   "metadata": {},
   "outputs": [],
   "source": [
    "fifa = pd.read_csv(\"international_matches.csv\", parse_dates=[\"date\"])"
   ]
  },
  {
   "cell_type": "code",
   "execution_count": 163,
   "id": "2268b254",
   "metadata": {},
   "outputs": [
    {
     "data": {
      "text/html": [
       "<div>\n",
       "<style scoped>\n",
       "    .dataframe tbody tr th:only-of-type {\n",
       "        vertical-align: middle;\n",
       "    }\n",
       "\n",
       "    .dataframe tbody tr th {\n",
       "        vertical-align: top;\n",
       "    }\n",
       "\n",
       "    .dataframe thead th {\n",
       "        text-align: right;\n",
       "    }\n",
       "</style>\n",
       "<table border=\"1\" class=\"dataframe\">\n",
       "  <thead>\n",
       "    <tr style=\"text-align: right;\">\n",
       "      <th></th>\n",
       "      <th>date</th>\n",
       "      <th>home_team</th>\n",
       "      <th>away_team</th>\n",
       "      <th>home_team_continent</th>\n",
       "      <th>away_team_continent</th>\n",
       "      <th>home_team_fifa_rank</th>\n",
       "      <th>away_team_fifa_rank</th>\n",
       "      <th>home_team_total_fifa_points</th>\n",
       "      <th>away_team_total_fifa_points</th>\n",
       "      <th>home_team_score</th>\n",
       "      <th>...</th>\n",
       "      <th>shoot_out</th>\n",
       "      <th>home_team_result</th>\n",
       "      <th>home_team_goalkeeper_score</th>\n",
       "      <th>away_team_goalkeeper_score</th>\n",
       "      <th>home_team_mean_defense_score</th>\n",
       "      <th>home_team_mean_offense_score</th>\n",
       "      <th>home_team_mean_midfield_score</th>\n",
       "      <th>away_team_mean_defense_score</th>\n",
       "      <th>away_team_mean_offense_score</th>\n",
       "      <th>away_team_mean_midfield_score</th>\n",
       "    </tr>\n",
       "  </thead>\n",
       "  <tbody>\n",
       "    <tr>\n",
       "      <th>23916</th>\n",
       "      <td>2022-06-14</td>\n",
       "      <td>Moldova</td>\n",
       "      <td>Andorra</td>\n",
       "      <td>Europe</td>\n",
       "      <td>Europe</td>\n",
       "      <td>180</td>\n",
       "      <td>153</td>\n",
       "      <td>932</td>\n",
       "      <td>1040</td>\n",
       "      <td>2</td>\n",
       "      <td>...</td>\n",
       "      <td>No</td>\n",
       "      <td>Win</td>\n",
       "      <td>65.0</td>\n",
       "      <td>NaN</td>\n",
       "      <td>NaN</td>\n",
       "      <td>NaN</td>\n",
       "      <td>NaN</td>\n",
       "      <td>NaN</td>\n",
       "      <td>NaN</td>\n",
       "      <td>NaN</td>\n",
       "    </tr>\n",
       "    <tr>\n",
       "      <th>23917</th>\n",
       "      <td>2022-06-14</td>\n",
       "      <td>Liechtenstein</td>\n",
       "      <td>Latvia</td>\n",
       "      <td>Europe</td>\n",
       "      <td>Europe</td>\n",
       "      <td>192</td>\n",
       "      <td>135</td>\n",
       "      <td>895</td>\n",
       "      <td>1105</td>\n",
       "      <td>0</td>\n",
       "      <td>...</td>\n",
       "      <td>No</td>\n",
       "      <td>Lose</td>\n",
       "      <td>NaN</td>\n",
       "      <td>65.0</td>\n",
       "      <td>NaN</td>\n",
       "      <td>NaN</td>\n",
       "      <td>NaN</td>\n",
       "      <td>NaN</td>\n",
       "      <td>NaN</td>\n",
       "      <td>NaN</td>\n",
       "    </tr>\n",
       "    <tr>\n",
       "      <th>23918</th>\n",
       "      <td>2022-06-14</td>\n",
       "      <td>Chile</td>\n",
       "      <td>Ghana</td>\n",
       "      <td>South America</td>\n",
       "      <td>Africa</td>\n",
       "      <td>28</td>\n",
       "      <td>60</td>\n",
       "      <td>1526</td>\n",
       "      <td>1387</td>\n",
       "      <td>0</td>\n",
       "      <td>...</td>\n",
       "      <td>Yes</td>\n",
       "      <td>Lose</td>\n",
       "      <td>79.0</td>\n",
       "      <td>74.0</td>\n",
       "      <td>75.5</td>\n",
       "      <td>76.7</td>\n",
       "      <td>78.2</td>\n",
       "      <td>75.5</td>\n",
       "      <td>76.0</td>\n",
       "      <td>78.2</td>\n",
       "    </tr>\n",
       "    <tr>\n",
       "      <th>23919</th>\n",
       "      <td>2022-06-14</td>\n",
       "      <td>Japan</td>\n",
       "      <td>Tunisia</td>\n",
       "      <td>Asia</td>\n",
       "      <td>Africa</td>\n",
       "      <td>23</td>\n",
       "      <td>35</td>\n",
       "      <td>1553</td>\n",
       "      <td>1499</td>\n",
       "      <td>0</td>\n",
       "      <td>...</td>\n",
       "      <td>No</td>\n",
       "      <td>Lose</td>\n",
       "      <td>73.0</td>\n",
       "      <td>NaN</td>\n",
       "      <td>75.2</td>\n",
       "      <td>75.0</td>\n",
       "      <td>77.5</td>\n",
       "      <td>70.8</td>\n",
       "      <td>72.3</td>\n",
       "      <td>74.0</td>\n",
       "    </tr>\n",
       "    <tr>\n",
       "      <th>23920</th>\n",
       "      <td>2022-06-14</td>\n",
       "      <td>Korea Republic</td>\n",
       "      <td>Egypt</td>\n",
       "      <td>Asia</td>\n",
       "      <td>Africa</td>\n",
       "      <td>29</td>\n",
       "      <td>32</td>\n",
       "      <td>1519</td>\n",
       "      <td>1500</td>\n",
       "      <td>4</td>\n",
       "      <td>...</td>\n",
       "      <td>No</td>\n",
       "      <td>Win</td>\n",
       "      <td>75.0</td>\n",
       "      <td>NaN</td>\n",
       "      <td>73.0</td>\n",
       "      <td>80.0</td>\n",
       "      <td>73.8</td>\n",
       "      <td>NaN</td>\n",
       "      <td>79.3</td>\n",
       "      <td>70.8</td>\n",
       "    </tr>\n",
       "  </tbody>\n",
       "</table>\n",
       "<p>5 rows × 25 columns</p>\n",
       "</div>"
      ],
      "text/plain": [
       "            date       home_team away_team home_team_continent  \\\n",
       "23916 2022-06-14         Moldova   Andorra              Europe   \n",
       "23917 2022-06-14   Liechtenstein    Latvia              Europe   \n",
       "23918 2022-06-14           Chile     Ghana       South America   \n",
       "23919 2022-06-14           Japan   Tunisia                Asia   \n",
       "23920 2022-06-14  Korea Republic     Egypt                Asia   \n",
       "\n",
       "      away_team_continent  home_team_fifa_rank  away_team_fifa_rank  \\\n",
       "23916              Europe                  180                  153   \n",
       "23917              Europe                  192                  135   \n",
       "23918              Africa                   28                   60   \n",
       "23919              Africa                   23                   35   \n",
       "23920              Africa                   29                   32   \n",
       "\n",
       "       home_team_total_fifa_points  away_team_total_fifa_points  \\\n",
       "23916                          932                         1040   \n",
       "23917                          895                         1105   \n",
       "23918                         1526                         1387   \n",
       "23919                         1553                         1499   \n",
       "23920                         1519                         1500   \n",
       "\n",
       "       home_team_score  ...  shoot_out home_team_result  \\\n",
       "23916                2  ...         No              Win   \n",
       "23917                0  ...         No             Lose   \n",
       "23918                0  ...        Yes             Lose   \n",
       "23919                0  ...         No             Lose   \n",
       "23920                4  ...         No              Win   \n",
       "\n",
       "      home_team_goalkeeper_score away_team_goalkeeper_score  \\\n",
       "23916                       65.0                        NaN   \n",
       "23917                        NaN                       65.0   \n",
       "23918                       79.0                       74.0   \n",
       "23919                       73.0                        NaN   \n",
       "23920                       75.0                        NaN   \n",
       "\n",
       "       home_team_mean_defense_score home_team_mean_offense_score  \\\n",
       "23916                           NaN                          NaN   \n",
       "23917                           NaN                          NaN   \n",
       "23918                          75.5                         76.7   \n",
       "23919                          75.2                         75.0   \n",
       "23920                          73.0                         80.0   \n",
       "\n",
       "      home_team_mean_midfield_score  away_team_mean_defense_score  \\\n",
       "23916                           NaN                           NaN   \n",
       "23917                           NaN                           NaN   \n",
       "23918                          78.2                          75.5   \n",
       "23919                          77.5                          70.8   \n",
       "23920                          73.8                           NaN   \n",
       "\n",
       "       away_team_mean_offense_score  away_team_mean_midfield_score  \n",
       "23916                           NaN                            NaN  \n",
       "23917                           NaN                            NaN  \n",
       "23918                          76.0                           78.2  \n",
       "23919                          72.3                           74.0  \n",
       "23920                          79.3                           70.8  \n",
       "\n",
       "[5 rows x 25 columns]"
      ]
     },
     "execution_count": 163,
     "metadata": {},
     "output_type": "execute_result"
    }
   ],
   "source": [
    "fifa.tail()"
   ]
  },
  {
   "cell_type": "markdown",
   "id": "219a7bd7",
   "metadata": {},
   "source": [
    "### P1 and P3"
   ]
  },
  {
   "cell_type": "code",
   "execution_count": 169,
   "id": "a851a30d",
   "metadata": {},
   "outputs": [
    {
     "name": "stdout",
     "output_type": "stream",
     "text": [
      "2.56 s ± 220 ms per loop (mean ± std. dev. of 7 runs, 1 loop each)\n"
     ]
    }
   ],
   "source": [
    "%%timeit\n",
    "(fifa\n",
    ".home_team_fifa_rank\n",
    ".apply(lambda x: \"high\" if x > fifa.home_team_fifa_rank.mean() else \"low\")\n",
    ")"
   ]
  },
  {
   "cell_type": "markdown",
   "id": "22dbe86d",
   "metadata": {},
   "source": [
    "### P2 and P3"
   ]
  },
  {
   "cell_type": "code",
   "execution_count": 170,
   "id": "5c6685ae",
   "metadata": {},
   "outputs": [
    {
     "name": "stdout",
     "output_type": "stream",
     "text": [
      "4.74 ms ± 1.28 ms per loop (mean ± std. dev. of 7 runs, 100 loops each)\n"
     ]
    }
   ],
   "source": [
    "%%timeit\n",
    "pd.Series(np.select([fifa.home_team_fifa_rank.gt(fifa.home_team_fifa_rank.mean())], [\"high\"], \"low\"))"
   ]
  },
  {
   "cell_type": "markdown",
   "id": "a582795d",
   "metadata": {},
   "source": [
    "### P4\n",
    "Fill in the missing values of a numeric series with the median."
   ]
  },
  {
   "cell_type": "code",
   "execution_count": 172,
   "id": "e83d694c",
   "metadata": {},
   "outputs": [
    {
     "data": {
      "text/plain": [
       "0        75.7\n",
       "1        75.7\n",
       "2        75.7\n",
       "3        75.7\n",
       "4        75.7\n",
       "         ... \n",
       "23916    75.7\n",
       "23917    75.7\n",
       "23918    76.7\n",
       "23919    75.0\n",
       "23920    80.0\n",
       "Name: home_team_mean_offense_score, Length: 23921, dtype: float64"
      ]
     },
     "execution_count": 172,
     "metadata": {},
     "output_type": "execute_result"
    }
   ],
   "source": [
    "(fifa\n",
    " .home_team_mean_offense_score\n",
    " .fillna(fifa.home_team_mean_offense_score.median())\n",
    ")"
   ]
  },
  {
   "cell_type": "markdown",
   "id": "bba4bce6",
   "metadata": {},
   "source": [
    "### P5\n",
    "Clip the values of a numeric series between the 10 and 90 percentiles"
   ]
  },
  {
   "cell_type": "code",
   "execution_count": 204,
   "id": "ff59029c",
   "metadata": {},
   "outputs": [
    {
     "data": {
      "text/plain": [
       "1.0    7229\n",
       "0.0    6273\n",
       "2.0    5263\n",
       "3.0    2613\n",
       "4.0    2543\n",
       "Name: home_team_score, dtype: int64"
      ]
     },
     "execution_count": 204,
     "metadata": {},
     "output_type": "execute_result"
    }
   ],
   "source": [
    "(fifa\n",
    " .home_team_score\n",
    " .clip(lower=fifa.home_team_score.quantile(0.10),\n",
    "      upper =fifa.home_team_score.quantile(0.90))\n",
    " .value_counts()\n",
    ")"
   ]
  },
  {
   "cell_type": "markdown",
   "id": "44c2c8c9",
   "metadata": {},
   "source": [
    "### P6 & P7\n",
    "Using a categorical column, replace any value not in the top five by count with \"other\". Do it again for top 10."
   ]
  },
  {
   "cell_type": "code",
   "execution_count": 211,
   "id": "487d6b39",
   "metadata": {},
   "outputs": [
    {
     "data": {
      "text/plain": [
       "Other             22490\n",
       "Mexico              316\n",
       "USA                 314\n",
       "Japan               280\n",
       "Saudi Arabia        272\n",
       "Korea Republic      249\n",
       "Name: home_team, dtype: int64"
      ]
     },
     "execution_count": 211,
     "metadata": {},
     "output_type": "execute_result"
    }
   ],
   "source": [
    "(fifa\n",
    " .home_team\n",
    " .where(fifa.home_team.isin(fifa.home_team.value_counts().index[:5]),\"Other\")\n",
    " .value_counts()\n",
    ")"
   ]
  },
  {
   "cell_type": "code",
   "execution_count": 214,
   "id": "fb0ec18a",
   "metadata": {},
   "outputs": [
    {
     "data": {
      "text/plain": [
       "Other                   21299\n",
       "Mexico                    316\n",
       "USA                       314\n",
       "Japan                     280\n",
       "Saudi Arabia              272\n",
       "Korea Republic            249\n",
       "Qatar                     249\n",
       "Oman                      241\n",
       "United Arab Emirates      239\n",
       "Brazil                    233\n",
       "South Africa              229\n",
       "Name: home_team, dtype: int64"
      ]
     },
     "execution_count": 214,
     "metadata": {},
     "output_type": "execute_result"
    }
   ],
   "source": [
    "(fifa\n",
    " .home_team\n",
    " .where(fifa.home_team.isin(fifa.home_team.value_counts().index[:10]),\"Other\")\n",
    " .value_counts()\n",
    ")"
   ]
  },
  {
   "cell_type": "markdown",
   "id": "5d876ab0",
   "metadata": {},
   "source": [
    "### P8\n",
    "Create a function that takes a categorical Series and a number n and replaces anything not in the top n value count with other."
   ]
  },
  {
   "cell_type": "code",
   "execution_count": 216,
   "id": "3fcd0f79",
   "metadata": {},
   "outputs": [],
   "source": [
    "# not an element based function, so cannot use apply method\n",
    "def top_n(s, n):\n",
    "    return s.where(s.isin(s.value_counts().index[:n]),\"Other\")"
   ]
  },
  {
   "cell_type": "code",
   "execution_count": 223,
   "id": "2d03298e",
   "metadata": {},
   "outputs": [
    {
     "data": {
      "text/plain": [
       "Other                   21299\n",
       "Mexico                    316\n",
       "USA                       314\n",
       "Japan                     280\n",
       "Saudi Arabia              272\n",
       "Korea Republic            249\n",
       "Qatar                     249\n",
       "Oman                      241\n",
       "United Arab Emirates      239\n",
       "Brazil                    233\n",
       "South Africa              229\n",
       "Name: home_team, dtype: int64"
      ]
     },
     "execution_count": 223,
     "metadata": {},
     "output_type": "execute_result"
    }
   ],
   "source": [
    "top_n(fifa.home_team,10).value_counts()"
   ]
  },
  {
   "cell_type": "markdown",
   "id": "f1232248",
   "metadata": {},
   "source": [
    "### P9\n",
    "Using a numeric column, bin it into 10 groups of equal width."
   ]
  },
  {
   "cell_type": "code",
   "execution_count": 226,
   "id": "f858a4e6",
   "metadata": {},
   "outputs": [
    {
     "data": {
      "text/plain": [
       "(-0.031, 3.1]    21378\n",
       "(3.1, 6.2]        2205\n",
       "(6.2, 9.3]         269\n",
       "(9.3, 12.4]         45\n",
       "(12.4, 15.5]        15\n",
       "(15.5, 18.6]         5\n",
       "(18.6, 21.7]         2\n",
       "(21.7, 24.8]         1\n",
       "(27.9, 31.0]         1\n",
       "(24.8, 27.9]         0\n",
       "Name: home_team_score, dtype: int64"
      ]
     },
     "execution_count": 226,
     "metadata": {},
     "output_type": "execute_result"
    }
   ],
   "source": [
    "pd.cut(fifa.home_team_score, 10).value_counts()"
   ]
  },
  {
   "cell_type": "markdown",
   "id": "5307b604",
   "metadata": {},
   "source": [
    "### P10\n",
    "Using a numeric column, bin data into 10 groups of equal size."
   ]
  },
  {
   "cell_type": "code",
   "execution_count": 236,
   "id": "7ca7a198",
   "metadata": {},
   "outputs": [
    {
     "data": {
      "text/plain": [
       "(-0.001, 1.0]    13502\n",
       "(1.0, 2.0]        5263\n",
       "(2.0, 3.0]        2613\n",
       "(3.0, 4.0]        1330\n",
       "(4.0, 31.0]       1213\n",
       "Name: home_team_score, dtype: int64"
      ]
     },
     "execution_count": 236,
     "metadata": {},
     "output_type": "execute_result"
    }
   ],
   "source": [
    "pd.qcut(fifa.home_team_score, 10, duplicates='drop').value_counts()"
   ]
  }
 ],
 "metadata": {
  "kernelspec": {
   "display_name": "Python 3 (ipykernel)",
   "language": "python",
   "name": "python3"
  },
  "language_info": {
   "codemirror_mode": {
    "name": "ipython",
    "version": 3
   },
   "file_extension": ".py",
   "mimetype": "text/x-python",
   "name": "python",
   "nbconvert_exporter": "python",
   "pygments_lexer": "ipython3",
   "version": "3.9.1"
  }
 },
 "nbformat": 4,
 "nbformat_minor": 5
}

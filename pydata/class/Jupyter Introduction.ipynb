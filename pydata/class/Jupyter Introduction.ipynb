{
 "cells": [
  {
   "cell_type": "markdown",
   "metadata": {},
   "source": [
    "# Jupyter\n",
    "\n",
    "(c) 2019 MetaSnake & Matt Harrison (``@__mharrison__``)\n",
    "\n",
    "Jupyter notebook is an environment for combining interactive coding and text in a webbrowser. This allows us to easily share code as well as narrative around that code. An example that was popular in the scientific community was [the discovery of gravitational waves.](https://losc.ligo.org/s/events/GW150914/GW150914_tutorial.html)\n",
    "\n",
    "The name Jupyter is a rebranding of an open source project previously known as iPython Notebook. The rebranding was to emphasize that although the backend is written in Python, it supports various *kernals* to run other languages, including Julia (the \"Ju\" portion), Python (\"pyt\"), and R (\"er\"). All popular *data science* programming languages.\n",
    "\n",
    "The architecture of Jupyter includes a server running various kernals. Using a *notebook* we can interact with a kernal. Typically we use a webbrowser to do this, but there are other iterfaces, such as an emacs mode (ein).\n",
    "\n",
    "### Collaboratory\n",
    "\n",
    "Google has a version of Jupyter called Colab. Most of the commands are the same except you need to prefix them with ``ctr-m`` (or ``cmd-m`` on Mac)."
   ]
  },
  {
   "cell_type": "code",
   "execution_count": 1,
   "metadata": {},
   "outputs": [],
   "source": [
    "# Example - type enter to go into edit mode\n",
    "# Replace the value of name with your name\n",
    "# Hit ctl-enter to execute this cell and go back to command mode\n",
    "name = 'Keith'"
   ]
  },
  {
   "cell_type": "markdown",
   "metadata": {},
   "source": [
    "# MOVED TO JUPYTER HUB\n",
    "goto/jupyterhub\n",
    "Folder: 01 - KNH"
   ]
  },
  {
   "cell_type": "markdown",
   "metadata": {},
   "source": [
    "## Hello World Exercise:\n",
    "\n",
    "* Run the above cell by clicking on it and then typing ``ctr-enter``\n",
    "* This will put you back in command mode\n",
    "* Type ``b`` to make a cell below\n",
    "* Hit ``enter`` to type ``name`` into the cell. Then run it"
   ]
  },
  {
   "cell_type": "code",
   "execution_count": null,
   "metadata": {},
   "outputs": [],
   "source": []
  },
  {
   "cell_type": "code",
   "execution_count": null,
   "metadata": {},
   "outputs": [],
   "source": []
  },
  {
   "cell_type": "markdown",
   "metadata": {},
   "source": [
    "# Command Mode\n",
    "\n",
    "*Command Mode* gives to the ability to create, copy, paste, move, and execute cells. A few keys to know:\n",
    "\n",
    "* h - Bring up help (ESC to dismiss)\n",
    "* a - Create cell above\n",
    "* b - Create cell below\n",
    "* x - Cut cell *\n",
    "* c - Copy cell *\n",
    "* v - Paste cell below *\n",
    "* Enter - Go into Edit Mode\n",
    "* m - Change cell type to Markdown\n",
    "* y - Change cell type to code\n",
    "* ii - Interrupt kernel (i in Colab)\n",
    "* 00 - Restart kernel (. in Colab)\n",
    "\n",
    "``*`` - No Colab shortcut"
   ]
  },
  {
   "cell_type": "markdown",
   "metadata": {},
   "source": [
    "## Non-linear Exercise\n",
    "* In command mode use the Cut command (``x``) to cut the cell with ``name = \"...`` and the Paste command (``v``) to paste it below the cell with ``name`` in it.\n",
    "* Restart the kernel (``00``)\n",
    "* Execute those cells in order. (This should fail. Think about why)"
   ]
  },
  {
   "cell_type": "code",
   "execution_count": null,
   "metadata": {},
   "outputs": [],
   "source": []
  },
  {
   "cell_type": "code",
   "execution_count": null,
   "metadata": {
    "lines_to_next_cell": 2
   },
   "outputs": [],
   "source": []
  },
  {
   "cell_type": "markdown",
   "metadata": {},
   "source": [
    "## Edit Mode\n",
    "To enter *Edit Mode* you need to click on a cell or hit enter when it is surrounded by the blue outline. You will see that it goes green if you are in edit mode. In edit mode you have basic editing functionality. A few keys to know:\n",
    "\n",
    "* Ctr-Enter - Run cell (execute Python code, render Markdown)\n",
    "* ESC - Go back to command mode\n",
    "* TAB - Tab completion\n",
    "* Shift-TAB - Bring up tooltip (ESC to dismiss)"
   ]
  },
  {
   "cell_type": "markdown",
   "metadata": {},
   "source": [
    "## Edit Exercise:\n",
    "\n",
    "* Create a new cell below, type ``import sys`` in it, and run the cell.\n",
    "* Create a cell below and type ``sy`` and then hit TAB. Hit ENTER to complete ``sys``.\n",
    "* We want to type ``sys.path`` using tab completion. Type ``.`` right after ``sys``. Hit TAB. Type ``p`` and hit TAB again. When you get to ``path`` hit enter.\n",
    "* We want the tooltip for the built-in ``range`` function. Type ``range`` then hit shift-TAB four times."
   ]
  },
  {
   "cell_type": "code",
   "execution_count": null,
   "metadata": {},
   "outputs": [],
   "source": []
  },
  {
   "cell_type": "code",
   "execution_count": null,
   "metadata": {
    "lines_to_next_cell": 2
   },
   "outputs": [],
   "source": []
  },
  {
   "cell_type": "markdown",
   "metadata": {},
   "source": [
    "## Jupyter hints and Tricks\n",
    "\n",
    "## Markdown\n",
    "\n",
    "Can make *italicized*, **bold**, and ``monospaced text``:\n",
    "\n",
    "    Can make *italicized*, **bold**, and ``monospaced text``\n",
    "\n",
    "\n",
    "Headers:\n",
    "\n",
    "    # H1\n",
    "    ## H2\n",
    "    ### H3\n",
    " \n",
    "Lists:\n",
    "\n",
    "    * First item\n",
    "    * Second item\n",
    "    \n",
    "Code:\n",
    "\n",
    "    If you indent by four spaces you have code:\n",
    "    \n",
    "        def add(x, y):\n",
    "            return x + yt\n",
    "\n",
    "Image:\n",
    "\n",
    "  ![alt text](/path/to/image.png \"Image Title\")\n",
    "\n",
    "## Cell Magic\n",
    "\n",
    "type and run ``%lsmagic`` in a cell.\n",
    "\n",
    "Common magics include:\n",
    "\n",
    "* ``%%time`` - time how long it takes to run cell\n",
    "* ``%matplotlib inline`` - show matplotlib plots\n",
    "\n",
    "To get documentation for cell magic run ``?%matplotlib``.\n",
    "\n",
    "## Shell Commands\n",
    "\n",
    "* ``!ls`` - run ``ls`` on the server (might not work on Windows)\n",
    "\n",
    "## IPython Help\n",
    "Add ? after function, method, etc for documentation (can also run shift-tab 4 times in notebook). Add ?? after function, method, etc to see the source."
   ]
  },
  {
   "cell_type": "markdown",
   "metadata": {},
   "source": [
    "## Jupyter Extras Exercise\n",
    "* Import the ``pandas`` library\n",
    "* Get the documentation for ``pandas.read_csv``\n",
    "* Get the source for ``pandas.read_csv``"
   ]
  },
  {
   "cell_type": "code",
   "execution_count": null,
   "metadata": {},
   "outputs": [],
   "source": []
  },
  {
   "cell_type": "code",
   "execution_count": null,
   "metadata": {
    "lines_to_next_cell": 2
   },
   "outputs": [],
   "source": []
  },
  {
   "cell_type": "markdown",
   "metadata": {},
   "source": [
    "## Extras / Best Practices\n",
    "\n",
    "The ``jupytext`` tool is useful to synchronize Notebooks into Python scripts (and roundtrip them). Install the tool and then click on Edit -> \"Edit Notebook Metadata\" and add into the JSON:\n",
    "\n",
    "    \"jupytext\": {\n",
    "      \"formats\": \"ipynb,py:light\"\n",
    "      },\n",
    "      \n",
    "* Use a standardized layout for your projects. https://github.com/drivendata/cookiecutter-data-science is a good starting point\n",
    "* Put some documentation at the top of your notebook to remind you what it does (Summary, people involved, business decisions/questions, changelog)\n"
   ]
  },
  {
   "cell_type": "code",
   "execution_count": null,
   "metadata": {},
   "outputs": [],
   "source": []
  }
 ],
 "metadata": {
  "kernelspec": {
   "display_name": "Python 3 (ipykernel)",
   "language": "python",
   "name": "python3"
  },
  "language_info": {
   "codemirror_mode": {
    "name": "ipython",
    "version": 3
   },
   "file_extension": ".py",
   "mimetype": "text/x-python",
   "name": "python",
   "nbconvert_exporter": "python",
   "pygments_lexer": "ipython3",
   "version": "3.9.1"
  }
 },
 "nbformat": 4,
 "nbformat_minor": 4
}
